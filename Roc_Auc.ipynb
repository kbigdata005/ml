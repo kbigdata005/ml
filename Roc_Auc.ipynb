{
 "cells": [
  {
   "cell_type": "markdown",
   "id": "51c12ffc-1213-43db-8a7d-21b0f3382e00",
   "metadata": {},
   "source": [
    "### sklearn.metrics.roc_curve\n",
    "* sklearn.metrics.roc_curve(y_true, y_score, *, pos_label=None, sample_weight=None, drop_intermediate=True)\n",
    "* y_score : Target scores, can either be probability estimates of the positive class, confidence values, or non-thresholded measure of decisions (as returned by “decision_function” on some classifiers)"
   ]
  },
  {
   "cell_type": "code",
   "execution_count": 1,
   "id": "b106176c-7aa0-4756-b59e-7a084d32c29b",
   "metadata": {},
   "outputs": [],
   "source": [
    "import pandas as pd\n",
    "from sklearn.preprocessing import LabelEncoder\n",
    "from sklearn.preprocessing import MinMaxScaler\n",
    "from sklearn.linear_model import LogisticRegression\n",
    "\n",
    "import numpy as np\n",
    "\n",
    "import warnings\n",
    "warnings.filterwarnings('ignore')"
   ]
  },
  {
   "cell_type": "code",
   "execution_count": 4,
   "id": "335e29a3-d31d-49bb-8438-32650665634b",
   "metadata": {},
   "outputs": [],
   "source": [
    "train_df = pd.read_csv('./datasets/titanic_train.csv')\n",
    "test_df = pd.read_csv('./datasets/titanic_test.csv')\n",
    "test_y_df=pd.read_csv('./datasets/titanic_gender_submission.csv')\n",
    "train = train_df[['Pclass' , 'Sex' , 'Age' ,'Survived']]\n",
    "test = test_df[['Pclass' , 'Sex' , 'Age' ]]\n",
    "test_y = test_y_df['Survived']"
   ]
  },
  {
   "cell_type": "code",
   "execution_count": 5,
   "id": "8b211a1f-1a26-46ee-9236-31826a2ae042",
   "metadata": {},
   "outputs": [
    {
     "data": {
      "text/html": [
       "<style>#sk-container-id-1 {color: black;}#sk-container-id-1 pre{padding: 0;}#sk-container-id-1 div.sk-toggleable {background-color: white;}#sk-container-id-1 label.sk-toggleable__label {cursor: pointer;display: block;width: 100%;margin-bottom: 0;padding: 0.3em;box-sizing: border-box;text-align: center;}#sk-container-id-1 label.sk-toggleable__label-arrow:before {content: \"▸\";float: left;margin-right: 0.25em;color: #696969;}#sk-container-id-1 label.sk-toggleable__label-arrow:hover:before {color: black;}#sk-container-id-1 div.sk-estimator:hover label.sk-toggleable__label-arrow:before {color: black;}#sk-container-id-1 div.sk-toggleable__content {max-height: 0;max-width: 0;overflow: hidden;text-align: left;background-color: #f0f8ff;}#sk-container-id-1 div.sk-toggleable__content pre {margin: 0.2em;color: black;border-radius: 0.25em;background-color: #f0f8ff;}#sk-container-id-1 input.sk-toggleable__control:checked~div.sk-toggleable__content {max-height: 200px;max-width: 100%;overflow: auto;}#sk-container-id-1 input.sk-toggleable__control:checked~label.sk-toggleable__label-arrow:before {content: \"▾\";}#sk-container-id-1 div.sk-estimator input.sk-toggleable__control:checked~label.sk-toggleable__label {background-color: #d4ebff;}#sk-container-id-1 div.sk-label input.sk-toggleable__control:checked~label.sk-toggleable__label {background-color: #d4ebff;}#sk-container-id-1 input.sk-hidden--visually {border: 0;clip: rect(1px 1px 1px 1px);clip: rect(1px, 1px, 1px, 1px);height: 1px;margin: -1px;overflow: hidden;padding: 0;position: absolute;width: 1px;}#sk-container-id-1 div.sk-estimator {font-family: monospace;background-color: #f0f8ff;border: 1px dotted black;border-radius: 0.25em;box-sizing: border-box;margin-bottom: 0.5em;}#sk-container-id-1 div.sk-estimator:hover {background-color: #d4ebff;}#sk-container-id-1 div.sk-parallel-item::after {content: \"\";width: 100%;border-bottom: 1px solid gray;flex-grow: 1;}#sk-container-id-1 div.sk-label:hover label.sk-toggleable__label {background-color: #d4ebff;}#sk-container-id-1 div.sk-serial::before {content: \"\";position: absolute;border-left: 1px solid gray;box-sizing: border-box;top: 0;bottom: 0;left: 50%;z-index: 0;}#sk-container-id-1 div.sk-serial {display: flex;flex-direction: column;align-items: center;background-color: white;padding-right: 0.2em;padding-left: 0.2em;position: relative;}#sk-container-id-1 div.sk-item {position: relative;z-index: 1;}#sk-container-id-1 div.sk-parallel {display: flex;align-items: stretch;justify-content: center;background-color: white;position: relative;}#sk-container-id-1 div.sk-item::before, #sk-container-id-1 div.sk-parallel-item::before {content: \"\";position: absolute;border-left: 1px solid gray;box-sizing: border-box;top: 0;bottom: 0;left: 50%;z-index: -1;}#sk-container-id-1 div.sk-parallel-item {display: flex;flex-direction: column;z-index: 1;position: relative;background-color: white;}#sk-container-id-1 div.sk-parallel-item:first-child::after {align-self: flex-end;width: 50%;}#sk-container-id-1 div.sk-parallel-item:last-child::after {align-self: flex-start;width: 50%;}#sk-container-id-1 div.sk-parallel-item:only-child::after {width: 0;}#sk-container-id-1 div.sk-dashed-wrapped {border: 1px dashed gray;margin: 0 0.4em 0.5em 0.4em;box-sizing: border-box;padding-bottom: 0.4em;background-color: white;}#sk-container-id-1 div.sk-label label {font-family: monospace;font-weight: bold;display: inline-block;line-height: 1.2em;}#sk-container-id-1 div.sk-label-container {text-align: center;}#sk-container-id-1 div.sk-container {/* jupyter's `normalize.less` sets `[hidden] { display: none; }` but bootstrap.min.css set `[hidden] { display: none !important; }` so we also need the `!important` here to be able to override the default hidden behavior on the sphinx rendered scikit-learn.org. See: https://github.com/scikit-learn/scikit-learn/issues/21755 */display: inline-block !important;position: relative;}#sk-container-id-1 div.sk-text-repr-fallback {display: none;}</style><div id=\"sk-container-id-1\" class=\"sk-top-container\"><div class=\"sk-text-repr-fallback\"><pre>LogisticRegression()</pre><b>In a Jupyter environment, please rerun this cell to show the HTML representation or trust the notebook. <br />On GitHub, the HTML representation is unable to render, please try loading this page with nbviewer.org.</b></div><div class=\"sk-container\" hidden><div class=\"sk-item\"><div class=\"sk-estimator sk-toggleable\"><input class=\"sk-toggleable__control sk-hidden--visually\" id=\"sk-estimator-id-1\" type=\"checkbox\" checked><label for=\"sk-estimator-id-1\" class=\"sk-toggleable__label sk-toggleable__label-arrow\">LogisticRegression</label><div class=\"sk-toggleable__content\"><pre>LogisticRegression()</pre></div></div></div></div></div>"
      ],
      "text/plain": [
       "LogisticRegression()"
      ]
     },
     "execution_count": 5,
     "metadata": {},
     "output_type": "execute_result"
    }
   ],
   "source": [
    "train = train.dropna(axis=0)\n",
    "\n",
    "# Sex labelencding\n",
    "encoder = LabelEncoder()\n",
    "data = encoder.fit_transform(train['Sex'])\n",
    "train['Sex']=data\n",
    "\n",
    "# Age Scaling\n",
    "scaler = MinMaxScaler()\n",
    "scaler.fit(train[['Age']])\n",
    "data = scaler.transform(train[['Age']])\n",
    "\n",
    "train['Age']= data\n",
    "\n",
    "X = train.drop('Survived' ,axis=1)\n",
    "y = train['Survived']\n",
    "lr = LogisticRegression()\n",
    "\n",
    "lr.fit(X , y)"
   ]
  },
  {
   "cell_type": "code",
   "execution_count": 6,
   "id": "fb12f377-0634-472c-9ab1-85ab3b9d2561",
   "metadata": {},
   "outputs": [],
   "source": [
    "# test data preprocessing\n",
    "test = test.fillna(np.mean(test['Age']))\n",
    "\n",
    "# Sex labelencding\n",
    "encoder = LabelEncoder()\n",
    "data = encoder.fit_transform(test['Sex'])\n",
    "test['Sex']=data\n",
    "\n",
    "# Age Scaling\n",
    "scaler = MinMaxScaler()\n",
    "scaler.fit(test[['Age']])\n",
    "data = scaler.transform(test[['Age']])\n",
    "\n",
    "test['Age']= data\n",
    "\n",
    "pred_proba = lr.predict_proba(test)"
   ]
  },
  {
   "cell_type": "code",
   "execution_count": 8,
   "id": "1eebf21d-67ed-4417-8c0f-1e74872d478b",
   "metadata": {},
   "outputs": [],
   "source": [
    "from sklearn.metrics import roc_curve\n",
    "\n",
    "fpr , tpr , threshosd = roc_curve(test_y ,pred_proba[: , 1] )"
   ]
  },
  {
   "cell_type": "code",
   "execution_count": 14,
   "id": "5b72ab06-0955-4425-80d3-c2d2b0dccab3",
   "metadata": {},
   "outputs": [],
   "source": [
    "from  sklearn.tree import DecisionTreeClassifier\n",
    "dt = DecisionTreeClassifier(random_state=42)\n",
    "dt.fit(X ,y)\n",
    "dt_pred_proba = dt.predict_proba(test)\n",
    "dt_fpr , dt_tpr , dt_threshosd = roc_curve(test_y ,dt_pred_proba[: , 1] )"
   ]
  },
  {
   "cell_type": "code",
   "execution_count": 15,
   "id": "ae988915-5ee3-4bfc-8f9f-930627ea14c8",
   "metadata": {},
   "outputs": [
    {
     "data": {
      "image/png": "[encoded data removed]",
      "text/plain": [
       "<Figure size 640x480 with 1 Axes>"
      ]
     },
     "metadata": {},
     "output_type": "display_data"
    }
   ],
   "source": [
    "import matplotlib.pyplot as plt\n",
    "\n",
    "plt.title(\"ROC CURVE\")\n",
    "\n",
    "plt.xlabel(\"fpr\"   )\n",
    "plt.ylabel(\"tpr\")\n",
    "\n",
    "plt.plot(fpr, tpr , \"b\", label = \"Logistic Regression\" )\n",
    "plt.plot(dt_fpr, dt_tpr , \"r\", label = \"Decision Tree\" )\n",
    "\n",
    "plt.legend(loc = \"lower right\")\n",
    "\n",
    "plt.show()"
   ]
  },
  {
   "cell_type": "code",
   "execution_count": null,
   "id": "4936f837-0ad8-4804-b908-28b257c2b35d",
   "metadata": {},
   "outputs": [],
   "source": []
  }
 ],
 "metadata": {
  "kernelspec": {
   "display_name": "Python 3 (ipykernel)",
   "language": "python",
   "name": "python3"
  },
  "language_info": {
   "codemirror_mode": {
    "name": "ipython",
    "version": 3
   },
   "file_extension": ".py",
   "mimetype": "text/x-python",
   "name": "python",
   "nbconvert_exporter": "python",
   "pygments_lexer": "ipython3",
   "version": "3.11.5"
  }
 },
 "nbformat": 4,
 "nbformat_minor": 5
}
