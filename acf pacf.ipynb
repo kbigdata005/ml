{
 "cells": [
  {
   "cell_type": "code",
   "execution_count": 6,
   "id": "72ffefff-fe7a-4f74-a238-8fd80d6302a1",
   "metadata": {},
   "outputs": [
    {
     "data": {
      "text/html": [
       "<div>\n",
       "<style scoped>\n",
       "    .dataframe tbody tr th:only-of-type {\n",
       "        vertical-align: middle;\n",
       "    }\n",
       "\n",
       "    .dataframe tbody tr th {\n",
       "        vertical-align: top;\n",
       "    }\n",
       "\n",
       "    .dataframe thead th {\n",
       "        text-align: right;\n",
       "    }\n",
       "</style>\n",
       "<table border=\"1\" class=\"dataframe\">\n",
       "  <thead>\n",
       "    <tr style=\"text-align: right;\">\n",
       "      <th></th>\n",
       "      <th>Open</th>\n",
       "      <th>High</th>\n",
       "      <th>Low</th>\n",
       "      <th>Close</th>\n",
       "      <th>Adj Close</th>\n",
       "      <th>Volume</th>\n",
       "    </tr>\n",
       "    <tr>\n",
       "      <th>Date</th>\n",
       "      <th></th>\n",
       "      <th></th>\n",
       "      <th></th>\n",
       "      <th></th>\n",
       "      <th></th>\n",
       "      <th></th>\n",
       "    </tr>\n",
       "  </thead>\n",
       "  <tbody>\n",
       "    <tr>\n",
       "      <th>1980-01-02</th>\n",
       "      <td>0.0</td>\n",
       "      <td>108.430000</td>\n",
       "      <td>105.290001</td>\n",
       "      <td>105.760002</td>\n",
       "      <td>105.760002</td>\n",
       "      <td>40610000</td>\n",
       "    </tr>\n",
       "    <tr>\n",
       "      <th>1980-01-03</th>\n",
       "      <td>0.0</td>\n",
       "      <td>106.080002</td>\n",
       "      <td>103.260002</td>\n",
       "      <td>105.220001</td>\n",
       "      <td>105.220001</td>\n",
       "      <td>50480000</td>\n",
       "    </tr>\n",
       "    <tr>\n",
       "      <th>1980-01-04</th>\n",
       "      <td>0.0</td>\n",
       "      <td>107.080002</td>\n",
       "      <td>105.089996</td>\n",
       "      <td>106.519997</td>\n",
       "      <td>106.519997</td>\n",
       "      <td>39130000</td>\n",
       "    </tr>\n",
       "    <tr>\n",
       "      <th>1980-01-07</th>\n",
       "      <td>0.0</td>\n",
       "      <td>107.800003</td>\n",
       "      <td>105.800003</td>\n",
       "      <td>106.809998</td>\n",
       "      <td>106.809998</td>\n",
       "      <td>44500000</td>\n",
       "    </tr>\n",
       "    <tr>\n",
       "      <th>1980-01-08</th>\n",
       "      <td>0.0</td>\n",
       "      <td>109.290001</td>\n",
       "      <td>106.290001</td>\n",
       "      <td>108.949997</td>\n",
       "      <td>108.949997</td>\n",
       "      <td>53390000</td>\n",
       "    </tr>\n",
       "  </tbody>\n",
       "</table>\n",
       "</div>"
      ],
      "text/plain": [
       "            Open        High         Low       Close   Adj Close    Volume\n",
       "Date                                                                      \n",
       "1980-01-02   0.0  108.430000  105.290001  105.760002  105.760002  40610000\n",
       "1980-01-03   0.0  106.080002  103.260002  105.220001  105.220001  50480000\n",
       "1980-01-04   0.0  107.080002  105.089996  106.519997  106.519997  39130000\n",
       "1980-01-07   0.0  107.800003  105.800003  106.809998  106.809998  44500000\n",
       "1980-01-08   0.0  109.290001  106.290001  108.949997  108.949997  53390000"
      ]
     },
     "execution_count": 6,
     "metadata": {},
     "output_type": "execute_result"
    }
   ],
   "source": [
    "import FinanceDataReader as fdr\n",
    "\n",
    "# S&P 500 종목 전체\n",
    "df_spx = fdr.StockListing('S&P500')\n",
    "df_spx.head()\n",
    "\n",
    "df = fdr.DataReader('S&P500', '2018')\n",
    "df.head()"
   ]
  },
  {
   "cell_type": "code",
   "execution_count": 7,
   "id": "032e3337-19c1-406b-9169-29a17f0a97d1",
   "metadata": {},
   "outputs": [
    {
     "data": {
      "image/png": "[encoded data removed]",
      "text/plain": [
       "<Figure size 640x480 with 2 Axes>"
      ]
     },
     "metadata": {},
     "output_type": "display_data"
    }
   ],
   "source": [
    "import statsmodels.graphics.tsaplots as sgt \n",
    "import matplotlib.pyplot as plt\n",
    "\n",
    "## Close\n",
    "fig = plt.figure()\n",
    "ax1 = fig.add_subplot(2, 1, 1)\n",
    "ax2 = fig.add_subplot(2, 1, 2)\n",
    "\n",
    "sgt.plot_acf(df['Close'], lags = 20, zero = False, ax=ax1)\n",
    "ax1.set_title(\"ACF S&P\")\n",
    "\n",
    "\n",
    "sgt.plot_pacf(df['Close'], lags = 20, zero = False, method = ('ols'), ax=ax2)\n",
    "ax2.set_title(\"PACF S&P\")\n",
    "\n",
    "plt.show()"
   ]
  },
  {
   "cell_type": "code",
   "execution_count": null,
   "id": "0ad9c32e-e4fa-4fae-baca-0b6c15b127fa",
   "metadata": {},
   "outputs": [],
   "source": []
  }
 ],
 "metadata": {
  "kernelspec": {
   "display_name": "Python 3 (ipykernel)",
   "language": "python",
   "name": "python3"
  },
  "language_info": {
   "codemirror_mode": {
    "name": "ipython",
    "version": 3
   },
   "file_extension": ".py",
   "mimetype": "text/x-python",
   "name": "python",
   "nbconvert_exporter": "python",
   "pygments_lexer": "ipython3",
   "version": "3.11.5"
  }
 },
 "nbformat": 4,
 "nbformat_minor": 5
}
