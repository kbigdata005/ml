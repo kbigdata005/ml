{
 "cells": [
  {
   "cell_type": "markdown",
   "id": "2bc6235c-a63e-4490-a200-c6c2119ca2d8",
   "metadata": {},
   "source": [
    "### sklearn.linear_model.LinearRegression\n",
    "* class sklearn.linear_model.LinearRegression(*, fit_intercept=True, copy_X=True, n_jobs=None, positive=False)"
   ]
  },
  {
   "cell_type": "code",
   "execution_count": 4,
   "id": "ef3bd316-735f-4a51-8695-7daccbadd1c6",
   "metadata": {},
   "outputs": [],
   "source": [
    "from sklearn.datasets import load_diabetes\n",
    "from sklearn.model_selection import train_test_split\n",
    "from sklearn.model_selection import cross_val_score\n",
    "from sklearn.linear_model import LinearRegression\n",
    "\n",
    "diabets = load_diabetes()\n",
    "# diabets"
   ]
  },
  {
   "cell_type": "code",
   "execution_count": 3,
   "id": "ee036bdf-9530-4f25-aea2-9edbbbe1c80c",
   "metadata": {},
   "outputs": [],
   "source": [
    "X_train , X_test , y_train , y_test = train_test_split(diabets.data , diabets.target , test_size=0.2 , random_state=112)"
   ]
  },
  {
   "cell_type": "code",
   "execution_count": 11,
   "id": "1f09efe9-1a59-4bc3-b2b6-bc4c9e0873bd",
   "metadata": {},
   "outputs": [],
   "source": [
    "lr = LinearRegression()\n",
    "result = cross_val_score(lr , X_train ,y_train , cv=5,scoring='neg_mean_absolute_error' )"
   ]
  },
  {
   "cell_type": "code",
   "execution_count": 12,
   "id": "2ff0b43e-dbba-4d13-ab8c-0a3dade69bde",
   "metadata": {},
   "outputs": [
    {
     "data": {
      "text/plain": [
       "array([-47.93682016, -37.11998228, -40.90061021, -44.68052076,\n",
       "       -50.44944355])"
      ]
     },
     "execution_count": 12,
     "metadata": {},
     "output_type": "execute_result"
    }
   ],
   "source": [
    "result"
   ]
  },
  {
   "cell_type": "code",
   "execution_count": 13,
   "id": "12409918-a65c-41de-8922-b137e6a7daca",
   "metadata": {},
   "outputs": [
    {
     "data": {
      "text/plain": [
       "-44.217475391255924"
      ]
     },
     "execution_count": 13,
     "metadata": {},
     "output_type": "execute_result"
    }
   ],
   "source": [
    "import numpy as np\n",
    "\n",
    "np.mean(result)"
   ]
  },
  {
   "cell_type": "code",
   "execution_count": 15,
   "id": "4f17632e-915c-4280-ad31-c9fe88b3519b",
   "metadata": {},
   "outputs": [],
   "source": [
    "lr.fit(X_train ,y_train)\n",
    "pred = lr.predict(X_test)"
   ]
  },
  {
   "cell_type": "code",
   "execution_count": 16,
   "id": "71de25d1-c6c3-4ba6-bfca-4b6af05ad9a6",
   "metadata": {},
   "outputs": [],
   "source": [
    "from sklearn.metrics import r2_score ,mean_squared_error\n",
    "\n",
    "r2_result = r2_score(y_test , pred)\n",
    "\n",
    "root_mse = np.sqrt(mean_squared_error(y_test , pred))"
   ]
  },
  {
   "cell_type": "code",
   "execution_count": 17,
   "id": "0c666099-a2d9-49a3-9c71-88119f209751",
   "metadata": {},
   "outputs": [
    {
     "data": {
      "text/plain": [
       "0.44785616863711253"
      ]
     },
     "execution_count": 17,
     "metadata": {},
     "output_type": "execute_result"
    }
   ],
   "source": [
    "r2_result"
   ]
  },
  {
   "cell_type": "code",
   "execution_count": 18,
   "id": "b74061fd-2493-4829-bfe8-43324627d06f",
   "metadata": {},
   "outputs": [
    {
     "data": {
      "text/plain": [
       "55.68017195242843"
      ]
     },
     "execution_count": 18,
     "metadata": {},
     "output_type": "execute_result"
    }
   ],
   "source": [
    "root_mse"
   ]
  },
  {
   "cell_type": "code",
   "execution_count": 19,
   "id": "3deffa93-064f-4d46-a02c-844e2c64ec01",
   "metadata": {},
   "outputs": [
    {
     "data": {
      "text/plain": [
       "array([0.05402254, 0.00720991, 0.29756823, 0.10330833, 0.04632265,\n",
       "       0.05116815, 0.05075372, 0.02130769, 0.30021896, 0.06811981])"
      ]
     },
     "execution_count": 19,
     "metadata": {},
     "output_type": "execute_result"
    }
   ],
   "source": [
    "from sklearn.ensemble import RandomForestRegressor\n",
    "\n",
    "rfc = RandomForestRegressor(random_state=112)\n",
    "rfc.fit(X_train , y_train )\n",
    "\n",
    "rfc.feature_importances_"
   ]
  },
  {
   "cell_type": "code",
   "execution_count": 45,
   "id": "a895c1b5-cde1-4c38-a28f-e544f8ba73e5",
   "metadata": {},
   "outputs": [],
   "source": [
    "feature_selected = X_train[: , [0,2,3,8,9]]\n",
    "feature_selected_test = X_test[: , [0,2,3,8,9]]"
   ]
  },
  {
   "cell_type": "code",
   "execution_count": 46,
   "id": "8eff75dc-2d15-4326-adf2-b5140f0687fe",
   "metadata": {},
   "outputs": [
    {
     "data": {
      "text/html": [
       "<style>#sk-container-id-6 {color: black;}#sk-container-id-6 pre{padding: 0;}#sk-container-id-6 div.sk-toggleable {background-color: white;}#sk-container-id-6 label.sk-toggleable__label {cursor: pointer;display: block;width: 100%;margin-bottom: 0;padding: 0.3em;box-sizing: border-box;text-align: center;}#sk-container-id-6 label.sk-toggleable__label-arrow:before {content: \"▸\";float: left;margin-right: 0.25em;color: #696969;}#sk-container-id-6 label.sk-toggleable__label-arrow:hover:before {color: black;}#sk-container-id-6 div.sk-estimator:hover label.sk-toggleable__label-arrow:before {color: black;}#sk-container-id-6 div.sk-toggleable__content {max-height: 0;max-width: 0;overflow: hidden;text-align: left;background-color: #f0f8ff;}#sk-container-id-6 div.sk-toggleable__content pre {margin: 0.2em;color: black;border-radius: 0.25em;background-color: #f0f8ff;}#sk-container-id-6 input.sk-toggleable__control:checked~div.sk-toggleable__content {max-height: 200px;max-width: 100%;overflow: auto;}#sk-container-id-6 input.sk-toggleable__control:checked~label.sk-toggleable__label-arrow:before {content: \"▾\";}#sk-container-id-6 div.sk-estimator input.sk-toggleable__control:checked~label.sk-toggleable__label {background-color: #d4ebff;}#sk-container-id-6 div.sk-label input.sk-toggleable__control:checked~label.sk-toggleable__label {background-color: #d4ebff;}#sk-container-id-6 input.sk-hidden--visually {border: 0;clip: rect(1px 1px 1px 1px);clip: rect(1px, 1px, 1px, 1px);height: 1px;margin: -1px;overflow: hidden;padding: 0;position: absolute;width: 1px;}#sk-container-id-6 div.sk-estimator {font-family: monospace;background-color: #f0f8ff;border: 1px dotted black;border-radius: 0.25em;box-sizing: border-box;margin-bottom: 0.5em;}#sk-container-id-6 div.sk-estimator:hover {background-color: #d4ebff;}#sk-container-id-6 div.sk-parallel-item::after {content: \"\";width: 100%;border-bottom: 1px solid gray;flex-grow: 1;}#sk-container-id-6 div.sk-label:hover label.sk-toggleable__label {background-color: #d4ebff;}#sk-container-id-6 div.sk-serial::before {content: \"\";position: absolute;border-left: 1px solid gray;box-sizing: border-box;top: 0;bottom: 0;left: 50%;z-index: 0;}#sk-container-id-6 div.sk-serial {display: flex;flex-direction: column;align-items: center;background-color: white;padding-right: 0.2em;padding-left: 0.2em;position: relative;}#sk-container-id-6 div.sk-item {position: relative;z-index: 1;}#sk-container-id-6 div.sk-parallel {display: flex;align-items: stretch;justify-content: center;background-color: white;position: relative;}#sk-container-id-6 div.sk-item::before, #sk-container-id-6 div.sk-parallel-item::before {content: \"\";position: absolute;border-left: 1px solid gray;box-sizing: border-box;top: 0;bottom: 0;left: 50%;z-index: -1;}#sk-container-id-6 div.sk-parallel-item {display: flex;flex-direction: column;z-index: 1;position: relative;background-color: white;}#sk-container-id-6 div.sk-parallel-item:first-child::after {align-self: flex-end;width: 50%;}#sk-container-id-6 div.sk-parallel-item:last-child::after {align-self: flex-start;width: 50%;}#sk-container-id-6 div.sk-parallel-item:only-child::after {width: 0;}#sk-container-id-6 div.sk-dashed-wrapped {border: 1px dashed gray;margin: 0 0.4em 0.5em 0.4em;box-sizing: border-box;padding-bottom: 0.4em;background-color: white;}#sk-container-id-6 div.sk-label label {font-family: monospace;font-weight: bold;display: inline-block;line-height: 1.2em;}#sk-container-id-6 div.sk-label-container {text-align: center;}#sk-container-id-6 div.sk-container {/* jupyter's `normalize.less` sets `[hidden] { display: none; }` but bootstrap.min.css set `[hidden] { display: none !important; }` so we also need the `!important` here to be able to override the default hidden behavior on the sphinx rendered scikit-learn.org. See: https://github.com/scikit-learn/scikit-learn/issues/21755 */display: inline-block !important;position: relative;}#sk-container-id-6 div.sk-text-repr-fallback {display: none;}</style><div id=\"sk-container-id-6\" class=\"sk-top-container\"><div class=\"sk-text-repr-fallback\"><pre>LinearRegression()</pre><b>In a Jupyter environment, please rerun this cell to show the HTML representation or trust the notebook. <br />On GitHub, the HTML representation is unable to render, please try loading this page with nbviewer.org.</b></div><div class=\"sk-container\" hidden><div class=\"sk-item\"><div class=\"sk-estimator sk-toggleable\"><input class=\"sk-toggleable__control sk-hidden--visually\" id=\"sk-estimator-id-6\" type=\"checkbox\" checked><label for=\"sk-estimator-id-6\" class=\"sk-toggleable__label sk-toggleable__label-arrow\">LinearRegression</label><div class=\"sk-toggleable__content\"><pre>LinearRegression()</pre></div></div></div></div></div>"
      ],
      "text/plain": [
       "LinearRegression()"
      ]
     },
     "execution_count": 46,
     "metadata": {},
     "output_type": "execute_result"
    }
   ],
   "source": [
    "lr.fit(feature_selected ,y_train)"
   ]
  },
  {
   "cell_type": "code",
   "execution_count": 47,
   "id": "6f860aa7-a536-4b77-9e3a-752931fe9011",
   "metadata": {},
   "outputs": [],
   "source": [
    "pred = lr.predict(feature_selected_test)"
   ]
  },
  {
   "cell_type": "code",
   "execution_count": 48,
   "id": "dd81e3da-f1c6-43fe-b75b-5e7dfae14505",
   "metadata": {},
   "outputs": [],
   "source": [
    "from sklearn.metrics import r2_score ,mean_squared_error\n",
    "\n",
    "r2_result = r2_score(y_test , pred)\n",
    "\n",
    "root_mse = np.sqrt(mean_squared_error(y_test , pred))"
   ]
  },
  {
   "cell_type": "code",
   "execution_count": 49,
   "id": "ff869b92-0fbe-4f21-8fe5-b451bf1169d8",
   "metadata": {},
   "outputs": [
    {
     "data": {
      "text/plain": [
       "0.41219753544731186"
      ]
     },
     "execution_count": 49,
     "metadata": {},
     "output_type": "execute_result"
    }
   ],
   "source": [
    "r2_result"
   ]
  },
  {
   "cell_type": "code",
   "execution_count": 50,
   "id": "c81087a1-7003-4466-bb33-1d11d2d656ad",
   "metadata": {},
   "outputs": [
    {
     "data": {
      "text/plain": [
       "57.45001638256944"
      ]
     },
     "execution_count": 50,
     "metadata": {},
     "output_type": "execute_result"
    }
   ],
   "source": [
    "root_mse"
   ]
  },
  {
   "cell_type": "code",
   "execution_count": null,
   "id": "9cacb818-1984-4d1a-a999-01a9bea10ae3",
   "metadata": {},
   "outputs": [],
   "source": []
  },
  {
   "cell_type": "code",
   "execution_count": null,
   "id": "7007db61-b30a-466b-b861-4f13c5b65e51",
   "metadata": {},
   "outputs": [],
   "source": []
  }
 ],
 "metadata": {
  "kernelspec": {
   "display_name": "Python 3 (ipykernel)",
   "language": "python",
   "name": "python3"
  },
  "language_info": {
   "codemirror_mode": {
    "name": "ipython",
    "version": 3
   },
   "file_extension": ".py",
   "mimetype": "text/x-python",
   "name": "python",
   "nbconvert_exporter": "python",
   "pygments_lexer": "ipython3",
   "version": "3.11.5"
  }
 },
 "nbformat": 4,
 "nbformat_minor": 5
}
