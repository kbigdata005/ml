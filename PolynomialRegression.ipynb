{
 "cells": [
  {
   "cell_type": "markdown",
   "id": "e43aabfe-1622-4cf9-9fda-aef846335b4a",
   "metadata": {},
   "source": [
    "### sklearn.preprocessing.PolynomialFeatures\n",
    "* class sklearn.preprocessing.PolynomialFeatures(degree=2, *, interaction_only=False, include_bias=True, order='C')"
   ]
  },
  {
   "cell_type": "code",
   "execution_count": 1,
   "id": "8871b082-da64-4f59-9f45-4b83cfd02c6b",
   "metadata": {},
   "outputs": [
    {
     "name": "stdout",
     "output_type": "stream",
     "text": [
      "일차 단항식 계수 feature: \n",
      " [[0 1]\n",
      " [2 3]]\n",
      "변환된 2차 다항식 계수 feature: \n",
      " [[1. 0. 1. 0. 0. 1.]\n",
      " [1. 2. 3. 4. 6. 9.]]\n"
     ]
    }
   ],
   "source": [
    "from sklearn.preprocessing import PolynomialFeatures\n",
    "import numpy as np\n",
    "\n",
    "# 다항식으로 변환된 다항식\n",
    "X=np.arange(4).reshape(2,2)\n",
    "print('일차 단항식 계수 feature: \\n', X)\n",
    "\n",
    "poly = PolynomialFeatures(degree=2)\n",
    "poly.fit(X)\n",
    "poly_ftr = poly.transform(X)\n",
    "print('변환된 2차 다항식 계수 feature: \\n', poly_ftr)"
   ]
  },
  {
   "cell_type": "code",
   "execution_count": 3,
   "id": "84138416-081c-45d5-9b26-c70afc9b6356",
   "metadata": {},
   "outputs": [
    {
     "data": {
      "text/plain": [
       "array([[ 1,  5],\n",
       "       [17, 43]])"
      ]
     },
     "execution_count": 3,
     "metadata": {},
     "output_type": "execute_result"
    }
   ],
   "source": [
    "def polynomial_func(X):\n",
    "    y = 1+2*X+ X**2+X**3\n",
    "    return y\n",
    "\n",
    "result = polynomial_func(X)\n",
    "result"
   ]
  },
  {
   "cell_type": "code",
   "execution_count": 4,
   "id": "b69a90ce-f88b-4ac4-a1e0-f5884d24116c",
   "metadata": {},
   "outputs": [],
   "source": [
    "poly = PolynomialFeatures(degree=3 )\n",
    "poly_ftr = poly.fit_transform(X)"
   ]
  },
  {
   "cell_type": "code",
   "execution_count": 5,
   "id": "82835c4a-cb72-4f49-9317-76ef52427d70",
   "metadata": {},
   "outputs": [
    {
     "data": {
      "text/plain": [
       "array([[ 1.,  0.,  1.,  0.,  0.,  1.,  0.,  0.,  0.,  1.],\n",
       "       [ 1.,  2.,  3.,  4.,  6.,  9.,  8., 12., 18., 27.]])"
      ]
     },
     "execution_count": 5,
     "metadata": {},
     "output_type": "execute_result"
    }
   ],
   "source": [
    "poly_ftr"
   ]
  },
  {
   "cell_type": "code",
   "execution_count": 6,
   "id": "76577599-4874-438d-838b-b884e84575a2",
   "metadata": {},
   "outputs": [
    {
     "data": {
      "text/plain": [
       "(2, 10)"
      ]
     },
     "execution_count": 6,
     "metadata": {},
     "output_type": "execute_result"
    }
   ],
   "source": [
    "poly_ftr.shape"
   ]
  },
  {
   "cell_type": "code",
   "execution_count": 7,
   "id": "c3204914-5687-4bf0-a878-cd2b99ec437e",
   "metadata": {},
   "outputs": [
    {
     "data": {
      "text/plain": [
       "(2, 2)"
      ]
     },
     "execution_count": 7,
     "metadata": {},
     "output_type": "execute_result"
    }
   ],
   "source": [
    "result.shape"
   ]
  },
  {
   "cell_type": "code",
   "execution_count": 11,
   "id": "4b7d134d-5630-4df8-8eab-e90670438899",
   "metadata": {},
   "outputs": [
    {
     "name": "stdout",
     "output_type": "stream",
     "text": [
      "MSE : 15.556, RMSE : 3.944\n",
      "Variance score : 0.782\n",
      "(354, 104) (354, 13)\n"
     ]
    }
   ],
   "source": [
    "import pandas as pd\n",
    "from sklearn.pipeline import Pipeline as pipeline\n",
    "import numpy as np\n",
    "from sklearn.model_selection import train_test_split\n",
    "from sklearn.linear_model import LinearRegression\n",
    "from sklearn.preprocessing import PolynomialFeatures\n",
    "from sklearn.metrics import mean_squared_error\n",
    "from sklearn.metrics import * \n",
    "column_names = ['CRIM', 'ZN', 'INDUS', 'CHAS', 'NOX', 'RM', 'AGE', 'DIS', 'RAD', 'TAX', 'PTRATIO', 'B', 'LSTAT', 'MEDV']\n",
    "df = pd.read_csv('./datasets/housing.csv', header=None, delimiter=r\"\\s+\", names=column_names)\n",
    "\n",
    "y_target = df['MEDV']\n",
    "X_data = df.drop(['MEDV'], axis=1, inplace=False)\n",
    "\n",
    "X_train, X_test, y_train, y_test = train_test_split(X_data, y_target, test_size =0.3, random_state=156)\n",
    "\n",
    "# pipeline으로 poly 변경\n",
    "p_model = pipeline([('poly', PolynomialFeatures(degree=2, include_bias = False)), ('linear', LinearRegression())])\n",
    "p_model\n",
    "\n",
    "p_model.fit(X_train, y_train)\n",
    "y_preds = p_model.predict(X_test)\n",
    "mse = mean_squared_error(y_test, y_preds)\n",
    "rmse = np.sqrt(mse)\n",
    "\n",
    "print('MSE : {0:.3f}, RMSE : {1:.3F}'.format(mse, rmse))\n",
    "print('Variance score : {0:.3f}'.format(r2_score(y_test, y_preds)))\n",
    "\n",
    "X_train_poly = PolynomialFeatures(degree=2, include_bias = False).fit_transform(X_train, y_train)\n",
    "print(X_train_poly.shape, X_train.shape)"
   ]
  },
  {
   "cell_type": "code",
   "execution_count": 12,
   "id": "e477d314-804c-4258-af50-4d4f8298ec64",
   "metadata": {},
   "outputs": [
    {
     "name": "stdout",
     "output_type": "stream",
     "text": [
      "MSE : 79625.592, RMSE : 282.180\n",
      "Variance score : -1116.598\n",
      "(354, 104) (354, 13)\n"
     ]
    }
   ],
   "source": [
    "# pipeline으로 poly 변경\n",
    "p_model = pipeline([('poly', PolynomialFeatures(degree=3, include_bias = False)), ('linear', LinearRegression())])\n",
    "p_model\n",
    "\n",
    "p_model.fit(X_train, y_train)\n",
    "y_preds = p_model.predict(X_test)\n",
    "mse = mean_squared_error(y_test, y_preds)\n",
    "rmse = np.sqrt(mse)\n",
    "\n",
    "print('MSE : {0:.3f}, RMSE : {1:.3F}'.format(mse, rmse))\n",
    "print('Variance score : {0:.3f}'.format(r2_score(y_test, y_preds)))\n",
    "\n",
    "X_train_poly = PolynomialFeatures(degree=2, include_bias = False).fit_transform(X_train, y_train)\n",
    "print(X_train_poly.shape, X_train.shape)"
   ]
  },
  {
   "cell_type": "code",
   "execution_count": null,
   "id": "88d4fd3d-0781-46eb-83bd-e28e7c9e4985",
   "metadata": {},
   "outputs": [],
   "source": []
  }
 ],
 "metadata": {
  "kernelspec": {
   "display_name": "Python 3 (ipykernel)",
   "language": "python",
   "name": "python3"
  },
  "language_info": {
   "codemirror_mode": {
    "name": "ipython",
    "version": 3
   },
   "file_extension": ".py",
   "mimetype": "text/x-python",
   "name": "python",
   "nbconvert_exporter": "python",
   "pygments_lexer": "ipython3",
   "version": "3.11.5"
  }
 },
 "nbformat": 4,
 "nbformat_minor": 5
}
