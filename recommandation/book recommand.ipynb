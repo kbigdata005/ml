{
 "cells": [
  {
   "cell_type": "code",
   "execution_count": 2,
   "id": "474c9a57-b97d-4add-b3ba-ff0c24ee8436",
   "metadata": {},
   "outputs": [],
   "source": [
    "import numpy as np\n",
    "import pandas as pd\n",
    "import matplotlib.pyplot as plt\n",
    "import seaborn as sns\n",
    "import plotly.express as px\n"
   ]
  },
  {
   "cell_type": "code",
   "execution_count": 3,
   "id": "312048e9-d6eb-4b42-af79-75de0ee0ce6b",
   "metadata": {},
   "outputs": [
    {
     "data": {
      "text/html": [
       "<div>\n",
       "<style scoped>\n",
       "    .dataframe tbody tr th:only-of-type {\n",
       "        vertical-align: middle;\n",
       "    }\n",
       "\n",
       "    .dataframe tbody tr th {\n",
       "        vertical-align: top;\n",
       "    }\n",
       "\n",
       "    .dataframe thead th {\n",
       "        text-align: right;\n",
       "    }\n",
       "</style>\n",
       "<table border=\"1\" class=\"dataframe\">\n",
       "  <thead>\n",
       "    <tr style=\"text-align: right;\">\n",
       "      <th></th>\n",
       "      <th>id</th>\n",
       "      <th>book_id</th>\n",
       "      <th>best_book_id</th>\n",
       "      <th>work_id</th>\n",
       "      <th>books_count</th>\n",
       "      <th>isbn</th>\n",
       "      <th>isbn13</th>\n",
       "      <th>authors</th>\n",
       "      <th>original_publication_year</th>\n",
       "      <th>original_title</th>\n",
       "      <th>...</th>\n",
       "      <th>ratings_count</th>\n",
       "      <th>work_ratings_count</th>\n",
       "      <th>work_text_reviews_count</th>\n",
       "      <th>ratings_1</th>\n",
       "      <th>ratings_2</th>\n",
       "      <th>ratings_3</th>\n",
       "      <th>ratings_4</th>\n",
       "      <th>ratings_5</th>\n",
       "      <th>image_url</th>\n",
       "      <th>small_image_url</th>\n",
       "    </tr>\n",
       "  </thead>\n",
       "  <tbody>\n",
       "    <tr>\n",
       "      <th>0</th>\n",
       "      <td>1</td>\n",
       "      <td>2767052</td>\n",
       "      <td>2767052</td>\n",
       "      <td>2792775</td>\n",
       "      <td>272</td>\n",
       "      <td>439023483</td>\n",
       "      <td>9.780439e+12</td>\n",
       "      <td>Suzanne Collins</td>\n",
       "      <td>2008.0</td>\n",
       "      <td>The Hunger Games</td>\n",
       "      <td>...</td>\n",
       "      <td>4780653</td>\n",
       "      <td>4942365</td>\n",
       "      <td>155254</td>\n",
       "      <td>66715</td>\n",
       "      <td>127936</td>\n",
       "      <td>560092</td>\n",
       "      <td>1481305</td>\n",
       "      <td>2706317</td>\n",
       "      <td>https://images.gr-assets.com/books/1447303603m...</td>\n",
       "      <td>https://images.gr-assets.com/books/1447303603s...</td>\n",
       "    </tr>\n",
       "    <tr>\n",
       "      <th>1</th>\n",
       "      <td>2</td>\n",
       "      <td>3</td>\n",
       "      <td>3</td>\n",
       "      <td>4640799</td>\n",
       "      <td>491</td>\n",
       "      <td>439554934</td>\n",
       "      <td>9.780440e+12</td>\n",
       "      <td>J.K. Rowling, Mary GrandPré</td>\n",
       "      <td>1997.0</td>\n",
       "      <td>Harry Potter and the Philosopher's Stone</td>\n",
       "      <td>...</td>\n",
       "      <td>4602479</td>\n",
       "      <td>4800065</td>\n",
       "      <td>75867</td>\n",
       "      <td>75504</td>\n",
       "      <td>101676</td>\n",
       "      <td>455024</td>\n",
       "      <td>1156318</td>\n",
       "      <td>3011543</td>\n",
       "      <td>https://images.gr-assets.com/books/1474154022m...</td>\n",
       "      <td>https://images.gr-assets.com/books/1474154022s...</td>\n",
       "    </tr>\n",
       "    <tr>\n",
       "      <th>2</th>\n",
       "      <td>3</td>\n",
       "      <td>41865</td>\n",
       "      <td>41865</td>\n",
       "      <td>3212258</td>\n",
       "      <td>226</td>\n",
       "      <td>316015849</td>\n",
       "      <td>9.780316e+12</td>\n",
       "      <td>Stephenie Meyer</td>\n",
       "      <td>2005.0</td>\n",
       "      <td>Twilight</td>\n",
       "      <td>...</td>\n",
       "      <td>3866839</td>\n",
       "      <td>3916824</td>\n",
       "      <td>95009</td>\n",
       "      <td>456191</td>\n",
       "      <td>436802</td>\n",
       "      <td>793319</td>\n",
       "      <td>875073</td>\n",
       "      <td>1355439</td>\n",
       "      <td>https://images.gr-assets.com/books/1361039443m...</td>\n",
       "      <td>https://images.gr-assets.com/books/1361039443s...</td>\n",
       "    </tr>\n",
       "    <tr>\n",
       "      <th>3</th>\n",
       "      <td>4</td>\n",
       "      <td>2657</td>\n",
       "      <td>2657</td>\n",
       "      <td>3275794</td>\n",
       "      <td>487</td>\n",
       "      <td>61120081</td>\n",
       "      <td>9.780061e+12</td>\n",
       "      <td>Harper Lee</td>\n",
       "      <td>1960.0</td>\n",
       "      <td>To Kill a Mockingbird</td>\n",
       "      <td>...</td>\n",
       "      <td>3198671</td>\n",
       "      <td>3340896</td>\n",
       "      <td>72586</td>\n",
       "      <td>60427</td>\n",
       "      <td>117415</td>\n",
       "      <td>446835</td>\n",
       "      <td>1001952</td>\n",
       "      <td>1714267</td>\n",
       "      <td>https://images.gr-assets.com/books/1361975680m...</td>\n",
       "      <td>https://images.gr-assets.com/books/1361975680s...</td>\n",
       "    </tr>\n",
       "    <tr>\n",
       "      <th>4</th>\n",
       "      <td>5</td>\n",
       "      <td>4671</td>\n",
       "      <td>4671</td>\n",
       "      <td>245494</td>\n",
       "      <td>1356</td>\n",
       "      <td>743273567</td>\n",
       "      <td>9.780743e+12</td>\n",
       "      <td>F. Scott Fitzgerald</td>\n",
       "      <td>1925.0</td>\n",
       "      <td>The Great Gatsby</td>\n",
       "      <td>...</td>\n",
       "      <td>2683664</td>\n",
       "      <td>2773745</td>\n",
       "      <td>51992</td>\n",
       "      <td>86236</td>\n",
       "      <td>197621</td>\n",
       "      <td>606158</td>\n",
       "      <td>936012</td>\n",
       "      <td>947718</td>\n",
       "      <td>https://images.gr-assets.com/books/1490528560m...</td>\n",
       "      <td>https://images.gr-assets.com/books/1490528560s...</td>\n",
       "    </tr>\n",
       "  </tbody>\n",
       "</table>\n",
       "<p>5 rows × 23 columns</p>\n",
       "</div>"
      ],
      "text/plain": [
       "   id  book_id  best_book_id  work_id  books_count       isbn        isbn13  \\\n",
       "0   1  2767052       2767052  2792775          272  439023483  9.780439e+12   \n",
       "1   2        3             3  4640799          491  439554934  9.780440e+12   \n",
       "2   3    41865         41865  3212258          226  316015849  9.780316e+12   \n",
       "3   4     2657          2657  3275794          487   61120081  9.780061e+12   \n",
       "4   5     4671          4671   245494         1356  743273567  9.780743e+12   \n",
       "\n",
       "                       authors  original_publication_year  \\\n",
       "0              Suzanne Collins                     2008.0   \n",
       "1  J.K. Rowling, Mary GrandPré                     1997.0   \n",
       "2              Stephenie Meyer                     2005.0   \n",
       "3                   Harper Lee                     1960.0   \n",
       "4          F. Scott Fitzgerald                     1925.0   \n",
       "\n",
       "                             original_title  ... ratings_count  \\\n",
       "0                          The Hunger Games  ...       4780653   \n",
       "1  Harry Potter and the Philosopher's Stone  ...       4602479   \n",
       "2                                  Twilight  ...       3866839   \n",
       "3                     To Kill a Mockingbird  ...       3198671   \n",
       "4                          The Great Gatsby  ...       2683664   \n",
       "\n",
       "  work_ratings_count  work_text_reviews_count  ratings_1  ratings_2  \\\n",
       "0            4942365                   155254      66715     127936   \n",
       "1            4800065                    75867      75504     101676   \n",
       "2            3916824                    95009     456191     436802   \n",
       "3            3340896                    72586      60427     117415   \n",
       "4            2773745                    51992      86236     197621   \n",
       "\n",
       "   ratings_3  ratings_4  ratings_5  \\\n",
       "0     560092    1481305    2706317   \n",
       "1     455024    1156318    3011543   \n",
       "2     793319     875073    1355439   \n",
       "3     446835    1001952    1714267   \n",
       "4     606158     936012     947718   \n",
       "\n",
       "                                           image_url  \\\n",
       "0  https://images.gr-assets.com/books/1447303603m...   \n",
       "1  https://images.gr-assets.com/books/1474154022m...   \n",
       "2  https://images.gr-assets.com/books/1361039443m...   \n",
       "3  https://images.gr-assets.com/books/1361975680m...   \n",
       "4  https://images.gr-assets.com/books/1490528560m...   \n",
       "\n",
       "                                     small_image_url  \n",
       "0  https://images.gr-assets.com/books/1447303603s...  \n",
       "1  https://images.gr-assets.com/books/1474154022s...  \n",
       "2  https://images.gr-assets.com/books/1361039443s...  \n",
       "3  https://images.gr-assets.com/books/1361975680s...  \n",
       "4  https://images.gr-assets.com/books/1490528560s...  \n",
       "\n",
       "[5 rows x 23 columns]"
      ]
     },
     "execution_count": 3,
     "metadata": {},
     "output_type": "execute_result"
    }
   ],
   "source": [
    "#import data\n",
    "books = pd.read_csv('../datasets/books.csv')\n",
    "books.head()"
   ]
  },
  {
   "cell_type": "code",
   "execution_count": 4,
   "id": "26c8e5e9-f403-4d37-988b-04b4734cd2fd",
   "metadata": {},
   "outputs": [
    {
     "data": {
      "text/plain": [
       "(10000, 23)"
      ]
     },
     "execution_count": 4,
     "metadata": {},
     "output_type": "execute_result"
    }
   ],
   "source": [
    "books.shape"
   ]
  },
  {
   "cell_type": "code",
   "execution_count": 5,
   "id": "016129be-b0ef-462d-9017-c0901a8bccbb",
   "metadata": {},
   "outputs": [
    {
     "data": {
      "text/html": [
       "<div>\n",
       "<style scoped>\n",
       "    .dataframe tbody tr th:only-of-type {\n",
       "        vertical-align: middle;\n",
       "    }\n",
       "\n",
       "    .dataframe tbody tr th {\n",
       "        vertical-align: top;\n",
       "    }\n",
       "\n",
       "    .dataframe thead th {\n",
       "        text-align: right;\n",
       "    }\n",
       "</style>\n",
       "<table border=\"1\" class=\"dataframe\">\n",
       "  <thead>\n",
       "    <tr style=\"text-align: right;\">\n",
       "      <th></th>\n",
       "      <th>book_id</th>\n",
       "      <th>user_id</th>\n",
       "      <th>rating</th>\n",
       "    </tr>\n",
       "  </thead>\n",
       "  <tbody>\n",
       "    <tr>\n",
       "      <th>0</th>\n",
       "      <td>1</td>\n",
       "      <td>314</td>\n",
       "      <td>5</td>\n",
       "    </tr>\n",
       "    <tr>\n",
       "      <th>1</th>\n",
       "      <td>1</td>\n",
       "      <td>439</td>\n",
       "      <td>3</td>\n",
       "    </tr>\n",
       "    <tr>\n",
       "      <th>2</th>\n",
       "      <td>1</td>\n",
       "      <td>588</td>\n",
       "      <td>5</td>\n",
       "    </tr>\n",
       "    <tr>\n",
       "      <th>3</th>\n",
       "      <td>1</td>\n",
       "      <td>1169</td>\n",
       "      <td>4</td>\n",
       "    </tr>\n",
       "    <tr>\n",
       "      <th>4</th>\n",
       "      <td>1</td>\n",
       "      <td>1185</td>\n",
       "      <td>4</td>\n",
       "    </tr>\n",
       "  </tbody>\n",
       "</table>\n",
       "</div>"
      ],
      "text/plain": [
       "   book_id  user_id  rating\n",
       "0        1      314       5\n",
       "1        1      439       3\n",
       "2        1      588       5\n",
       "3        1     1169       4\n",
       "4        1     1185       4"
      ]
     },
     "execution_count": 5,
     "metadata": {},
     "output_type": "execute_result"
    }
   ],
   "source": [
    "ratings = pd.read_csv('../datasets/ratings.csv')\n",
    "ratings.head()"
   ]
  },
  {
   "cell_type": "code",
   "execution_count": 6,
   "id": "b21ea2b9-58d7-4e94-8018-bf21b7e032c3",
   "metadata": {},
   "outputs": [
    {
     "data": {
      "text/plain": [
       "array([5, 3, 4, 1, 2], dtype=int64)"
      ]
     },
     "execution_count": 6,
     "metadata": {},
     "output_type": "execute_result"
    }
   ],
   "source": [
    "ratings['rating'].unique()"
   ]
  },
  {
   "cell_type": "code",
   "execution_count": 9,
   "id": "fe8c67c6-9745-4a0f-aebe-077cacf70d09",
   "metadata": {},
   "outputs": [
    {
     "data": {
      "text/html": [
       "<div>\n",
       "<style scoped>\n",
       "    .dataframe tbody tr th:only-of-type {\n",
       "        vertical-align: middle;\n",
       "    }\n",
       "\n",
       "    .dataframe tbody tr th {\n",
       "        vertical-align: top;\n",
       "    }\n",
       "\n",
       "    .dataframe thead th {\n",
       "        text-align: right;\n",
       "    }\n",
       "</style>\n",
       "<table border=\"1\" class=\"dataframe\">\n",
       "  <thead>\n",
       "    <tr style=\"text-align: right;\">\n",
       "      <th></th>\n",
       "      <th>goodreads_book_id</th>\n",
       "      <th>tag_id</th>\n",
       "      <th>count</th>\n",
       "    </tr>\n",
       "  </thead>\n",
       "  <tbody>\n",
       "    <tr>\n",
       "      <th>0</th>\n",
       "      <td>1</td>\n",
       "      <td>30574</td>\n",
       "      <td>167697</td>\n",
       "    </tr>\n",
       "    <tr>\n",
       "      <th>1</th>\n",
       "      <td>1</td>\n",
       "      <td>11305</td>\n",
       "      <td>37174</td>\n",
       "    </tr>\n",
       "    <tr>\n",
       "      <th>2</th>\n",
       "      <td>1</td>\n",
       "      <td>11557</td>\n",
       "      <td>34173</td>\n",
       "    </tr>\n",
       "    <tr>\n",
       "      <th>3</th>\n",
       "      <td>1</td>\n",
       "      <td>8717</td>\n",
       "      <td>12986</td>\n",
       "    </tr>\n",
       "    <tr>\n",
       "      <th>4</th>\n",
       "      <td>1</td>\n",
       "      <td>33114</td>\n",
       "      <td>12716</td>\n",
       "    </tr>\n",
       "  </tbody>\n",
       "</table>\n",
       "</div>"
      ],
      "text/plain": [
       "   goodreads_book_id  tag_id   count\n",
       "0                  1   30574  167697\n",
       "1                  1   11305   37174\n",
       "2                  1   11557   34173\n",
       "3                  1    8717   12986\n",
       "4                  1   33114   12716"
      ]
     },
     "execution_count": 9,
     "metadata": {},
     "output_type": "execute_result"
    }
   ],
   "source": [
    "tags = pd.read_csv('../datasets/book_tags.csv')\n",
    "tags.head()"
   ]
  },
  {
   "cell_type": "code",
   "execution_count": 11,
   "id": "845a22c4-f63c-4868-8c13-61c6c6aaba6c",
   "metadata": {},
   "outputs": [
    {
     "data": {
      "text/html": [
       "<div>\n",
       "<style scoped>\n",
       "    .dataframe tbody tr th:only-of-type {\n",
       "        vertical-align: middle;\n",
       "    }\n",
       "\n",
       "    .dataframe tbody tr th {\n",
       "        vertical-align: top;\n",
       "    }\n",
       "\n",
       "    .dataframe thead th {\n",
       "        text-align: right;\n",
       "    }\n",
       "</style>\n",
       "<table border=\"1\" class=\"dataframe\">\n",
       "  <thead>\n",
       "    <tr style=\"text-align: right;\">\n",
       "      <th></th>\n",
       "      <th>tag_id</th>\n",
       "      <th>tag_name</th>\n",
       "    </tr>\n",
       "  </thead>\n",
       "  <tbody>\n",
       "    <tr>\n",
       "      <th>34247</th>\n",
       "      <td>34247</td>\n",
       "      <td>Ｃhildrens</td>\n",
       "    </tr>\n",
       "    <tr>\n",
       "      <th>34248</th>\n",
       "      <td>34248</td>\n",
       "      <td>Ｆａｖｏｒｉｔｅｓ</td>\n",
       "    </tr>\n",
       "    <tr>\n",
       "      <th>34249</th>\n",
       "      <td>34249</td>\n",
       "      <td>Ｍａｎｇａ</td>\n",
       "    </tr>\n",
       "    <tr>\n",
       "      <th>34250</th>\n",
       "      <td>34250</td>\n",
       "      <td>ＳＥＲＩＥＳ</td>\n",
       "    </tr>\n",
       "    <tr>\n",
       "      <th>34251</th>\n",
       "      <td>34251</td>\n",
       "      <td>ｆａｖｏｕｒｉｔｅｓ</td>\n",
       "    </tr>\n",
       "  </tbody>\n",
       "</table>\n",
       "</div>"
      ],
      "text/plain": [
       "       tag_id    tag_name\n",
       "34247   34247   Ｃhildrens\n",
       "34248   34248   Ｆａｖｏｒｉｔｅｓ\n",
       "34249   34249       Ｍａｎｇａ\n",
       "34250   34250      ＳＥＲＩＥＳ\n",
       "34251   34251  ｆａｖｏｕｒｉｔｅｓ"
      ]
     },
     "execution_count": 11,
     "metadata": {},
     "output_type": "execute_result"
    }
   ],
   "source": [
    "btags = pd.read_csv('../datasets/tags.csv')\n",
    "btags.tail()"
   ]
  },
  {
   "cell_type": "code",
   "execution_count": 14,
   "id": "6dc58f41-ca77-48be-a6b5-4eb85674f576",
   "metadata": {},
   "outputs": [
    {
     "data": {
      "text/plain": [
       "(981756, 3)"
      ]
     },
     "execution_count": 14,
     "metadata": {},
     "output_type": "execute_result"
    }
   ],
   "source": [
    "# data preprocessing\n",
    "\n",
    "ratings = ratings.sort_values('user_id')\n",
    "ratings.shape"
   ]
  },
  {
   "cell_type": "code",
   "execution_count": 15,
   "id": "403b079b-27a4-4c58-96be-ac48823bec3a",
   "metadata": {},
   "outputs": [
    {
     "data": {
      "text/plain": [
       "(977269, 3)"
      ]
     },
     "execution_count": 15,
     "metadata": {},
     "output_type": "execute_result"
    }
   ],
   "source": [
    "ratings.drop_duplicates(subset=['book_id' , 'user_id'] , keep=False, inplace=True)\n",
    "ratings.shape"
   ]
  },
  {
   "cell_type": "code",
   "execution_count": 16,
   "id": "473a543e-6180-4a22-9050-c6210a83a822",
   "metadata": {},
   "outputs": [
    {
     "name": "stdout",
     "output_type": "stream",
     "text": [
      "(10000, 23)\n"
     ]
    },
    {
     "data": {
      "text/plain": [
       "(9151, 23)"
      ]
     },
     "execution_count": 16,
     "metadata": {},
     "output_type": "execute_result"
    }
   ],
   "source": [
    "print(books.shape)\n",
    "books.drop_duplicates(subset=['original_title'] , keep=False, inplace=True)\n",
    "books.shape"
   ]
  },
  {
   "cell_type": "code",
   "execution_count": 17,
   "id": "c3d1ff9e-88fc-4940-9132-1053942107df",
   "metadata": {},
   "outputs": [
    {
     "name": "stdout",
     "output_type": "stream",
     "text": [
      "(34252, 2)\n"
     ]
    },
    {
     "data": {
      "text/plain": [
       "(34252, 2)"
      ]
     },
     "execution_count": 17,
     "metadata": {},
     "output_type": "execute_result"
    }
   ],
   "source": [
    "print(btags.shape)\n",
    "btags.drop_duplicates(subset=['tag_id'] , keep=False, inplace=True)\n",
    "btags.shape"
   ]
  },
  {
   "cell_type": "code",
   "execution_count": 19,
   "id": "3f975279-99a2-4a94-9ffb-29641a2bc695",
   "metadata": {},
   "outputs": [
    {
     "name": "stdout",
     "output_type": "stream",
     "text": [
      "(999912, 3)\n"
     ]
    },
    {
     "data": {
      "text/plain": [
       "(999896, 3)"
      ]
     },
     "execution_count": 19,
     "metadata": {},
     "output_type": "execute_result"
    }
   ],
   "source": [
    "print(tags.shape)\n",
    "tags.drop_duplicates(subset=['tag_id', 'goodreads_book_id'] , keep=False, inplace=True)\n",
    "tags.shape"
   ]
  },
  {
   "cell_type": "code",
   "execution_count": 21,
   "id": "a47fceb8-5068-4cb1-baee-b67a72ba0e68",
   "metadata": {},
   "outputs": [],
   "source": [
    "#Data visualization\n",
    "jonit_tags = pd.merge(tags, btags , left_on='tag_id' , right_on='tag_id', how='inner')\n"
   ]
  },
  {
   "cell_type": "code",
   "execution_count": 24,
   "id": "78f5f08c-7cf2-4f27-8637-80ac353969d8",
   "metadata": {},
   "outputs": [],
   "source": [
    "# Top 10 rated books\n",
    "top_rated = books.sort_values('average_rating', ascending=False)\n",
    "top10 = top_rated.head(10)\n",
    "top10\n",
    "display = top10[['title', 'small_image_url']]\n",
    "display.set_index('title', inplace=True)"
   ]
  },
  {
   "cell_type": "code",
   "execution_count": 30,
   "id": "19e37787-21a4-4081-8cf6-a40205d08985",
   "metadata": {},
   "outputs": [
    {
     "data": {
      "text/html": [
       "<table border=\"1\" class=\"dataframe\">\n",
       "  <thead>\n",
       "    <tr style=\"text-align: right;\">\n",
       "      <th></th>\n",
       "      <th>small_image_url</th>\n",
       "    </tr>\n",
       "    <tr>\n",
       "      <th>title</th>\n",
       "      <th></th>\n",
       "    </tr>\n",
       "  </thead>\n",
       "  <tbody>\n",
       "    <tr>\n",
       "      <th>The Complete Calvin and Hobbes</th>\n",
       "      <td><img src=\"https://images.gr-assets.com/books/1473064526s/24812.jpg\" /></td>\n",
       "    </tr>\n",
       "    <tr>\n",
       "      <th>Words of Radiance (The Stormlight Archive, #2)</th>\n",
       "      <td><img src=\"https://images.gr-assets.com/books/1391535251s/17332218.jpg\" /></td>\n",
       "    </tr>\n",
       "    <tr>\n",
       "      <th>Mark of the Lion Trilogy</th>\n",
       "      <td><img src=\"https://images.gr-assets.com/books/1349032180s/95602.jpg\" /></td>\n",
       "    </tr>\n",
       "    <tr>\n",
       "      <th>It's a Magical World: A Calvin and Hobbes Collection</th>\n",
       "      <td><img src=\"https://images.gr-assets.com/books/1437420710s/24814.jpg\" /></td>\n",
       "    </tr>\n",
       "    <tr>\n",
       "      <th>There's Treasure Everywhere: A Calvin and Hobbes Collection</th>\n",
       "      <td><img src=\"https://s.gr-assets.com/assets/nophoto/book/50x75-a91bf249278a81aabab721ef782c4a74.png\" /></td>\n",
       "    </tr>\n",
       "    <tr>\n",
       "      <th>Harry Potter Boxset (Harry Potter, #1-7)</th>\n",
       "      <td><img src=\"https://images.gr-assets.com/books/1392579059s/862041.jpg\" /></td>\n",
       "    </tr>\n",
       "    <tr>\n",
       "      <th>Harry Potter Collection (Harry Potter, #1-6)</th>\n",
       "      <td><img src=\"https://images.gr-assets.com/books/1328867351s/10.jpg\" /></td>\n",
       "    </tr>\n",
       "    <tr>\n",
       "      <th>The Indispensable Calvin and Hobbes</th>\n",
       "      <td><img src=\"https://s.gr-assets.com/assets/nophoto/book/50x75-a91bf249278a81aabab721ef782c4a74.png\" /></td>\n",
       "    </tr>\n",
       "    <tr>\n",
       "      <th>The Authoritative Calvin and Hobbes: A Calvin and Hobbes Treasury</th>\n",
       "      <td><img src=\"https://images.gr-assets.com/books/1391114055s/59715.jpg\" /></td>\n",
       "    </tr>\n",
       "    <tr>\n",
       "      <th>Attack of the Deranged Mutant Killer Monster Snow Goons</th>\n",
       "      <td><img src=\"https://images.gr-assets.com/books/1384735429s/70487.jpg\" /></td>\n",
       "    </tr>\n",
       "  </tbody>\n",
       "</table>"
      ],
      "text/plain": [
       "<IPython.core.display.HTML object>"
      ]
     },
     "execution_count": 30,
     "metadata": {},
     "output_type": "execute_result"
    }
   ],
   "source": [
    "from IPython.display import Image , HTML\n",
    "\n",
    "def path_to_image_html(path):\n",
    "    return f'<img src=\"{path}\" />'\n",
    "HTML(display.to_html(escape=False , formatters={'small_image_url':path_to_image_html}))"
   ]
  },
  {
   "cell_type": "markdown",
   "id": "3c07a721-d0c5-4098-a776-0644e25ce34a",
   "metadata": {},
   "source": [
    "#### Contents Based Filtering Recommand System"
   ]
  },
  {
   "cell_type": "code",
   "execution_count": 32,
   "id": "0c63b3fc-699a-41fd-8047-5107ed4b14fe",
   "metadata": {},
   "outputs": [],
   "source": [
    "fillnabooks = books.fillna('')"
   ]
  },
  {
   "cell_type": "code",
   "execution_count": 34,
   "id": "7147ba6f-b2ca-4a29-9c7a-389efbb454bc",
   "metadata": {},
   "outputs": [
    {
     "data": {
      "text/html": [
       "<div>\n",
       "<style scoped>\n",
       "    .dataframe tbody tr th:only-of-type {\n",
       "        vertical-align: middle;\n",
       "    }\n",
       "\n",
       "    .dataframe tbody tr th {\n",
       "        vertical-align: top;\n",
       "    }\n",
       "\n",
       "    .dataframe thead th {\n",
       "        text-align: right;\n",
       "    }\n",
       "</style>\n",
       "<table border=\"1\" class=\"dataframe\">\n",
       "  <thead>\n",
       "    <tr style=\"text-align: right;\">\n",
       "      <th></th>\n",
       "      <th>original_title</th>\n",
       "      <th>authors</th>\n",
       "      <th>average_rating</th>\n",
       "    </tr>\n",
       "  </thead>\n",
       "  <tbody>\n",
       "    <tr>\n",
       "      <th>0</th>\n",
       "      <td>The Hunger Games</td>\n",
       "      <td>Suzanne Collins</td>\n",
       "      <td>4.34</td>\n",
       "    </tr>\n",
       "    <tr>\n",
       "      <th>1</th>\n",
       "      <td>Harry Potter and the Philosopher's Stone</td>\n",
       "      <td>J.K. Rowling, Mary GrandPré</td>\n",
       "      <td>4.44</td>\n",
       "    </tr>\n",
       "    <tr>\n",
       "      <th>3</th>\n",
       "      <td>To Kill a Mockingbird</td>\n",
       "      <td>Harper Lee</td>\n",
       "      <td>4.25</td>\n",
       "    </tr>\n",
       "    <tr>\n",
       "      <th>4</th>\n",
       "      <td>The Great Gatsby</td>\n",
       "      <td>F. Scott Fitzgerald</td>\n",
       "      <td>3.89</td>\n",
       "    </tr>\n",
       "    <tr>\n",
       "      <th>5</th>\n",
       "      <td>The Fault in Our Stars</td>\n",
       "      <td>John Green</td>\n",
       "      <td>4.26</td>\n",
       "    </tr>\n",
       "  </tbody>\n",
       "</table>\n",
       "</div>"
      ],
      "text/plain": [
       "                             original_title                      authors  \\\n",
       "0                          The Hunger Games              Suzanne Collins   \n",
       "1  Harry Potter and the Philosopher's Stone  J.K. Rowling, Mary GrandPré   \n",
       "3                     To Kill a Mockingbird                   Harper Lee   \n",
       "4                          The Great Gatsby          F. Scott Fitzgerald   \n",
       "5                    The Fault in Our Stars                   John Green   \n",
       "\n",
       "   average_rating  \n",
       "0            4.34  \n",
       "1            4.44  \n",
       "3            4.25  \n",
       "4            3.89  \n",
       "5            4.26  "
      ]
     },
     "execution_count": 34,
     "metadata": {},
     "output_type": "execute_result"
    }
   ],
   "source": [
    "fillednabooks=fillnabooks[['original_title', 'authors', 'average_rating']]\n",
    "fillednabooks.head()"
   ]
  },
  {
   "cell_type": "code",
   "execution_count": 35,
   "id": "1b9bac6e-54ca-4f0a-a1e8-b05abc9277b0",
   "metadata": {},
   "outputs": [],
   "source": [
    "def clean_data(x):\n",
    "    return str.lower(x.replace(\" \" , \"\"))"
   ]
  },
  {
   "cell_type": "code",
   "execution_count": 36,
   "id": "f848e8fc-a12e-47e1-b5ba-542f43bf8f4b",
   "metadata": {},
   "outputs": [
    {
     "name": "stdout",
     "output_type": "stream",
     "text": [
      "<class 'pandas.core.frame.DataFrame'>\n",
      "Index: 9151 entries, 0 to 9999\n",
      "Data columns (total 3 columns):\n",
      " #   Column          Non-Null Count  Dtype  \n",
      "---  ------          --------------  -----  \n",
      " 0   original_title  9151 non-null   object \n",
      " 1   authors         9151 non-null   object \n",
      " 2   average_rating  9151 non-null   float64\n",
      "dtypes: float64(1), object(2)\n",
      "memory usage: 286.0+ KB\n"
     ]
    }
   ],
   "source": [
    "fillednabooks.info()"
   ]
  },
  {
   "cell_type": "code",
   "execution_count": 37,
   "id": "2eb4cebe-d14d-43d9-b51e-c5beb1949cc6",
   "metadata": {},
   "outputs": [
    {
     "name": "stdout",
     "output_type": "stream",
     "text": [
      "<class 'pandas.core.frame.DataFrame'>\n",
      "Index: 9151 entries, 0 to 9999\n",
      "Data columns (total 3 columns):\n",
      " #   Column          Non-Null Count  Dtype \n",
      "---  ------          --------------  ----- \n",
      " 0   original_title  9151 non-null   object\n",
      " 1   authors         9151 non-null   object\n",
      " 2   average_rating  9151 non-null   object\n",
      "dtypes: object(3)\n",
      "memory usage: 286.0+ KB\n"
     ]
    }
   ],
   "source": [
    "fillednabooks = fillednabooks.astype(str)\n",
    "fillednabooks.info()"
   ]
  },
  {
   "cell_type": "code",
   "execution_count": 40,
   "id": "d7f2192b-38e9-46d1-96dd-2ba295fa615a",
   "metadata": {},
   "outputs": [],
   "source": [
    "fillednabooks['original_title'] = fillednabooks['original_title'].apply(clean_data)\n",
    "fillednabooks['authors'] = fillednabooks['authors'].apply(clean_data)\n",
    "fillednabooks['average_rating'] = fillednabooks['average_rating'].apply(clean_data)"
   ]
  },
  {
   "cell_type": "code",
   "execution_count": 41,
   "id": "df2918d0-5d4f-4696-af2b-b58c3a2e629e",
   "metadata": {},
   "outputs": [
    {
     "data": {
      "text/html": [
       "<div>\n",
       "<style scoped>\n",
       "    .dataframe tbody tr th:only-of-type {\n",
       "        vertical-align: middle;\n",
       "    }\n",
       "\n",
       "    .dataframe tbody tr th {\n",
       "        vertical-align: top;\n",
       "    }\n",
       "\n",
       "    .dataframe thead th {\n",
       "        text-align: right;\n",
       "    }\n",
       "</style>\n",
       "<table border=\"1\" class=\"dataframe\">\n",
       "  <thead>\n",
       "    <tr style=\"text-align: right;\">\n",
       "      <th></th>\n",
       "      <th>original_title</th>\n",
       "      <th>authors</th>\n",
       "      <th>average_rating</th>\n",
       "    </tr>\n",
       "  </thead>\n",
       "  <tbody>\n",
       "    <tr>\n",
       "      <th>0</th>\n",
       "      <td>thehungergames</td>\n",
       "      <td>suzannecollins</td>\n",
       "      <td>4.34</td>\n",
       "    </tr>\n",
       "    <tr>\n",
       "      <th>1</th>\n",
       "      <td>harrypotterandthephilosopher'sstone</td>\n",
       "      <td>j.k.rowling,marygrandpré</td>\n",
       "      <td>4.44</td>\n",
       "    </tr>\n",
       "    <tr>\n",
       "      <th>3</th>\n",
       "      <td>tokillamockingbird</td>\n",
       "      <td>harperlee</td>\n",
       "      <td>4.25</td>\n",
       "    </tr>\n",
       "    <tr>\n",
       "      <th>4</th>\n",
       "      <td>thegreatgatsby</td>\n",
       "      <td>f.scottfitzgerald</td>\n",
       "      <td>3.89</td>\n",
       "    </tr>\n",
       "    <tr>\n",
       "      <th>5</th>\n",
       "      <td>thefaultinourstars</td>\n",
       "      <td>johngreen</td>\n",
       "      <td>4.26</td>\n",
       "    </tr>\n",
       "  </tbody>\n",
       "</table>\n",
       "</div>"
      ],
      "text/plain": [
       "                        original_title                   authors  \\\n",
       "0                       thehungergames            suzannecollins   \n",
       "1  harrypotterandthephilosopher'sstone  j.k.rowling,marygrandpré   \n",
       "3                   tokillamockingbird                 harperlee   \n",
       "4                       thegreatgatsby         f.scottfitzgerald   \n",
       "5                   thefaultinourstars                 johngreen   \n",
       "\n",
       "  average_rating  \n",
       "0           4.34  \n",
       "1           4.44  \n",
       "3           4.25  \n",
       "4           3.89  \n",
       "5           4.26  "
      ]
     },
     "execution_count": 41,
     "metadata": {},
     "output_type": "execute_result"
    }
   ],
   "source": [
    "fillednabooks.head()"
   ]
  },
  {
   "cell_type": "code",
   "execution_count": 42,
   "id": "9c07a576-3a19-4d9b-b30a-0333682f9015",
   "metadata": {},
   "outputs": [],
   "source": [
    "def create_soup(x):\n",
    "    return x['original_title'] + ' ' +  x['authors'] + ' ' + x['average_rating']"
   ]
  },
  {
   "cell_type": "code",
   "execution_count": 44,
   "id": "2a4c643e-d0c4-4f1e-ab7a-cc2eceecc160",
   "metadata": {},
   "outputs": [],
   "source": [
    "fillednabooks['soup'] = fillednabooks.apply(create_soup , axis=1)"
   ]
  },
  {
   "cell_type": "code",
   "execution_count": 45,
   "id": "ed10e7ab-6a55-4daf-b72e-8325afe43d60",
   "metadata": {},
   "outputs": [
    {
     "data": {
      "text/html": [
       "<div>\n",
       "<style scoped>\n",
       "    .dataframe tbody tr th:only-of-type {\n",
       "        vertical-align: middle;\n",
       "    }\n",
       "\n",
       "    .dataframe tbody tr th {\n",
       "        vertical-align: top;\n",
       "    }\n",
       "\n",
       "    .dataframe thead th {\n",
       "        text-align: right;\n",
       "    }\n",
       "</style>\n",
       "<table border=\"1\" class=\"dataframe\">\n",
       "  <thead>\n",
       "    <tr style=\"text-align: right;\">\n",
       "      <th></th>\n",
       "      <th>original_title</th>\n",
       "      <th>authors</th>\n",
       "      <th>average_rating</th>\n",
       "      <th>soup</th>\n",
       "    </tr>\n",
       "  </thead>\n",
       "  <tbody>\n",
       "    <tr>\n",
       "      <th>0</th>\n",
       "      <td>thehungergames</td>\n",
       "      <td>suzannecollins</td>\n",
       "      <td>4.34</td>\n",
       "      <td>thehungergames suzannecollins 4.34</td>\n",
       "    </tr>\n",
       "    <tr>\n",
       "      <th>1</th>\n",
       "      <td>harrypotterandthephilosopher'sstone</td>\n",
       "      <td>j.k.rowling,marygrandpré</td>\n",
       "      <td>4.44</td>\n",
       "      <td>harrypotterandthephilosopher'sstone j.k.rowlin...</td>\n",
       "    </tr>\n",
       "    <tr>\n",
       "      <th>3</th>\n",
       "      <td>tokillamockingbird</td>\n",
       "      <td>harperlee</td>\n",
       "      <td>4.25</td>\n",
       "      <td>tokillamockingbird harperlee 4.25</td>\n",
       "    </tr>\n",
       "    <tr>\n",
       "      <th>4</th>\n",
       "      <td>thegreatgatsby</td>\n",
       "      <td>f.scottfitzgerald</td>\n",
       "      <td>3.89</td>\n",
       "      <td>thegreatgatsby f.scottfitzgerald 3.89</td>\n",
       "    </tr>\n",
       "    <tr>\n",
       "      <th>5</th>\n",
       "      <td>thefaultinourstars</td>\n",
       "      <td>johngreen</td>\n",
       "      <td>4.26</td>\n",
       "      <td>thefaultinourstars johngreen 4.26</td>\n",
       "    </tr>\n",
       "  </tbody>\n",
       "</table>\n",
       "</div>"
      ],
      "text/plain": [
       "                        original_title                   authors  \\\n",
       "0                       thehungergames            suzannecollins   \n",
       "1  harrypotterandthephilosopher'sstone  j.k.rowling,marygrandpré   \n",
       "3                   tokillamockingbird                 harperlee   \n",
       "4                       thegreatgatsby         f.scottfitzgerald   \n",
       "5                   thefaultinourstars                 johngreen   \n",
       "\n",
       "  average_rating                                               soup  \n",
       "0           4.34                 thehungergames suzannecollins 4.34  \n",
       "1           4.44  harrypotterandthephilosopher'sstone j.k.rowlin...  \n",
       "3           4.25                  tokillamockingbird harperlee 4.25  \n",
       "4           3.89              thegreatgatsby f.scottfitzgerald 3.89  \n",
       "5           4.26                  thefaultinourstars johngreen 4.26  "
      ]
     },
     "execution_count": 45,
     "metadata": {},
     "output_type": "execute_result"
    }
   ],
   "source": [
    "fillednabooks.head()"
   ]
  },
  {
   "cell_type": "code",
   "execution_count": 46,
   "id": "63172352-688b-48f5-afcc-2abb08cff8a0",
   "metadata": {},
   "outputs": [
    {
     "data": {
      "text/plain": [
       "<9151x17302 sparse matrix of type '<class 'numpy.int64'>'\n",
       "\twith 33809 stored elements in Compressed Sparse Row format>"
      ]
     },
     "execution_count": 46,
     "metadata": {},
     "output_type": "execute_result"
    }
   ],
   "source": [
    "from sklearn.feature_extraction.text import CountVectorizer , TfidfVectorizer\n",
    "from sklearn.metrics.pairwise import cosine_similarity\n",
    "\n",
    "count = CountVectorizer(stop_words='english')\n",
    "count_matrix = count.fit_transform(fillednabooks['soup'])\n",
    "count_matrix"
   ]
  },
  {
   "cell_type": "code",
   "execution_count": 47,
   "id": "21d6a0c7-3287-4937-948c-407213929094",
   "metadata": {},
   "outputs": [],
   "source": [
    "cosine_sim  = cosine_similarity(count_matrix)"
   ]
  },
  {
   "cell_type": "code",
   "execution_count": 59,
   "id": "6d7e44f7-185f-4427-9d06-316c37c3461f",
   "metadata": {},
   "outputs": [
    {
     "data": {
      "text/plain": [
       "array([[1., 0., 0., ..., 0., 0., 0.],\n",
       "       [0., 1., 0., ..., 0., 0., 0.],\n",
       "       [0., 0., 1., ..., 0., 0., 0.],\n",
       "       ...,\n",
       "       [0., 0., 0., ..., 1., 0., 0.],\n",
       "       [0., 0., 0., ..., 0., 1., 0.],\n",
       "       [0., 0., 0., ..., 0., 0., 1.]])"
      ]
     },
     "execution_count": 59,
     "metadata": {},
     "output_type": "execute_result"
    }
   ],
   "source": [
    "cosine_sim"
   ]
  },
  {
   "cell_type": "code",
   "execution_count": 51,
   "id": "cbd175b8-8541-4e26-bef8-c825cfacbf98",
   "metadata": {},
   "outputs": [
    {
     "data": {
      "text/plain": [
       "{0.0,\n",
       " 0.16012815380508716,\n",
       " 0.1666666666666667,\n",
       " 0.2041241452319315,\n",
       " 0.2357022603955159,\n",
       " 0.25819888974716115,\n",
       " 0.2886751345948129,\n",
       " 0.3333333333333334,\n",
       " 0.408248290463863,\n",
       " 1.0000000000000002}"
      ]
     },
     "execution_count": 51,
     "metadata": {},
     "output_type": "execute_result"
    }
   ],
   "source": [
    "set(cosine_sim[0])"
   ]
  },
  {
   "cell_type": "code",
   "execution_count": 56,
   "id": "f5d580d5-99f3-45c3-aeca-12dea790e7e9",
   "metadata": {},
   "outputs": [],
   "source": [
    "fillnabooks=fillnabooks.reset_index()\n"
   ]
  },
  {
   "cell_type": "code",
   "execution_count": 57,
   "id": "08f18582-2a67-483b-8a65-5c6dc9d4b893",
   "metadata": {},
   "outputs": [],
   "source": [
    "indices = pd.Series(fillnabooks.index , index=fillnabooks.original_title)"
   ]
  },
  {
   "cell_type": "code",
   "execution_count": 58,
   "id": "0e739c3d-7674-4f02-bd24-c6f0b5a7d20e",
   "metadata": {},
   "outputs": [
    {
     "data": {
      "text/plain": [
       "original_title\n",
       "The Hunger Games                            0\n",
       "Harry Potter and the Philosopher's Stone    1\n",
       "To Kill a Mockingbird                       2\n",
       "The Great Gatsby                            3\n",
       "The Fault in Our Stars                      4\n",
       "dtype: int64"
      ]
     },
     "execution_count": 58,
     "metadata": {},
     "output_type": "execute_result"
    }
   ],
   "source": [
    "indices.head()"
   ]
  },
  {
   "cell_type": "code",
   "execution_count": 72,
   "id": "4f3accc0-ac06-4548-8d33-422960e97cfc",
   "metadata": {},
   "outputs": [],
   "source": [
    "def get_recommandations(title , cosine_sim = cosine_sim):\n",
    "    # title = str.lower(title.replace(\" \" , \"\"))\n",
    "    idx = indices[title]\n",
    "    result = list(enumerate(cosine_sim[idx]))\n",
    "    result = sorted(result, key=lambda x: x[1] , reverse=True)\n",
    "    # print(result)\n",
    "    result = result[1:11]\n",
    "    # print(result)\n",
    "    book_indicies = [i[0] for i in result]\n",
    "    # print(book_indicies)\n",
    "    return books['original_title'].iloc[book_indicies]"
   ]
  },
  {
   "cell_type": "code",
   "execution_count": 73,
   "id": "d53c4b66-dfbf-4268-aa60-acc0408b12e0",
   "metadata": {},
   "outputs": [
    {
     "name": "stdout",
     "output_type": "stream",
     "text": [
      "10                                  The Kite Runner \n",
      "73                                Looking for Alaska\n",
      "87                                       Paper Towns\n",
      "274                       An Abundance of Katherines\n",
      "408    Fried Green Tomatoes at the Whistle Stop Cafe\n",
      "439                                   Fall of Giants\n",
      "672                                       Americanah\n",
      "722                                        Shantaram\n",
      "748                                  The Storyteller\n",
      "857                                       Red Rising\n",
      "Name: original_title, dtype: object\n"
     ]
    }
   ],
   "source": [
    "result = get_recommandations('The Fault in Our Stars')\n",
    "print(result)"
   ]
  },
  {
   "cell_type": "code",
   "execution_count": 75,
   "id": "92e04a51-76d2-4532-9094-8230c91a1211",
   "metadata": {},
   "outputs": [
    {
     "data": {
      "text/html": [
       "<div>\n",
       "<style scoped>\n",
       "    .dataframe tbody tr th:only-of-type {\n",
       "        vertical-align: middle;\n",
       "    }\n",
       "\n",
       "    .dataframe tbody tr th {\n",
       "        vertical-align: top;\n",
       "    }\n",
       "\n",
       "    .dataframe thead th {\n",
       "        text-align: right;\n",
       "    }\n",
       "</style>\n",
       "<table border=\"1\" class=\"dataframe\">\n",
       "  <thead>\n",
       "    <tr style=\"text-align: right;\">\n",
       "      <th></th>\n",
       "      <th>id</th>\n",
       "      <th>book_id</th>\n",
       "      <th>best_book_id</th>\n",
       "      <th>work_id</th>\n",
       "      <th>books_count</th>\n",
       "      <th>isbn13</th>\n",
       "      <th>original_publication_year</th>\n",
       "      <th>average_rating</th>\n",
       "      <th>ratings_count</th>\n",
       "      <th>work_ratings_count</th>\n",
       "      <th>work_text_reviews_count</th>\n",
       "      <th>ratings_1</th>\n",
       "      <th>ratings_2</th>\n",
       "      <th>ratings_3</th>\n",
       "      <th>ratings_4</th>\n",
       "      <th>ratings_5</th>\n",
       "    </tr>\n",
       "  </thead>\n",
       "  <tbody>\n",
       "    <tr>\n",
       "      <th>count</th>\n",
       "      <td>9151.000000</td>\n",
       "      <td>9.151000e+03</td>\n",
       "      <td>9.151000e+03</td>\n",
       "      <td>9.151000e+03</td>\n",
       "      <td>9151.000000</td>\n",
       "      <td>8.711000e+03</td>\n",
       "      <td>9145.000000</td>\n",
       "      <td>9151.000000</td>\n",
       "      <td>9.151000e+03</td>\n",
       "      <td>9.151000e+03</td>\n",
       "      <td>9151.000000</td>\n",
       "      <td>9151.000000</td>\n",
       "      <td>9151.000000</td>\n",
       "      <td>9151.000000</td>\n",
       "      <td>9.151000e+03</td>\n",
       "      <td>9.151000e+03</td>\n",
       "    </tr>\n",
       "    <tr>\n",
       "      <th>mean</th>\n",
       "      <td>4909.648891</td>\n",
       "      <td>4.869336e+06</td>\n",
       "      <td>5.078243e+06</td>\n",
       "      <td>7.977119e+06</td>\n",
       "      <td>78.362474</td>\n",
       "      <td>9.756300e+12</td>\n",
       "      <td>1981.138218</td>\n",
       "      <td>3.999263</td>\n",
       "      <td>5.537463e+04</td>\n",
       "      <td>6.122016e+04</td>\n",
       "      <td>2986.376024</td>\n",
       "      <td>1337.893017</td>\n",
       "      <td>3168.733909</td>\n",
       "      <td>11784.247077</td>\n",
       "      <td>2.055987e+04</td>\n",
       "      <td>2.436941e+04</td>\n",
       "    </tr>\n",
       "    <tr>\n",
       "      <th>std</th>\n",
       "      <td>2884.017088</td>\n",
       "      <td>7.339193e+06</td>\n",
       "      <td>7.607401e+06</td>\n",
       "      <td>1.128290e+07</td>\n",
       "      <td>171.877505</td>\n",
       "      <td>4.331086e+11</td>\n",
       "      <td>154.608318</td>\n",
       "      <td>0.252293</td>\n",
       "      <td>1.576800e+05</td>\n",
       "      <td>1.686121e+05</td>\n",
       "      <td>6194.711899</td>\n",
       "      <td>4978.452293</td>\n",
       "      <td>8954.819986</td>\n",
       "      <td>28259.079754</td>\n",
       "      <td>5.233150e+04</td>\n",
       "      <td>8.139372e+04</td>\n",
       "    </tr>\n",
       "    <tr>\n",
       "      <th>min</th>\n",
       "      <td>1.000000</td>\n",
       "      <td>1.000000e+00</td>\n",
       "      <td>1.000000e+00</td>\n",
       "      <td>8.700000e+01</td>\n",
       "      <td>1.000000</td>\n",
       "      <td>1.951703e+08</td>\n",
       "      <td>-1750.000000</td>\n",
       "      <td>2.470000</td>\n",
       "      <td>2.716000e+03</td>\n",
       "      <td>5.510000e+03</td>\n",
       "      <td>3.000000</td>\n",
       "      <td>11.000000</td>\n",
       "      <td>30.000000</td>\n",
       "      <td>323.000000</td>\n",
       "      <td>7.500000e+02</td>\n",
       "      <td>7.540000e+02</td>\n",
       "    </tr>\n",
       "    <tr>\n",
       "      <th>25%</th>\n",
       "      <td>2401.500000</td>\n",
       "      <td>4.329000e+04</td>\n",
       "      <td>4.391150e+04</td>\n",
       "      <td>9.795275e+05</td>\n",
       "      <td>25.000000</td>\n",
       "      <td>9.780316e+12</td>\n",
       "      <td>1989.000000</td>\n",
       "      <td>3.850000</td>\n",
       "      <td>1.369100e+04</td>\n",
       "      <td>1.556100e+04</td>\n",
       "      <td>698.000000</td>\n",
       "      <td>197.000000</td>\n",
       "      <td>667.000000</td>\n",
       "      <td>3165.500000</td>\n",
       "      <td>5.480000e+03</td>\n",
       "      <td>5.357500e+03</td>\n",
       "    </tr>\n",
       "    <tr>\n",
       "      <th>50%</th>\n",
       "      <td>4864.000000</td>\n",
       "      <td>3.307600e+05</td>\n",
       "      <td>3.499290e+05</td>\n",
       "      <td>2.516519e+06</td>\n",
       "      <td>42.000000</td>\n",
       "      <td>9.780451e+12</td>\n",
       "      <td>2004.000000</td>\n",
       "      <td>4.020000</td>\n",
       "      <td>2.166200e+04</td>\n",
       "      <td>2.432400e+04</td>\n",
       "      <td>1413.000000</td>\n",
       "      <td>397.000000</td>\n",
       "      <td>1192.000000</td>\n",
       "      <td>5043.000000</td>\n",
       "      <td>8.534000e+03</td>\n",
       "      <td>8.939000e+03</td>\n",
       "    </tr>\n",
       "    <tr>\n",
       "      <th>75%</th>\n",
       "      <td>7396.500000</td>\n",
       "      <td>8.069682e+06</td>\n",
       "      <td>8.448476e+06</td>\n",
       "      <td>1.314362e+07</td>\n",
       "      <td>69.000000</td>\n",
       "      <td>9.780813e+12</td>\n",
       "      <td>2010.000000</td>\n",
       "      <td>4.170000</td>\n",
       "      <td>4.251100e+04</td>\n",
       "      <td>4.777500e+04</td>\n",
       "      <td>2852.500000</td>\n",
       "      <td>915.500000</td>\n",
       "      <td>2454.000000</td>\n",
       "      <td>9639.000000</td>\n",
       "      <td>1.680250e+04</td>\n",
       "      <td>1.778350e+04</td>\n",
       "    </tr>\n",
       "    <tr>\n",
       "      <th>max</th>\n",
       "      <td>10000.000000</td>\n",
       "      <td>3.328864e+07</td>\n",
       "      <td>3.553423e+07</td>\n",
       "      <td>5.639960e+07</td>\n",
       "      <td>3455.000000</td>\n",
       "      <td>9.790008e+12</td>\n",
       "      <td>2017.000000</td>\n",
       "      <td>4.820000</td>\n",
       "      <td>4.780653e+06</td>\n",
       "      <td>4.942365e+06</td>\n",
       "      <td>155254.000000</td>\n",
       "      <td>165455.000000</td>\n",
       "      <td>197621.000000</td>\n",
       "      <td>606158.000000</td>\n",
       "      <td>1.481305e+06</td>\n",
       "      <td>3.011543e+06</td>\n",
       "    </tr>\n",
       "  </tbody>\n",
       "</table>\n",
       "</div>"
      ],
      "text/plain": [
       "                 id       book_id  best_book_id       work_id  books_count  \\\n",
       "count   9151.000000  9.151000e+03  9.151000e+03  9.151000e+03  9151.000000   \n",
       "mean    4909.648891  4.869336e+06  5.078243e+06  7.977119e+06    78.362474   \n",
       "std     2884.017088  7.339193e+06  7.607401e+06  1.128290e+07   171.877505   \n",
       "min        1.000000  1.000000e+00  1.000000e+00  8.700000e+01     1.000000   \n",
       "25%     2401.500000  4.329000e+04  4.391150e+04  9.795275e+05    25.000000   \n",
       "50%     4864.000000  3.307600e+05  3.499290e+05  2.516519e+06    42.000000   \n",
       "75%     7396.500000  8.069682e+06  8.448476e+06  1.314362e+07    69.000000   \n",
       "max    10000.000000  3.328864e+07  3.553423e+07  5.639960e+07  3455.000000   \n",
       "\n",
       "             isbn13  original_publication_year  average_rating  ratings_count  \\\n",
       "count  8.711000e+03                9145.000000     9151.000000   9.151000e+03   \n",
       "mean   9.756300e+12                1981.138218        3.999263   5.537463e+04   \n",
       "std    4.331086e+11                 154.608318        0.252293   1.576800e+05   \n",
       "min    1.951703e+08               -1750.000000        2.470000   2.716000e+03   \n",
       "25%    9.780316e+12                1989.000000        3.850000   1.369100e+04   \n",
       "50%    9.780451e+12                2004.000000        4.020000   2.166200e+04   \n",
       "75%    9.780813e+12                2010.000000        4.170000   4.251100e+04   \n",
       "max    9.790008e+12                2017.000000        4.820000   4.780653e+06   \n",
       "\n",
       "       work_ratings_count  work_text_reviews_count      ratings_1  \\\n",
       "count        9.151000e+03              9151.000000    9151.000000   \n",
       "mean         6.122016e+04              2986.376024    1337.893017   \n",
       "std          1.686121e+05              6194.711899    4978.452293   \n",
       "min          5.510000e+03                 3.000000      11.000000   \n",
       "25%          1.556100e+04               698.000000     197.000000   \n",
       "50%          2.432400e+04              1413.000000     397.000000   \n",
       "75%          4.777500e+04              2852.500000     915.500000   \n",
       "max          4.942365e+06            155254.000000  165455.000000   \n",
       "\n",
       "           ratings_2      ratings_3     ratings_4     ratings_5  \n",
       "count    9151.000000    9151.000000  9.151000e+03  9.151000e+03  \n",
       "mean     3168.733909   11784.247077  2.055987e+04  2.436941e+04  \n",
       "std      8954.819986   28259.079754  5.233150e+04  8.139372e+04  \n",
       "min        30.000000     323.000000  7.500000e+02  7.540000e+02  \n",
       "25%       667.000000    3165.500000  5.480000e+03  5.357500e+03  \n",
       "50%      1192.000000    5043.000000  8.534000e+03  8.939000e+03  \n",
       "75%      2454.000000    9639.000000  1.680250e+04  1.778350e+04  \n",
       "max    197621.000000  606158.000000  1.481305e+06  3.011543e+06  "
      ]
     },
     "execution_count": 75,
     "metadata": {},
     "output_type": "execute_result"
    }
   ],
   "source": [
    "books.describe()"
   ]
  },
  {
   "cell_type": "code",
   "execution_count": 76,
   "id": "31efbb00-0be6-4448-8953-5b805cc3e2c7",
   "metadata": {},
   "outputs": [],
   "source": [
    "C = books['average_rating'].mean()"
   ]
  },
  {
   "cell_type": "code",
   "execution_count": 78,
   "id": "7bdcd145-170d-4d86-867b-14783806de87",
   "metadata": {},
   "outputs": [],
   "source": [
    "# 투표횟수 중 60%이상의 횟수에 달하는 숫자\n",
    "# 예를들어 총 투표횟수가 100과 1일때 m값은 매우 달라진다.\n",
    "m = books['ratings_count'].quantile(0.6)\n",
    "\n",
    "def weighted_vote_average(record):\n",
    "    v = record['ratings_count']\n",
    "    R = record['average_rating']\n",
    "    \n",
    "    return ( (v/(v+m)) * R) + ( (m/(m+v)) * C)\n",
    "    \n",
    "books['weighted_vote'] = books.apply(weighted_vote_average, axis=1)\n"
   ]
  },
  {
   "cell_type": "code",
   "execution_count": 79,
   "id": "f42a8407-db4d-4099-843b-201c48a36c9b",
   "metadata": {},
   "outputs": [
    {
     "data": {
      "text/html": [
       "<div>\n",
       "<style scoped>\n",
       "    .dataframe tbody tr th:only-of-type {\n",
       "        vertical-align: middle;\n",
       "    }\n",
       "\n",
       "    .dataframe tbody tr th {\n",
       "        vertical-align: top;\n",
       "    }\n",
       "\n",
       "    .dataframe thead th {\n",
       "        text-align: right;\n",
       "    }\n",
       "</style>\n",
       "<table border=\"1\" class=\"dataframe\">\n",
       "  <thead>\n",
       "    <tr style=\"text-align: right;\">\n",
       "      <th></th>\n",
       "      <th>id</th>\n",
       "      <th>book_id</th>\n",
       "      <th>best_book_id</th>\n",
       "      <th>work_id</th>\n",
       "      <th>books_count</th>\n",
       "      <th>isbn</th>\n",
       "      <th>isbn13</th>\n",
       "      <th>authors</th>\n",
       "      <th>original_publication_year</th>\n",
       "      <th>original_title</th>\n",
       "      <th>...</th>\n",
       "      <th>work_ratings_count</th>\n",
       "      <th>work_text_reviews_count</th>\n",
       "      <th>ratings_1</th>\n",
       "      <th>ratings_2</th>\n",
       "      <th>ratings_3</th>\n",
       "      <th>ratings_4</th>\n",
       "      <th>ratings_5</th>\n",
       "      <th>image_url</th>\n",
       "      <th>small_image_url</th>\n",
       "      <th>weighted_vote</th>\n",
       "    </tr>\n",
       "  </thead>\n",
       "  <tbody>\n",
       "    <tr>\n",
       "      <th>0</th>\n",
       "      <td>1</td>\n",
       "      <td>2767052</td>\n",
       "      <td>2767052</td>\n",
       "      <td>2792775</td>\n",
       "      <td>272</td>\n",
       "      <td>439023483</td>\n",
       "      <td>9.780439e+12</td>\n",
       "      <td>Suzanne Collins</td>\n",
       "      <td>2008.0</td>\n",
       "      <td>The Hunger Games</td>\n",
       "      <td>...</td>\n",
       "      <td>4942365</td>\n",
       "      <td>155254</td>\n",
       "      <td>66715</td>\n",
       "      <td>127936</td>\n",
       "      <td>560092</td>\n",
       "      <td>1481305</td>\n",
       "      <td>2706317</td>\n",
       "      <td>https://images.gr-assets.com/books/1447303603m...</td>\n",
       "      <td>https://images.gr-assets.com/books/1447303603s...</td>\n",
       "      <td>4.338089</td>\n",
       "    </tr>\n",
       "    <tr>\n",
       "      <th>1</th>\n",
       "      <td>2</td>\n",
       "      <td>3</td>\n",
       "      <td>3</td>\n",
       "      <td>4640799</td>\n",
       "      <td>491</td>\n",
       "      <td>439554934</td>\n",
       "      <td>9.780440e+12</td>\n",
       "      <td>J.K. Rowling, Mary GrandPré</td>\n",
       "      <td>1997.0</td>\n",
       "      <td>Harry Potter and the Philosopher's Stone</td>\n",
       "      <td>...</td>\n",
       "      <td>4800065</td>\n",
       "      <td>75867</td>\n",
       "      <td>75504</td>\n",
       "      <td>101676</td>\n",
       "      <td>455024</td>\n",
       "      <td>1156318</td>\n",
       "      <td>3011543</td>\n",
       "      <td>https://images.gr-assets.com/books/1474154022m...</td>\n",
       "      <td>https://images.gr-assets.com/books/1474154022s...</td>\n",
       "      <td>4.437432</td>\n",
       "    </tr>\n",
       "    <tr>\n",
       "      <th>3</th>\n",
       "      <td>4</td>\n",
       "      <td>2657</td>\n",
       "      <td>2657</td>\n",
       "      <td>3275794</td>\n",
       "      <td>487</td>\n",
       "      <td>61120081</td>\n",
       "      <td>9.780061e+12</td>\n",
       "      <td>Harper Lee</td>\n",
       "      <td>1960.0</td>\n",
       "      <td>To Kill a Mockingbird</td>\n",
       "      <td>...</td>\n",
       "      <td>3340896</td>\n",
       "      <td>72586</td>\n",
       "      <td>60427</td>\n",
       "      <td>117415</td>\n",
       "      <td>446835</td>\n",
       "      <td>1001952</td>\n",
       "      <td>1714267</td>\n",
       "      <td>https://images.gr-assets.com/books/1361975680m...</td>\n",
       "      <td>https://images.gr-assets.com/books/1361975680s...</td>\n",
       "      <td>4.247904</td>\n",
       "    </tr>\n",
       "    <tr>\n",
       "      <th>4</th>\n",
       "      <td>5</td>\n",
       "      <td>4671</td>\n",
       "      <td>4671</td>\n",
       "      <td>245494</td>\n",
       "      <td>1356</td>\n",
       "      <td>743273567</td>\n",
       "      <td>9.780743e+12</td>\n",
       "      <td>F. Scott Fitzgerald</td>\n",
       "      <td>1925.0</td>\n",
       "      <td>The Great Gatsby</td>\n",
       "      <td>...</td>\n",
       "      <td>2773745</td>\n",
       "      <td>51992</td>\n",
       "      <td>86236</td>\n",
       "      <td>197621</td>\n",
       "      <td>606158</td>\n",
       "      <td>936012</td>\n",
       "      <td>947718</td>\n",
       "      <td>https://images.gr-assets.com/books/1490528560m...</td>\n",
       "      <td>https://images.gr-assets.com/books/1490528560s...</td>\n",
       "      <td>3.891087</td>\n",
       "    </tr>\n",
       "    <tr>\n",
       "      <th>5</th>\n",
       "      <td>6</td>\n",
       "      <td>11870085</td>\n",
       "      <td>11870085</td>\n",
       "      <td>16827462</td>\n",
       "      <td>226</td>\n",
       "      <td>525478817</td>\n",
       "      <td>9.780525e+12</td>\n",
       "      <td>John Green</td>\n",
       "      <td>2012.0</td>\n",
       "      <td>The Fault in Our Stars</td>\n",
       "      <td>...</td>\n",
       "      <td>2478609</td>\n",
       "      <td>140739</td>\n",
       "      <td>47994</td>\n",
       "      <td>92723</td>\n",
       "      <td>327550</td>\n",
       "      <td>698471</td>\n",
       "      <td>1311871</td>\n",
       "      <td>https://images.gr-assets.com/books/1360206420m...</td>\n",
       "      <td>https://images.gr-assets.com/books/1360206420s...</td>\n",
       "      <td>4.257037</td>\n",
       "    </tr>\n",
       "  </tbody>\n",
       "</table>\n",
       "<p>5 rows × 24 columns</p>\n",
       "</div>"
      ],
      "text/plain": [
       "   id   book_id  best_book_id   work_id  books_count       isbn        isbn13  \\\n",
       "0   1   2767052       2767052   2792775          272  439023483  9.780439e+12   \n",
       "1   2         3             3   4640799          491  439554934  9.780440e+12   \n",
       "3   4      2657          2657   3275794          487   61120081  9.780061e+12   \n",
       "4   5      4671          4671    245494         1356  743273567  9.780743e+12   \n",
       "5   6  11870085      11870085  16827462          226  525478817  9.780525e+12   \n",
       "\n",
       "                       authors  original_publication_year  \\\n",
       "0              Suzanne Collins                     2008.0   \n",
       "1  J.K. Rowling, Mary GrandPré                     1997.0   \n",
       "3                   Harper Lee                     1960.0   \n",
       "4          F. Scott Fitzgerald                     1925.0   \n",
       "5                   John Green                     2012.0   \n",
       "\n",
       "                             original_title  ... work_ratings_count  \\\n",
       "0                          The Hunger Games  ...            4942365   \n",
       "1  Harry Potter and the Philosopher's Stone  ...            4800065   \n",
       "3                     To Kill a Mockingbird  ...            3340896   \n",
       "4                          The Great Gatsby  ...            2773745   \n",
       "5                    The Fault in Our Stars  ...            2478609   \n",
       "\n",
       "  work_text_reviews_count  ratings_1  ratings_2  ratings_3  ratings_4  \\\n",
       "0                  155254      66715     127936     560092    1481305   \n",
       "1                   75867      75504     101676     455024    1156318   \n",
       "3                   72586      60427     117415     446835    1001952   \n",
       "4                   51992      86236     197621     606158     936012   \n",
       "5                  140739      47994      92723     327550     698471   \n",
       "\n",
       "   ratings_5                                          image_url  \\\n",
       "0    2706317  https://images.gr-assets.com/books/1447303603m...   \n",
       "1    3011543  https://images.gr-assets.com/books/1474154022m...   \n",
       "3    1714267  https://images.gr-assets.com/books/1361975680m...   \n",
       "4     947718  https://images.gr-assets.com/books/1490528560m...   \n",
       "5    1311871  https://images.gr-assets.com/books/1360206420m...   \n",
       "\n",
       "                                     small_image_url  weighted_vote  \n",
       "0  https://images.gr-assets.com/books/1447303603s...       4.338089  \n",
       "1  https://images.gr-assets.com/books/1474154022s...       4.437432  \n",
       "3  https://images.gr-assets.com/books/1361975680s...       4.247904  \n",
       "4  https://images.gr-assets.com/books/1490528560s...       3.891087  \n",
       "5  https://images.gr-assets.com/books/1360206420s...       4.257037  \n",
       "\n",
       "[5 rows x 24 columns]"
      ]
     },
     "execution_count": 79,
     "metadata": {},
     "output_type": "execute_result"
    }
   ],
   "source": [
    "books.head()"
   ]
  },
  {
   "cell_type": "code",
   "execution_count": 88,
   "id": "75003fbc-210f-479f-bdb8-b999e06a9535",
   "metadata": {},
   "outputs": [],
   "source": [
    "def get_recommandations(title , cosine_sim = cosine_sim):\n",
    "    # title = str.lower(title.replace(\" \" , \"\"))\n",
    "    idx = indices[title]\n",
    "    result = list(enumerate(cosine_sim[idx]))\n",
    "    result = sorted(result, key=lambda x: x[1] , reverse=True)\n",
    "    # print(result)\n",
    "    result = result[1:21]\n",
    "    # print(result)\n",
    "    book_indicies = [i[0] for i in result]\n",
    "    # print(book_indicies) df.iloc[similar_idx].sort_values(by=['weighted_vote'], ascending=False)[:top_n]\n",
    "    # print(type(books.iloc[book_indicies]))\n",
    "    # return books['original_title'].iloc[book_indicies]\n",
    "    return books.iloc[book_indicies].sort_values(by=['weighted_vote'], ascending=False)[:10]['original_title']"
   ]
  },
  {
   "cell_type": "code",
   "execution_count": 89,
   "id": "e708d728-dc07-4e14-9e48-e09bf2f57857",
   "metadata": {},
   "outputs": [
    {
     "name": "stdout",
     "output_type": "stream",
     "text": [
      "10                                   The Kite Runner \n",
      "408     Fried Green Tomatoes at the Whistle Stop Cafe\n",
      "439                                    Fall of Giants\n",
      "937                                 The Edge of Never\n",
      "672                                        Americanah\n",
      "748                                   The Storyteller\n",
      "857                                        Red Rising\n",
      "863                                   The Fiery Cross\n",
      "722                                         Shantaram\n",
      "1504                                The Darkest Minds\n",
      "Name: original_title, dtype: object\n"
     ]
    }
   ],
   "source": [
    "result = get_recommandations('The Fault in Our Stars')\n",
    "print(result)"
   ]
  },
  {
   "cell_type": "code",
   "execution_count": null,
   "id": "ec4c539f-3129-4904-b1ae-2da7e18a6876",
   "metadata": {},
   "outputs": [],
   "source": [
    "C = movies_df['vote_average'].mean()\n",
    "\n",
    "# 투표횟수 중 60%이상의 횟수에 달하는 숫자\n",
    "# 예를들어 총 투표횟수가 100과 1일때 m값은 매우 달라진다.\n",
    "m = movies_df['vote_count'].quantile(0.6)\n",
    "\n",
    "def weighted_vote_average(record):\n",
    "    v = record['vote_count']\n",
    "    R = record['vote_average']\n",
    "    \n",
    "    return ( (v/(v+m)) * R) + ( (m/(m+v)) * C)\n",
    "    \n",
    "movies_df['weighted_vote'] = movies_df.apply(weighted_vote_average, axis=1)\n",
    " \n",
    "# 가중 평점 변수를 추가해서 유사한 영화 찾아주는 함수 재정의\n",
    "def find_sim_movie(df, sorted_idx, title_name, top_n=10):\n",
    "    title_movie = df[df['title'] == title_name]\n",
    "    title_idx = title_movie.index.values\n",
    "    \n",
    "    similar_idx = sorted_idx[title_idx, :(top_n*2)]\n",
    "    similar_idx = similar_idx.reshape(-1,)\n",
    "    \n",
    "    #자기 자신 영화 제외, boolean index기법 사용!\n",
    "    similar_idx = similar_idx[similar_idx != title_idx]\n",
    "    return df.iloc[similar_idx].sort_values(by=['weighted_vote'], ascending=False)[:top_n]\n",
    "\n",
    "similar_movies = find_sim_movie(movies_df, genre_sim_idx,\n",
    "                               'The Avengers')\n",
    "print(similar_movies[['title','vote_average','weighted_vote']])"
   ]
  }
 ],
 "metadata": {
  "kernelspec": {
   "display_name": "Python 3 (ipykernel)",
   "language": "python",
   "name": "python3"
  },
  "language_info": {
   "codemirror_mode": {
    "name": "ipython",
    "version": 3
   },
   "file_extension": ".py",
   "mimetype": "text/x-python",
   "name": "python",
   "nbconvert_exporter": "python",
   "pygments_lexer": "ipython3",
   "version": "3.11.5"
  }
 },
 "nbformat": 4,
 "nbformat_minor": 5
}
