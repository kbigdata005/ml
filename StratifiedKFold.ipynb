{
 "cells": [
  {
   "cell_type": "markdown",
   "id": "5332af60-9da2-44c2-b2f8-e9114d308717",
   "metadata": {},
   "source": [
    "### sklearn.model_selection.StratifiedKFold\n",
    "* class sklearn.model_selection.StratifiedKFold(n_splits=5, *, shuffle=False, random_state=None)"
   ]
  },
  {
   "cell_type": "code",
   "execution_count": 1,
   "id": "ece5e059-81e7-42d5-bd7b-3785745ef470",
   "metadata": {},
   "outputs": [
    {
     "name": "stdout",
     "output_type": "stream",
     "text": [
      "붓꽃 데이터 세트 크기: 150\n",
      "StratifiedKFold(n_splits=5, random_state=None, shuffle=False)\n"
     ]
    }
   ],
   "source": [
    "from sklearn.datasets import load_iris\n",
    "from sklearn.tree import DecisionTreeClassifier\n",
    "from sklearn.metrics import accuracy_score\n",
    "from sklearn.model_selection import KFold ,StratifiedKFold\n",
    "import numpy as np\n",
    "iris = load_iris()\n",
    "features= iris.data\n",
    "label = iris.target\n",
    "dt_clf = DecisionTreeClassifier(random_state=156)\n",
    "# 5개의 폴드 세트로 분리하는 StratifiedKFold 객체와 폴드 세트별\n",
    "skfold = StratifiedKFold(n_splits=5)\n",
    "cv_accuracy = []\n",
    "print('붓꽃 데이터 세트 크기:',features.shape[0] )\n",
    "print(skfold)"
   ]
  },
  {
   "cell_type": "code",
   "execution_count": 4,
   "id": "2ab5238b-82f2-4b8e-88f8-5eb0039f3f78",
   "metadata": {},
   "outputs": [
    {
     "name": "stdout",
     "output_type": "stream",
     "text": [
      "(array([ 10,  11,  12,  13,  14,  15,  16,  17,  18,  19,  20,  21,  22,\n",
      "        23,  24,  25,  26,  27,  28,  29,  30,  31,  32,  33,  34,  35,\n",
      "        36,  37,  38,  39,  40,  41,  42,  43,  44,  45,  46,  47,  48,\n",
      "        49,  60,  61,  62,  63,  64,  65,  66,  67,  68,  69,  70,  71,\n",
      "        72,  73,  74,  75,  76,  77,  78,  79,  80,  81,  82,  83,  84,\n",
      "        85,  86,  87,  88,  89,  90,  91,  92,  93,  94,  95,  96,  97,\n",
      "        98,  99, 110, 111, 112, 113, 114, 115, 116, 117, 118, 119, 120,\n",
      "       121, 122, 123, 124, 125, 126, 127, 128, 129, 130, 131, 132, 133,\n",
      "       134, 135, 136, 137, 138, 139, 140, 141, 142, 143, 144, 145, 146,\n",
      "       147, 148, 149]), array([  0,   1,   2,   3,   4,   5,   6,   7,   8,   9,  50,  51,  52,\n",
      "        53,  54,  55,  56,  57,  58,  59, 100, 101, 102, 103, 104, 105,\n",
      "       106, 107, 108, 109]))\n",
      "(array([  0,   1,   2,   3,   4,   5,   6,   7,   8,   9,  20,  21,  22,\n",
      "        23,  24,  25,  26,  27,  28,  29,  30,  31,  32,  33,  34,  35,\n",
      "        36,  37,  38,  39,  40,  41,  42,  43,  44,  45,  46,  47,  48,\n",
      "        49,  50,  51,  52,  53,  54,  55,  56,  57,  58,  59,  70,  71,\n",
      "        72,  73,  74,  75,  76,  77,  78,  79,  80,  81,  82,  83,  84,\n",
      "        85,  86,  87,  88,  89,  90,  91,  92,  93,  94,  95,  96,  97,\n",
      "        98,  99, 100, 101, 102, 103, 104, 105, 106, 107, 108, 109, 120,\n",
      "       121, 122, 123, 124, 125, 126, 127, 128, 129, 130, 131, 132, 133,\n",
      "       134, 135, 136, 137, 138, 139, 140, 141, 142, 143, 144, 145, 146,\n",
      "       147, 148, 149]), array([ 10,  11,  12,  13,  14,  15,  16,  17,  18,  19,  60,  61,  62,\n",
      "        63,  64,  65,  66,  67,  68,  69, 110, 111, 112, 113, 114, 115,\n",
      "       116, 117, 118, 119]))\n",
      "(array([  0,   1,   2,   3,   4,   5,   6,   7,   8,   9,  10,  11,  12,\n",
      "        13,  14,  15,  16,  17,  18,  19,  30,  31,  32,  33,  34,  35,\n",
      "        36,  37,  38,  39,  40,  41,  42,  43,  44,  45,  46,  47,  48,\n",
      "        49,  50,  51,  52,  53,  54,  55,  56,  57,  58,  59,  60,  61,\n",
      "        62,  63,  64,  65,  66,  67,  68,  69,  80,  81,  82,  83,  84,\n",
      "        85,  86,  87,  88,  89,  90,  91,  92,  93,  94,  95,  96,  97,\n",
      "        98,  99, 100, 101, 102, 103, 104, 105, 106, 107, 108, 109, 110,\n",
      "       111, 112, 113, 114, 115, 116, 117, 118, 119, 130, 131, 132, 133,\n",
      "       134, 135, 136, 137, 138, 139, 140, 141, 142, 143, 144, 145, 146,\n",
      "       147, 148, 149]), array([ 20,  21,  22,  23,  24,  25,  26,  27,  28,  29,  70,  71,  72,\n",
      "        73,  74,  75,  76,  77,  78,  79, 120, 121, 122, 123, 124, 125,\n",
      "       126, 127, 128, 129]))\n",
      "(array([  0,   1,   2,   3,   4,   5,   6,   7,   8,   9,  10,  11,  12,\n",
      "        13,  14,  15,  16,  17,  18,  19,  20,  21,  22,  23,  24,  25,\n",
      "        26,  27,  28,  29,  40,  41,  42,  43,  44,  45,  46,  47,  48,\n",
      "        49,  50,  51,  52,  53,  54,  55,  56,  57,  58,  59,  60,  61,\n",
      "        62,  63,  64,  65,  66,  67,  68,  69,  70,  71,  72,  73,  74,\n",
      "        75,  76,  77,  78,  79,  90,  91,  92,  93,  94,  95,  96,  97,\n",
      "        98,  99, 100, 101, 102, 103, 104, 105, 106, 107, 108, 109, 110,\n",
      "       111, 112, 113, 114, 115, 116, 117, 118, 119, 120, 121, 122, 123,\n",
      "       124, 125, 126, 127, 128, 129, 140, 141, 142, 143, 144, 145, 146,\n",
      "       147, 148, 149]), array([ 30,  31,  32,  33,  34,  35,  36,  37,  38,  39,  80,  81,  82,\n",
      "        83,  84,  85,  86,  87,  88,  89, 130, 131, 132, 133, 134, 135,\n",
      "       136, 137, 138, 139]))\n",
      "(array([  0,   1,   2,   3,   4,   5,   6,   7,   8,   9,  10,  11,  12,\n",
      "        13,  14,  15,  16,  17,  18,  19,  20,  21,  22,  23,  24,  25,\n",
      "        26,  27,  28,  29,  30,  31,  32,  33,  34,  35,  36,  37,  38,\n",
      "        39,  50,  51,  52,  53,  54,  55,  56,  57,  58,  59,  60,  61,\n",
      "        62,  63,  64,  65,  66,  67,  68,  69,  70,  71,  72,  73,  74,\n",
      "        75,  76,  77,  78,  79,  80,  81,  82,  83,  84,  85,  86,  87,\n",
      "        88,  89, 100, 101, 102, 103, 104, 105, 106, 107, 108, 109, 110,\n",
      "       111, 112, 113, 114, 115, 116, 117, 118, 119, 120, 121, 122, 123,\n",
      "       124, 125, 126, 127, 128, 129, 130, 131, 132, 133, 134, 135, 136,\n",
      "       137, 138, 139]), array([ 40,  41,  42,  43,  44,  45,  46,  47,  48,  49,  90,  91,  92,\n",
      "        93,  94,  95,  96,  97,  98,  99, 140, 141, 142, 143, 144, 145,\n",
      "       146, 147, 148, 149]))\n"
     ]
    }
   ],
   "source": [
    "for i in skfold.split(features , label):\n",
    "    print(i)"
   ]
  },
  {
   "cell_type": "code",
   "execution_count": 5,
   "id": "4b4ea202-8f28-49d2-9397-f89bb671763c",
   "metadata": {},
   "outputs": [
    {
     "name": "stdout",
     "output_type": "stream",
     "text": [
      "\n",
      "#1 교차 검증 정확도 : 0.9667,학습데이터 크기:120,검증데이터 크기:30\n",
      "#1 검정 세트 인덱스:[  0   1   2   3   4   5   6   7   8   9  50  51  52  53  54  55  56  57\n",
      "  58  59 100 101 102 103 104 105 106 107 108 109]\n",
      "\n",
      "#2 교차 검증 정확도 : 0.9667,학습데이터 크기:120,검증데이터 크기:30\n",
      "#2 검정 세트 인덱스:[ 10  11  12  13  14  15  16  17  18  19  60  61  62  63  64  65  66  67\n",
      "  68  69 110 111 112 113 114 115 116 117 118 119]\n",
      "\n",
      "#3 교차 검증 정확도 : 0.9,학습데이터 크기:120,검증데이터 크기:30\n",
      "#3 검정 세트 인덱스:[ 20  21  22  23  24  25  26  27  28  29  70  71  72  73  74  75  76  77\n",
      "  78  79 120 121 122 123 124 125 126 127 128 129]\n",
      "\n",
      "#4 교차 검증 정확도 : 0.9667,학습데이터 크기:120,검증데이터 크기:30\n",
      "#4 검정 세트 인덱스:[ 30  31  32  33  34  35  36  37  38  39  80  81  82  83  84  85  86  87\n",
      "  88  89 130 131 132 133 134 135 136 137 138 139]\n",
      "\n",
      "#5 교차 검증 정확도 : 1.0,학습데이터 크기:120,검증데이터 크기:30\n",
      "#5 검정 세트 인덱스:[ 40  41  42  43  44  45  46  47  48  49  90  91  92  93  94  95  96  97\n",
      "  98  99 140 141 142 143 144 145 146 147 148 149]\n",
      "\n",
      "## 평균 검증 정확도: 0.9600200000000001\n"
     ]
    }
   ],
   "source": [
    "n_liter = 0 \n",
    "for train_index , test_index in skfold.split(features , label):\n",
    "    X_train , X_test = features[train_index] , features[test_index]\n",
    "    y_train , y_test = label[train_index],label[test_index]\n",
    "    dt_clf.fit(X_train,y_train)\n",
    "    pred = dt_clf.predict(X_test)\n",
    "    n_liter +=1\n",
    "    accuracy = np.round(accuracy_score(y_test,pred),4)\n",
    "    train_size = X_train.shape[0]\n",
    "    test_size = X_test.shape[0]\n",
    "    print(f'\\n#{n_liter} 교차 검증 정확도 : {accuracy},학습데이터 크기:{train_size},검증데이터 크기:{test_size}')\n",
    "    print(f'#{n_liter} 검정 세트 인덱스:{test_index}')\n",
    "    cv_accuracy.append(accuracy)\n",
    "#개별 iteration별 정확도를 합하여 평균 정확도 계산 \n",
    "print('\\n## 평균 검증 정확도:' , np.mean(cv_accuracy))"
   ]
  },
  {
   "cell_type": "code",
   "execution_count": 6,
   "id": "3cb10f8e-373c-4bb9-9d64-a26fc8d81243",
   "metadata": {},
   "outputs": [
    {
     "name": "stdout",
     "output_type": "stream",
     "text": [
      "붓꽃 데이터 세트 크기: 150\n",
      "StratifiedKFold(n_splits=3, random_state=None, shuffle=False)\n"
     ]
    }
   ],
   "source": [
    "skfold = StratifiedKFold(n_splits=3)\n",
    "cv_accuracy = []\n",
    "print('붓꽃 데이터 세트 크기:',features.shape[0] )\n",
    "print(skfold)"
   ]
  },
  {
   "cell_type": "code",
   "execution_count": 7,
   "id": "7af6be95-dc1b-448b-bb1f-0b0092df9f37",
   "metadata": {},
   "outputs": [
    {
     "name": "stdout",
     "output_type": "stream",
     "text": [
      "\n",
      "#1 교차 검증 정확도 : 0.98,학습데이터 크기:100,검증데이터 크기:50\n",
      "#1 검정 세트 인덱스:[  0   1   2   3   4   5   6   7   8   9  10  11  12  13  14  15  16  50\n",
      "  51  52  53  54  55  56  57  58  59  60  61  62  63  64  65  66 100 101\n",
      " 102 103 104 105 106 107 108 109 110 111 112 113 114 115]\n",
      "\n",
      "#2 교차 검증 정확도 : 0.94,학습데이터 크기:100,검증데이터 크기:50\n",
      "#2 검정 세트 인덱스:[ 17  18  19  20  21  22  23  24  25  26  27  28  29  30  31  32  33  67\n",
      "  68  69  70  71  72  73  74  75  76  77  78  79  80  81  82 116 117 118\n",
      " 119 120 121 122 123 124 125 126 127 128 129 130 131 132]\n",
      "\n",
      "#3 교차 검증 정확도 : 0.98,학습데이터 크기:100,검증데이터 크기:50\n",
      "#3 검정 세트 인덱스:[ 34  35  36  37  38  39  40  41  42  43  44  45  46  47  48  49  83  84\n",
      "  85  86  87  88  89  90  91  92  93  94  95  96  97  98  99 133 134 135\n",
      " 136 137 138 139 140 141 142 143 144 145 146 147 148 149]\n",
      "\n",
      "## 평균 검증 정확도: 0.9666666666666667\n"
     ]
    }
   ],
   "source": [
    "n_liter = 0 \n",
    "for train_index , test_index in skfold.split(features , label):\n",
    "    X_train , X_test = features[train_index] , features[test_index]\n",
    "    y_train , y_test = label[train_index],label[test_index]\n",
    "    dt_clf.fit(X_train,y_train)\n",
    "    pred = dt_clf.predict(X_test)\n",
    "    n_liter +=1\n",
    "    accuracy = np.round(accuracy_score(y_test,pred),4)\n",
    "    train_size = X_train.shape[0]\n",
    "    test_size = X_test.shape[0]\n",
    "    print(f'\\n#{n_liter} 교차 검증 정확도 : {accuracy},학습데이터 크기:{train_size},검증데이터 크기:{test_size}')\n",
    "    print(f'#{n_liter} 검정 세트 인덱스:{test_index}')\n",
    "    cv_accuracy.append(accuracy)\n",
    "#개별 iteration별 정확도를 합하여 평균 정확도 계산 \n",
    "print('\\n## 평균 검증 정확도:' , np.mean(cv_accuracy))"
   ]
  },
  {
   "cell_type": "code",
   "execution_count": null,
   "id": "2f351075-a8e5-464f-acdd-c077b2f7b34f",
   "metadata": {},
   "outputs": [],
   "source": []
  }
 ],
 "metadata": {
  "kernelspec": {
   "display_name": "Python 3 (ipykernel)",
   "language": "python",
   "name": "python3"
  },
  "language_info": {
   "codemirror_mode": {
    "name": "ipython",
    "version": 3
   },
   "file_extension": ".py",
   "mimetype": "text/x-python",
   "name": "python",
   "nbconvert_exporter": "python",
   "pygments_lexer": "ipython3",
   "version": "3.11.5"
  }
 },
 "nbformat": 4,
 "nbformat_minor": 5
}
