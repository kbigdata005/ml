{
 "cells": [
  {
   "cell_type": "markdown",
   "id": "1034c8bd-2918-4f05-adf2-e1745211550b",
   "metadata": {},
   "source": [
    "### sklearn.preprocessing.StandardScaler\n",
    "* class sklearn.preprocessing.StandardScaler(*, copy=True, with_mean=True, with_std=True)"
   ]
  },
  {
   "cell_type": "code",
   "execution_count": 10,
   "id": "8ca06310-aa6f-493c-a78b-10ac463cc175",
   "metadata": {},
   "outputs": [
    {
     "name": "stdout",
     "output_type": "stream",
     "text": [
      "decisiontree : 0.9533333333333334\n",
      "regression : 0.9733333333333334\n"
     ]
    },
    {
     "name": "stderr",
     "output_type": "stream",
     "text": [
      "C:\\Users\\user\\AppData\\Local\\Programs\\Python\\Python311\\Lib\\site-packages\\sklearn\\linear_model\\_logistic.py:460: ConvergenceWarning: lbfgs failed to converge (status=1):\n",
      "STOP: TOTAL NO. of ITERATIONS REACHED LIMIT.\n",
      "\n",
      "Increase the number of iterations (max_iter) or scale the data as shown in:\n",
      "    https://scikit-learn.org/stable/modules/preprocessing.html\n",
      "Please also refer to the documentation for alternative solver options:\n",
      "    https://scikit-learn.org/stable/modules/linear_model.html#logistic-regression\n",
      "  n_iter_i = _check_optimize_result(\n"
     ]
    }
   ],
   "source": [
    "from sklearn.datasets import load_iris\n",
    "from sklearn.tree import DecisionTreeClassifier\n",
    "from sklearn.model_selection import cross_val_score\n",
    "from sklearn.linear_model import LogisticRegression\n",
    "import numpy as np\n",
    "\n",
    "iris = load_iris()\n",
    "X = iris.data\n",
    "y = iris.target\n",
    "dt  = DecisionTreeClassifier(random_state=42)\n",
    "lr = LogisticRegression()\n",
    "\n",
    "result_dt = cross_val_score(dt ,X, y , cv=5 )\n",
    "result_lr = cross_val_score(lr ,X, y , cv=5 )\n",
    "\n",
    "print(f'decisiontree : {np.mean(result_dt)}')\n",
    "print(f'regression : {np.mean(result_lr)}')"
   ]
  },
  {
   "cell_type": "code",
   "execution_count": 11,
   "id": "21d660d4-3cd4-4518-a1b1-81f7f96591c6",
   "metadata": {},
   "outputs": [
    {
     "name": "stdout",
     "output_type": "stream",
     "text": [
      "decisiontree : 0.9533333333333334\n",
      "regression : 0.9600000000000002\n"
     ]
    }
   ],
   "source": [
    "from sklearn.preprocessing import StandardScaler , MinMaxScaler\n",
    "\n",
    "scaler = StandardScaler()\n",
    "\n",
    "scaler.fit(X)\n",
    "scaled_X = scaler.transform(X)\n",
    "\n",
    "result_dt = cross_val_score(dt ,scaled_X, y , cv=5 )\n",
    "result_lr = cross_val_score(lr ,scaled_X, y , cv=5 )\n",
    "\n",
    "print(f'decisiontree : {np.mean(result_dt)}')\n",
    "print(f'regression : {np.mean(result_lr)}')"
   ]
  },
  {
   "cell_type": "code",
   "execution_count": 12,
   "id": "79e5a61d-a034-4723-84ac-f987e45ede42",
   "metadata": {},
   "outputs": [
    {
     "name": "stdout",
     "output_type": "stream",
     "text": [
      "decisiontree : 0.9533333333333334\n",
      "regression : 0.9266666666666665\n"
     ]
    }
   ],
   "source": [
    "scaler = MinMaxScaler()\n",
    "\n",
    "scaler.fit(X)\n",
    "scaled_X = scaler.transform(X)\n",
    "\n",
    "result_dt = cross_val_score(dt ,scaled_X, y , cv=5 )\n",
    "result_lr = cross_val_score(lr ,scaled_X, y , cv=5 )\n",
    "\n",
    "print(f'decisiontree : {np.mean(result_dt)}')\n",
    "print(f'regression : {np.mean(result_lr)}')"
   ]
  },
  {
   "cell_type": "code",
   "execution_count": null,
   "id": "bbdbb7e6-0083-477d-8d52-4b219c235a17",
   "metadata": {},
   "outputs": [],
   "source": []
  }
 ],
 "metadata": {
  "kernelspec": {
   "display_name": "Python 3 (ipykernel)",
   "language": "python",
   "name": "python3"
  },
  "language_info": {
   "codemirror_mode": {
    "name": "ipython",
    "version": 3
   },
   "file_extension": ".py",
   "mimetype": "text/x-python",
   "name": "python",
   "nbconvert_exporter": "python",
   "pygments_lexer": "ipython3",
   "version": "3.11.5"
  }
 },
 "nbformat": 4,
 "nbformat_minor": 5
}
