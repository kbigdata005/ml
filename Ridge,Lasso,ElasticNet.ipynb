{
 "cells": [
  {
   "cell_type": "markdown",
   "id": "efca8fa9-b62f-4d32-ba64-7efb8714deda",
   "metadata": {},
   "source": [
    "### sklearn.linear_model.Ridge\n",
    "* class sklearn.linear_model.Ridge(alpha=1.0, *, fit_intercept=True, copy_X=True, max_iter=None, tol=0.0001, solver='auto', positive=False, random_state=None)"
   ]
  },
  {
   "cell_type": "code",
   "execution_count": 16,
   "id": "4cec7de5-57f8-4ff7-bcbd-c7adc464daf8",
   "metadata": {},
   "outputs": [],
   "source": [
    "import pandas as pd \n",
    "import numpy as np\n",
    "from sklearn.model_selection import train_test_split\n",
    "from sklearn.linear_model import Ridge , Lasso , ElasticNet\n",
    "from sklearn.metrics import r2_score, mean_squared_error\n",
    "from sklearn.model_selection import cross_val_score\n",
    "\n",
    "import warnings\n",
    "\n",
    "warnings.filterwarnings('ignore')\n",
    "\n",
    "column_names = ['CRIM', 'ZN', 'INDUS', 'CHAS', 'NOX', 'RM', 'AGE', 'DIS', 'RAD', 'TAX', 'PTRATIO', 'B', 'LSTAT', 'MEDV']\n",
    "df = pd.read_csv('./datasets/housing.csv', header=None, delimiter=r\"\\s+\", names=column_names)\n",
    "\n",
    "y_target = df['MEDV']\n",
    "X_data = df.drop(['MEDV'], axis=1, inplace=False)\n",
    "\n",
    "X_train, X_test, y_train, y_test = train_test_split(X_data, y_target, test_size =0.3, random_state=156)"
   ]
  },
  {
   "cell_type": "code",
   "execution_count": 17,
   "id": "2d4d6dca-cdf7-4ff8-ae20-9dd00c878fc3",
   "metadata": {},
   "outputs": [
    {
     "name": "stdout",
     "output_type": "stream",
     "text": [
      " 5 folds 의 개별 Negative MSE scores:  [-39.368 -21.739 -37.434 -26.32  -17.839]\n",
      " 5 folds 의 개별 RMSE scores : [6.274 4.663 6.118 5.13  4.224]\n",
      " 5 folds 의 평균 RMSE : 5.282 \n"
     ]
    }
   ],
   "source": [
    "# cross_val_score\n",
    "# cross _ val _ score\n",
    "ridge= Ridge(alpha= 10)\n",
    "neg_mse_scores = cross_val_score(ridge, X_train, y_train, scoring = 'neg_mean_squared_error', cv=5)\n",
    "rmse_scores = np.sqrt(-1*neg_mse_scores)\n",
    "avg_rmse=np.mean(rmse_scores)\n",
    "\n",
    "print(' 5 folds 의 개별 Negative MSE scores: ', np.round(neg_mse_scores, 3))\n",
    "print(' 5 folds 의 개별 RMSE scores :', np.round(rmse_scores,3))\n",
    "print(' 5 folds 의 평균 RMSE : {0:.3f} '.format(avg_rmse))"
   ]
  },
  {
   "cell_type": "code",
   "execution_count": 18,
   "id": "294e5644-284e-4c1e-bdc1-06b2ea0c14c2",
   "metadata": {},
   "outputs": [
    {
     "data": {
      "text/html": [
       "<style>#sk-container-id-2 {color: black;}#sk-container-id-2 pre{padding: 0;}#sk-container-id-2 div.sk-toggleable {background-color: white;}#sk-container-id-2 label.sk-toggleable__label {cursor: pointer;display: block;width: 100%;margin-bottom: 0;padding: 0.3em;box-sizing: border-box;text-align: center;}#sk-container-id-2 label.sk-toggleable__label-arrow:before {content: \"▸\";float: left;margin-right: 0.25em;color: #696969;}#sk-container-id-2 label.sk-toggleable__label-arrow:hover:before {color: black;}#sk-container-id-2 div.sk-estimator:hover label.sk-toggleable__label-arrow:before {color: black;}#sk-container-id-2 div.sk-toggleable__content {max-height: 0;max-width: 0;overflow: hidden;text-align: left;background-color: #f0f8ff;}#sk-container-id-2 div.sk-toggleable__content pre {margin: 0.2em;color: black;border-radius: 0.25em;background-color: #f0f8ff;}#sk-container-id-2 input.sk-toggleable__control:checked~div.sk-toggleable__content {max-height: 200px;max-width: 100%;overflow: auto;}#sk-container-id-2 input.sk-toggleable__control:checked~label.sk-toggleable__label-arrow:before {content: \"▾\";}#sk-container-id-2 div.sk-estimator input.sk-toggleable__control:checked~label.sk-toggleable__label {background-color: #d4ebff;}#sk-container-id-2 div.sk-label input.sk-toggleable__control:checked~label.sk-toggleable__label {background-color: #d4ebff;}#sk-container-id-2 input.sk-hidden--visually {border: 0;clip: rect(1px 1px 1px 1px);clip: rect(1px, 1px, 1px, 1px);height: 1px;margin: -1px;overflow: hidden;padding: 0;position: absolute;width: 1px;}#sk-container-id-2 div.sk-estimator {font-family: monospace;background-color: #f0f8ff;border: 1px dotted black;border-radius: 0.25em;box-sizing: border-box;margin-bottom: 0.5em;}#sk-container-id-2 div.sk-estimator:hover {background-color: #d4ebff;}#sk-container-id-2 div.sk-parallel-item::after {content: \"\";width: 100%;border-bottom: 1px solid gray;flex-grow: 1;}#sk-container-id-2 div.sk-label:hover label.sk-toggleable__label {background-color: #d4ebff;}#sk-container-id-2 div.sk-serial::before {content: \"\";position: absolute;border-left: 1px solid gray;box-sizing: border-box;top: 0;bottom: 0;left: 50%;z-index: 0;}#sk-container-id-2 div.sk-serial {display: flex;flex-direction: column;align-items: center;background-color: white;padding-right: 0.2em;padding-left: 0.2em;position: relative;}#sk-container-id-2 div.sk-item {position: relative;z-index: 1;}#sk-container-id-2 div.sk-parallel {display: flex;align-items: stretch;justify-content: center;background-color: white;position: relative;}#sk-container-id-2 div.sk-item::before, #sk-container-id-2 div.sk-parallel-item::before {content: \"\";position: absolute;border-left: 1px solid gray;box-sizing: border-box;top: 0;bottom: 0;left: 50%;z-index: -1;}#sk-container-id-2 div.sk-parallel-item {display: flex;flex-direction: column;z-index: 1;position: relative;background-color: white;}#sk-container-id-2 div.sk-parallel-item:first-child::after {align-self: flex-end;width: 50%;}#sk-container-id-2 div.sk-parallel-item:last-child::after {align-self: flex-start;width: 50%;}#sk-container-id-2 div.sk-parallel-item:only-child::after {width: 0;}#sk-container-id-2 div.sk-dashed-wrapped {border: 1px dashed gray;margin: 0 0.4em 0.5em 0.4em;box-sizing: border-box;padding-bottom: 0.4em;background-color: white;}#sk-container-id-2 div.sk-label label {font-family: monospace;font-weight: bold;display: inline-block;line-height: 1.2em;}#sk-container-id-2 div.sk-label-container {text-align: center;}#sk-container-id-2 div.sk-container {/* jupyter's `normalize.less` sets `[hidden] { display: none; }` but bootstrap.min.css set `[hidden] { display: none !important; }` so we also need the `!important` here to be able to override the default hidden behavior on the sphinx rendered scikit-learn.org. See: https://github.com/scikit-learn/scikit-learn/issues/21755 */display: inline-block !important;position: relative;}#sk-container-id-2 div.sk-text-repr-fallback {display: none;}</style><div id=\"sk-container-id-2\" class=\"sk-top-container\"><div class=\"sk-text-repr-fallback\"><pre>Ridge(alpha=10)</pre><b>In a Jupyter environment, please rerun this cell to show the HTML representation or trust the notebook. <br />On GitHub, the HTML representation is unable to render, please try loading this page with nbviewer.org.</b></div><div class=\"sk-container\" hidden><div class=\"sk-item\"><div class=\"sk-estimator sk-toggleable\"><input class=\"sk-toggleable__control sk-hidden--visually\" id=\"sk-estimator-id-2\" type=\"checkbox\" checked><label for=\"sk-estimator-id-2\" class=\"sk-toggleable__label sk-toggleable__label-arrow\">Ridge</label><div class=\"sk-toggleable__content\"><pre>Ridge(alpha=10)</pre></div></div></div></div></div>"
      ],
      "text/plain": [
       "Ridge(alpha=10)"
      ]
     },
     "execution_count": 18,
     "metadata": {},
     "output_type": "execute_result"
    }
   ],
   "source": [
    "ridge.fit(X_train,y_train)"
   ]
  },
  {
   "cell_type": "code",
   "execution_count": 19,
   "id": "a65c3e90-1212-460f-853d-b8e2a0933f32",
   "metadata": {},
   "outputs": [
    {
     "data": {
      "text/plain": [
       "array([-0.09899991,  0.07158454, -0.03587402,  1.95096359, -1.97071905,\n",
       "        3.200516  , -0.0056562 , -1.46784831,  0.32452012, -0.01618401,\n",
       "       -0.70840332,  0.01143944, -0.61772405])"
      ]
     },
     "execution_count": 19,
     "metadata": {},
     "output_type": "execute_result"
    }
   ],
   "source": [
    "ridge.coef_"
   ]
  },
  {
   "cell_type": "code",
   "execution_count": 20,
   "id": "b262d301-eee8-47b6-b5c4-9d507b6fd3b3",
   "metadata": {},
   "outputs": [
    {
     "name": "stdout",
     "output_type": "stream",
     "text": [
      "alpha 0 일 때 5 folds 의 평균 RMSE : 5.162\n",
      "alpha 0.1 일 때 5 folds 의 평균 RMSE : 5.165\n",
      "alpha 1 일 때 5 folds 의 평균 RMSE : 5.209\n",
      "alpha 10 일 때 5 folds 의 평균 RMSE : 5.282\n",
      "alpha 100 일 때 5 folds 의 평균 RMSE : 5.379\n"
     ]
    }
   ],
   "source": [
    "# ridge에 사용될 alpha 파라미터 값들 정의 \n",
    "alphas = [0, 0.1, 1, 10, 100]\n",
    "\n",
    "# alphas list의 값들 iteration 하면서 alpha에 따른 평균 rmse 구하기\n",
    "for alpha in alphas :\n",
    "  ridge = Ridge(alpha = alpha) # 규제강도 하나씩\n",
    "\n",
    "  # cross_val_score이용해서 5 fold 평균 RMSE계산\n",
    "  neg_mse_scores = cross_val_score(ridge, X_train, y_train, scoring = 'neg_mean_squared_error', cv=5)\n",
    "  avg_rmse = np.mean(np.sqrt(-1*neg_mse_scores))\n",
    "  print('alpha {0} 일 때 5 folds 의 평균 RMSE : {1:.3f}'.format(alpha,avg_rmse))"
   ]
  },
  {
   "cell_type": "code",
   "execution_count": 21,
   "id": "a82a69f4-9063-4d94-b97f-9fa639b2f642",
   "metadata": {},
   "outputs": [
    {
     "data": {
      "image/png": "[encoded data removed]",
      "text/plain": [
       "<Figure size 1800x600 with 5 Axes>"
      ]
     },
     "metadata": {},
     "output_type": "display_data"
    }
   ],
   "source": [
    "import matplotlib.pyplot as plt\n",
    "import seaborn as sns\n",
    "# 회귀계수값들 시각화하기 \n",
    "fig, axs = plt.subplots(figsize=(18,6), nrows=1, ncols=5)\n",
    "\n",
    "# df에 회귀계수값 저장할거야\n",
    "coeff_df = pd.DataFrame()\n",
    "\n",
    "# alphas 리스트값 차례대로 입력 , pos는 axis의 위치 지정\n",
    "for pos, alpha in enumerate(alphas):\n",
    "  ridge= Ridge(alpha= alpha)\n",
    "  ridge.fit(X_train, y_train)\n",
    "\n",
    "  # 회귀계수들을 컬럼으로 추가할거니까 시리즈로 만들고 추가\n",
    "  coeff = pd.Series(data = ridge.coef_, index = X_data.columns)\n",
    "  colname = 'alphas:' + str(alpha)\n",
    "  coeff_df[colname] = coeff\n",
    "\n",
    "  # 막대로 시각화하기 높은순으로\n",
    "  coeff = coeff.sort_values(ascending =False)\n",
    "  axs[pos].set_title(colname)\n",
    "  axs[pos].set_xlim(-3,6)\n",
    "  sns.barplot(x=coeff.values, y = coeff.index, ax=axs[pos])\n",
    "\n",
    "plt.show()"
   ]
  },
  {
   "cell_type": "code",
   "execution_count": 22,
   "id": "ec52a580-3270-4f64-8365-8c4b1a872aad",
   "metadata": {},
   "outputs": [
    {
     "name": "stdout",
     "output_type": "stream",
     "text": [
      "alpha 0 일 때  RMSE : 4.159\n",
      "alpha 0.1 일 때  RMSE : 4.153\n",
      "alpha 1 일 때  RMSE : 4.148\n",
      "alpha 10 일 때  RMSE : 4.207\n",
      "alpha 100 일 때  RMSE : 4.400\n"
     ]
    }
   ],
   "source": [
    "# ridge에 사용될 alpha 파라미터 값들 정의 \n",
    "alphas = [0, 0.1, 1, 10, 100]\n",
    "\n",
    "# alphas list의 값들 iteration 하면서 alpha에 따른 평균 rmse 구하기\n",
    "for alpha in alphas :\n",
    "    ridge = Ridge(alpha = alpha) # 규제강도 하나씩\n",
    "    # cross_val_score이용해서 5 fold 평균 RMSE계산\n",
    "    ridge.fit(X_train, y_train)\n",
    "    pred = ridge.predict(X_test)\n",
    "    rmse = np.sqrt(mean_squared_error(y_test, pred))\n",
    "    print(f'alpha {alpha} 일 때  RMSE : {rmse:.3f}')"
   ]
  },
  {
   "cell_type": "markdown",
   "id": "3c7848a2-4952-4784-b731-da32bf161eb7",
   "metadata": {
    "jp-MarkdownHeadingCollapsed": true
   },
   "source": [
    "### sklearn.linear_model.Lasso\n",
    "* class sklearn.linear_model.Lasso(alpha=1.0, *, fit_intercept=True, precompute=False, copy_X=True, max_iter=1000, tol=0.0001, warm_start=False, positive=False, random_state=None, selection='cyclic')"
   ]
  },
  {
   "cell_type": "code",
   "execution_count": 23,
   "id": "b7545f93-9af0-4938-8748-00f40c049787",
   "metadata": {},
   "outputs": [
    {
     "name": "stdout",
     "output_type": "stream",
     "text": [
      "alpha 0 일 때 5 folds 의 평균 RMSE : 5.162\n",
      "alpha 0.1 일 때 5 folds 의 평균 RMSE : 5.336\n",
      "alpha 1 일 때 5 folds 의 평균 RMSE : 5.618\n",
      "alpha 10 일 때 5 folds 의 평균 RMSE : 6.600\n",
      "alpha 100 일 때 5 folds 의 평균 RMSE : 8.586\n"
     ]
    }
   ],
   "source": [
    "# ridge에 사용될 alpha 파라미터 값들 정의 \n",
    "alphas = [0, 0.1, 1, 10, 100]\n",
    "\n",
    "# alphas list의 값들 iteration 하면서 alpha에 따른 평균 rmse 구하기\n",
    "for alpha in alphas :\n",
    "  lasso = Lasso(alpha = alpha) # 규제강도 하나씩\n",
    "\n",
    "  # cross_val_score이용해서 5 fold 평균 RMSE계산\n",
    "  neg_mse_scores = cross_val_score(lasso, X_train, y_train, scoring = 'neg_mean_squared_error', cv=5)\n",
    "  avg_rmse = np.mean(np.sqrt(-1*neg_mse_scores))\n",
    "  print('alpha {0} 일 때 5 folds 의 평균 RMSE : {1:.3f}'.format(alpha,avg_rmse))"
   ]
  },
  {
   "cell_type": "code",
   "execution_count": 24,
   "id": "2a27d10b-9f62-46dd-8984-084fce095dba",
   "metadata": {},
   "outputs": [
    {
     "data": {
      "image/png": "[encoded data removed]",
      "text/plain": [
       "<Figure size 1800x600 with 5 Axes>"
      ]
     },
     "metadata": {},
     "output_type": "display_data"
    }
   ],
   "source": [
    "import matplotlib.pyplot as plt\n",
    "import seaborn as sns\n",
    "# 회귀계수값들 시각화하기 \n",
    "fig, axs = plt.subplots(figsize=(18,6), nrows=1, ncols=5)\n",
    "\n",
    "# df에 회귀계수값 저장할거야\n",
    "coeff_df = pd.DataFrame()\n",
    "\n",
    "# alphas 리스트값 차례대로 입력 , pos는 axis의 위치 지정\n",
    "for pos, alpha in enumerate(alphas):\n",
    "  lasso= Lasso(alpha= alpha)\n",
    "  lasso.fit(X_train, y_train)\n",
    "\n",
    "  # 회귀계수들을 컬럼으로 추가할거니까 시리즈로 만들고 추가\n",
    "  coeff = pd.Series(data = lasso.coef_, index = X_data.columns)\n",
    "  colname = 'alphas:' + str(alpha)\n",
    "  coeff_df[colname] = coeff\n",
    "\n",
    "  # 막대로 시각화하기 높은순으로\n",
    "  coeff = coeff.sort_values(ascending =False)\n",
    "  axs[pos].set_title(colname)\n",
    "  axs[pos].set_xlim(-3,6)\n",
    "  sns.barplot(x=coeff.values, y = coeff.index, ax=axs[pos])\n",
    "\n",
    "plt.show()"
   ]
  },
  {
   "cell_type": "code",
   "execution_count": 31,
   "id": "0d4633c7-adec-465b-b17d-7f05a553fa67",
   "metadata": {},
   "outputs": [],
   "source": [
    "lasso= Lasso(alpha=10)\n",
    "lasso.fit(X_train, y_train)\n",
    "\n",
    "# 회귀계수들을 컬럼으로 추가할거니까 시리즈로 만들고 추가\n",
    "coeff = pd.Series(data = lasso.coef_, index = X_data.columns)"
   ]
  },
  {
   "cell_type": "code",
   "execution_count": 32,
   "id": "65e1195b-b792-4ef3-8cd6-dbe1baf58f08",
   "metadata": {},
   "outputs": [
    {
     "data": {
      "text/plain": [
       "CRIM      -0.000000\n",
       "ZN         0.046677\n",
       "INDUS     -0.000000\n",
       "CHAS       0.000000\n",
       "NOX        0.000000\n",
       "RM         0.000000\n",
       "AGE        0.006391\n",
       "DIS       -0.000000\n",
       "RAD        0.000000\n",
       "TAX       -0.006589\n",
       "PTRATIO   -0.000000\n",
       "B          0.009976\n",
       "LSTAT     -0.594592\n",
       "dtype: float64"
      ]
     },
     "execution_count": 32,
     "metadata": {},
     "output_type": "execute_result"
    }
   ],
   "source": [
    "coeff"
   ]
  },
  {
   "cell_type": "markdown",
   "id": "fe49955c-9f49-4d69-a89e-cdaeb985a436",
   "metadata": {},
   "source": [
    "### sklearn.linear_model.ElasticNet\n",
    "* class sklearn.linear_model.ElasticNet(alpha=1.0, *, l1_ratio=0.5, fit_intercept=True, precompute=False, max_iter=1000, copy_X=True, tol=0.0001, warm_start=False, positive=False, random_state=None, selection='cyclic')"
   ]
  },
  {
   "cell_type": "code",
   "execution_count": 33,
   "id": "e4c35114-5e87-4e66-99be-2b4c27447c6c",
   "metadata": {},
   "outputs": [],
   "source": [
    "from sklearn.linear_model import Lasso, ElasticNet\n",
    "import numpy as np\n",
    "\n",
    "# alpha 값에 따른 회귀 모델의 폴드 평균 RMSE를 출력하고, 회귀 계수값들을 DataFrame으로 반환해주는 함수\n",
    "def get_linear_reg_eval(model_name, params=None, X_data_n=None, y_target_n=None, verbose=True):\n",
    "    coeff_df = pd.DataFrame()\n",
    "    \n",
    "    if verbose:\n",
    "        print(f'##### {model_name} #####')\n",
    "    \n",
    "    for param in params:\n",
    "        if model_name == 'Ridge':\n",
    "            model = Ridge(alpha=param)\n",
    "        elif model_name == 'Lasso':\n",
    "            model = Lasso(alpha=param)\n",
    "        elif model_name == 'ElasticNet':\n",
    "            model = ElasticNet(alpha=param, l1_ratio=0.7)\n",
    "        \n",
    "        # neg_mean_squared_error를 활용하여 평가 지표를 반환\n",
    "        neg_mse_scores = cross_val_score(model, X_data_n, y_target_n, \n",
    "                                         scoring=\"neg_mean_squared_error\", cv=5)\n",
    "        avg_rmse = np.mean(np.sqrt(-1 * neg_mse_scores))\n",
    "        print(f'alpha {param} RMSE: {avg_rmse:.3f}')\n",
    "        \n",
    "        # cross_val_score는 evaluation metric만 반환하므로 모델을 다시 학습하여 회귀계수 추출\n",
    "        model.fit(X_data_n, y_target_n)\n",
    "        \n",
    "        # alpha에 따른 피처별 회귀 계수를 Series로 변환하고 이를 DataFrame의 컬럼으로 추가\n",
    "        coeff = pd.Series(data=model.coef_, index=X_data.columns)\n",
    "        colname = f'alpha: {param}'\n",
    "        coeff_df[colname] = coeff\n",
    "    \n",
    "    return coeff_df\n",
    "\n",
    "# 예를 들어, Ridge 회귀 모델의 alpha 값과 데이터를 넣어서 함수를 호출하는 방법:\n",
    "# coeff_df_ridge = get_linear_reg_eval('Ridge', params=[0.1, 1, 10], X_data_n=X_data, y_target_n=y_target)"
   ]
  },
  {
   "cell_type": "code",
   "execution_count": 35,
   "id": "f8de7f26-63a5-47d5-8b2b-215d66760f90",
   "metadata": {},
   "outputs": [
    {
     "name": "stdout",
     "output_type": "stream",
     "text": [
      "##### ElasticNet #####\n",
      "alpha 0.07 RMSE: 5.310\n",
      "alpha 0.1 RMSE: 5.320\n",
      "alpha 0.5 RMSE: 5.405\n",
      "alpha 1 RMSE: 5.563\n",
      "alpha 3 RMSE: 6.056\n"
     ]
    }
   ],
   "source": [
    "# alpha 정리 -> 함수 적용\n",
    "ElasticNet_alphas = [0.07, 0.1, 0.5, 1,3]\n",
    "coeff_lasso_df = get_linear_reg_eval('ElasticNet', params=lasso_alphas, X_data_n= X_train, y_target_n=y_train)"
   ]
  },
  {
   "cell_type": "code",
   "execution_count": 36,
   "id": "2f7bf247-4d77-4c9b-9297-71dda2cdacda",
   "metadata": {},
   "outputs": [
    {
     "name": "stdout",
     "output_type": "stream",
     "text": [
      "##### Ridge #####\n",
      "alpha 0.07 RMSE: 5.164\n",
      "alpha 0.1 RMSE: 5.165\n",
      "alpha 0.5 RMSE: 5.186\n",
      "alpha 1 RMSE: 5.209\n",
      "alpha 3 RMSE: 5.253\n"
     ]
    }
   ],
   "source": [
    "# alpha 정리 -> 함수 적용\n",
    "Ridge_alphas = [0.07, 0.1, 0.5, 1,3]\n",
    "coeff_lasso_df = get_linear_reg_eval('Ridge', params=lasso_alphas, X_data_n= X_train, y_target_n=y_train)"
   ]
  },
  {
   "cell_type": "code",
   "execution_count": 37,
   "id": "97fbc3de-0d10-4d55-b720-904d1ab79a44",
   "metadata": {},
   "outputs": [
    {
     "name": "stdout",
     "output_type": "stream",
     "text": [
      "##### Lasso #####\n",
      "alpha 0.07 RMSE: 5.329\n",
      "alpha 0.1 RMSE: 5.336\n",
      "alpha 0.5 RMSE: 5.394\n",
      "alpha 1 RMSE: 5.618\n",
      "alpha 3 RMSE: 6.245\n"
     ]
    }
   ],
   "source": [
    "# alpha 정리 -> 함수 적용\n",
    "Lasso_alphas = [0.07, 0.1, 0.5, 1,3]\n",
    "coeff_lasso_df = get_linear_reg_eval('Lasso', params=lasso_alphas, X_data_n= X_train, y_target_n=y_train)"
   ]
  },
  {
   "cell_type": "code",
   "execution_count": 38,
   "id": "5494b8c2-e5c0-4251-a647-e6608b815c2b",
   "metadata": {},
   "outputs": [
    {
     "data": {
      "text/plain": [
       "-0.2231435513142097"
      ]
     },
     "execution_count": 38,
     "metadata": {},
     "output_type": "execute_result"
    }
   ],
   "source": [
    "np.log(0.8)"
   ]
  },
  {
   "cell_type": "code",
   "execution_count": 39,
   "id": "9973dc94-17e1-493c-ba07-795f85ed5a97",
   "metadata": {},
   "outputs": [
    {
     "data": {
      "text/plain": [
       "-0.10536051565782628"
      ]
     },
     "execution_count": 39,
     "metadata": {},
     "output_type": "execute_result"
    }
   ],
   "source": [
    "np.log(0.9)"
   ]
  },
  {
   "cell_type": "code",
   "execution_count": null,
   "id": "67b36a73-ec35-4c2a-a358-1687a0c3483d",
   "metadata": {},
   "outputs": [],
   "source": []
  }
 ],
 "metadata": {
  "kernelspec": {
   "display_name": "Python 3 (ipykernel)",
   "language": "python",
   "name": "python3"
  },
  "language_info": {
   "codemirror_mode": {
    "name": "ipython",
    "version": 3
   },
   "file_extension": ".py",
   "mimetype": "text/x-python",
   "name": "python",
   "nbconvert_exporter": "python",
   "pygments_lexer": "ipython3",
   "version": "3.11.5"
  }
 },
 "nbformat": 4,
 "nbformat_minor": 5
}
