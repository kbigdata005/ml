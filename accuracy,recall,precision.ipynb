{
 "cells": [
  {
   "cell_type": "code",
   "execution_count": 29,
   "id": "687d608d-2bf5-4e56-93b6-317da168ff94",
   "metadata": {},
   "outputs": [],
   "source": [
    "import pandas as pd\n",
    "from sklearn.preprocessing import LabelEncoder\n",
    "from sklearn.preprocessing import MinMaxScaler\n",
    "from sklearn.linear_model import LogisticRegression\n",
    "import numpy as np\n"
   ]
  },
  {
   "cell_type": "code",
   "execution_count": 11,
   "id": "e9091d15-0120-4535-a0c2-a8c30cc15b1c",
   "metadata": {},
   "outputs": [],
   "source": [
    "\n",
    "\n",
    "train_df = pd.read_csv('./datasets/titanic_train.csv')\n",
    "test_df = pd.read_csv('./datasets/titanic_test.csv')\n",
    "test_y_df=pd.read_csv('./datasets/titanic_gender_submission.csv')\n",
    "import warnings\n",
    "warnings.filterwarnings('ignore')"
   ]
  },
  {
   "cell_type": "code",
   "execution_count": 12,
   "id": "90d87e14-c663-435e-81a6-961003a5a4fc",
   "metadata": {},
   "outputs": [
    {
     "data": {
      "text/html": [
       "<div>\n",
       "<style scoped>\n",
       "    .dataframe tbody tr th:only-of-type {\n",
       "        vertical-align: middle;\n",
       "    }\n",
       "\n",
       "    .dataframe tbody tr th {\n",
       "        vertical-align: top;\n",
       "    }\n",
       "\n",
       "    .dataframe thead th {\n",
       "        text-align: right;\n",
       "    }\n",
       "</style>\n",
       "<table border=\"1\" class=\"dataframe\">\n",
       "  <thead>\n",
       "    <tr style=\"text-align: right;\">\n",
       "      <th></th>\n",
       "      <th>PassengerId</th>\n",
       "      <th>Survived</th>\n",
       "      <th>Pclass</th>\n",
       "      <th>Name</th>\n",
       "      <th>Sex</th>\n",
       "      <th>Age</th>\n",
       "      <th>SibSp</th>\n",
       "      <th>Parch</th>\n",
       "      <th>Ticket</th>\n",
       "      <th>Fare</th>\n",
       "      <th>Cabin</th>\n",
       "      <th>Embarked</th>\n",
       "    </tr>\n",
       "  </thead>\n",
       "  <tbody>\n",
       "    <tr>\n",
       "      <th>0</th>\n",
       "      <td>1</td>\n",
       "      <td>0</td>\n",
       "      <td>3</td>\n",
       "      <td>Braund, Mr. Owen Harris</td>\n",
       "      <td>male</td>\n",
       "      <td>22.0</td>\n",
       "      <td>1</td>\n",
       "      <td>0</td>\n",
       "      <td>A/5 21171</td>\n",
       "      <td>7.2500</td>\n",
       "      <td>NaN</td>\n",
       "      <td>S</td>\n",
       "    </tr>\n",
       "    <tr>\n",
       "      <th>1</th>\n",
       "      <td>2</td>\n",
       "      <td>1</td>\n",
       "      <td>1</td>\n",
       "      <td>Cumings, Mrs. John Bradley (Florence Briggs Th...</td>\n",
       "      <td>female</td>\n",
       "      <td>38.0</td>\n",
       "      <td>1</td>\n",
       "      <td>0</td>\n",
       "      <td>PC 17599</td>\n",
       "      <td>71.2833</td>\n",
       "      <td>C85</td>\n",
       "      <td>C</td>\n",
       "    </tr>\n",
       "    <tr>\n",
       "      <th>2</th>\n",
       "      <td>3</td>\n",
       "      <td>1</td>\n",
       "      <td>3</td>\n",
       "      <td>Heikkinen, Miss. Laina</td>\n",
       "      <td>female</td>\n",
       "      <td>26.0</td>\n",
       "      <td>0</td>\n",
       "      <td>0</td>\n",
       "      <td>STON/O2. 3101282</td>\n",
       "      <td>7.9250</td>\n",
       "      <td>NaN</td>\n",
       "      <td>S</td>\n",
       "    </tr>\n",
       "    <tr>\n",
       "      <th>3</th>\n",
       "      <td>4</td>\n",
       "      <td>1</td>\n",
       "      <td>1</td>\n",
       "      <td>Futrelle, Mrs. Jacques Heath (Lily May Peel)</td>\n",
       "      <td>female</td>\n",
       "      <td>35.0</td>\n",
       "      <td>1</td>\n",
       "      <td>0</td>\n",
       "      <td>113803</td>\n",
       "      <td>53.1000</td>\n",
       "      <td>C123</td>\n",
       "      <td>S</td>\n",
       "    </tr>\n",
       "    <tr>\n",
       "      <th>4</th>\n",
       "      <td>5</td>\n",
       "      <td>0</td>\n",
       "      <td>3</td>\n",
       "      <td>Allen, Mr. William Henry</td>\n",
       "      <td>male</td>\n",
       "      <td>35.0</td>\n",
       "      <td>0</td>\n",
       "      <td>0</td>\n",
       "      <td>373450</td>\n",
       "      <td>8.0500</td>\n",
       "      <td>NaN</td>\n",
       "      <td>S</td>\n",
       "    </tr>\n",
       "    <tr>\n",
       "      <th>...</th>\n",
       "      <td>...</td>\n",
       "      <td>...</td>\n",
       "      <td>...</td>\n",
       "      <td>...</td>\n",
       "      <td>...</td>\n",
       "      <td>...</td>\n",
       "      <td>...</td>\n",
       "      <td>...</td>\n",
       "      <td>...</td>\n",
       "      <td>...</td>\n",
       "      <td>...</td>\n",
       "      <td>...</td>\n",
       "    </tr>\n",
       "    <tr>\n",
       "      <th>886</th>\n",
       "      <td>887</td>\n",
       "      <td>0</td>\n",
       "      <td>2</td>\n",
       "      <td>Montvila, Rev. Juozas</td>\n",
       "      <td>male</td>\n",
       "      <td>27.0</td>\n",
       "      <td>0</td>\n",
       "      <td>0</td>\n",
       "      <td>211536</td>\n",
       "      <td>13.0000</td>\n",
       "      <td>NaN</td>\n",
       "      <td>S</td>\n",
       "    </tr>\n",
       "    <tr>\n",
       "      <th>887</th>\n",
       "      <td>888</td>\n",
       "      <td>1</td>\n",
       "      <td>1</td>\n",
       "      <td>Graham, Miss. Margaret Edith</td>\n",
       "      <td>female</td>\n",
       "      <td>19.0</td>\n",
       "      <td>0</td>\n",
       "      <td>0</td>\n",
       "      <td>112053</td>\n",
       "      <td>30.0000</td>\n",
       "      <td>B42</td>\n",
       "      <td>S</td>\n",
       "    </tr>\n",
       "    <tr>\n",
       "      <th>888</th>\n",
       "      <td>889</td>\n",
       "      <td>0</td>\n",
       "      <td>3</td>\n",
       "      <td>Johnston, Miss. Catherine Helen \"Carrie\"</td>\n",
       "      <td>female</td>\n",
       "      <td>NaN</td>\n",
       "      <td>1</td>\n",
       "      <td>2</td>\n",
       "      <td>W./C. 6607</td>\n",
       "      <td>23.4500</td>\n",
       "      <td>NaN</td>\n",
       "      <td>S</td>\n",
       "    </tr>\n",
       "    <tr>\n",
       "      <th>889</th>\n",
       "      <td>890</td>\n",
       "      <td>1</td>\n",
       "      <td>1</td>\n",
       "      <td>Behr, Mr. Karl Howell</td>\n",
       "      <td>male</td>\n",
       "      <td>26.0</td>\n",
       "      <td>0</td>\n",
       "      <td>0</td>\n",
       "      <td>111369</td>\n",
       "      <td>30.0000</td>\n",
       "      <td>C148</td>\n",
       "      <td>C</td>\n",
       "    </tr>\n",
       "    <tr>\n",
       "      <th>890</th>\n",
       "      <td>891</td>\n",
       "      <td>0</td>\n",
       "      <td>3</td>\n",
       "      <td>Dooley, Mr. Patrick</td>\n",
       "      <td>male</td>\n",
       "      <td>32.0</td>\n",
       "      <td>0</td>\n",
       "      <td>0</td>\n",
       "      <td>370376</td>\n",
       "      <td>7.7500</td>\n",
       "      <td>NaN</td>\n",
       "      <td>Q</td>\n",
       "    </tr>\n",
       "  </tbody>\n",
       "</table>\n",
       "<p>891 rows × 12 columns</p>\n",
       "</div>"
      ],
      "text/plain": [
       "     PassengerId  Survived  Pclass  \\\n",
       "0              1         0       3   \n",
       "1              2         1       1   \n",
       "2              3         1       3   \n",
       "3              4         1       1   \n",
       "4              5         0       3   \n",
       "..           ...       ...     ...   \n",
       "886          887         0       2   \n",
       "887          888         1       1   \n",
       "888          889         0       3   \n",
       "889          890         1       1   \n",
       "890          891         0       3   \n",
       "\n",
       "                                                  Name     Sex   Age  SibSp  \\\n",
       "0                              Braund, Mr. Owen Harris    male  22.0      1   \n",
       "1    Cumings, Mrs. John Bradley (Florence Briggs Th...  female  38.0      1   \n",
       "2                               Heikkinen, Miss. Laina  female  26.0      0   \n",
       "3         Futrelle, Mrs. Jacques Heath (Lily May Peel)  female  35.0      1   \n",
       "4                             Allen, Mr. William Henry    male  35.0      0   \n",
       "..                                                 ...     ...   ...    ...   \n",
       "886                              Montvila, Rev. Juozas    male  27.0      0   \n",
       "887                       Graham, Miss. Margaret Edith  female  19.0      0   \n",
       "888           Johnston, Miss. Catherine Helen \"Carrie\"  female   NaN      1   \n",
       "889                              Behr, Mr. Karl Howell    male  26.0      0   \n",
       "890                                Dooley, Mr. Patrick    male  32.0      0   \n",
       "\n",
       "     Parch            Ticket     Fare Cabin Embarked  \n",
       "0        0         A/5 21171   7.2500   NaN        S  \n",
       "1        0          PC 17599  71.2833   C85        C  \n",
       "2        0  STON/O2. 3101282   7.9250   NaN        S  \n",
       "3        0            113803  53.1000  C123        S  \n",
       "4        0            373450   8.0500   NaN        S  \n",
       "..     ...               ...      ...   ...      ...  \n",
       "886      0            211536  13.0000   NaN        S  \n",
       "887      0            112053  30.0000   B42        S  \n",
       "888      2        W./C. 6607  23.4500   NaN        S  \n",
       "889      0            111369  30.0000  C148        C  \n",
       "890      0            370376   7.7500   NaN        Q  \n",
       "\n",
       "[891 rows x 12 columns]"
      ]
     },
     "execution_count": 12,
     "metadata": {},
     "output_type": "execute_result"
    }
   ],
   "source": [
    "train_df"
   ]
  },
  {
   "cell_type": "code",
   "execution_count": 38,
   "id": "f0914fd3-3669-4c59-bc2c-9e31c8c91616",
   "metadata": {},
   "outputs": [],
   "source": [
    "train = train_df[['Pclass' , 'Sex' , 'Age' ,'Survived']]\n",
    "test = test_df[['Pclass' , 'Sex' , 'Age' ]]\n",
    "test_y = test_y_df['Survived']"
   ]
  },
  {
   "cell_type": "code",
   "execution_count": 14,
   "id": "02732d4a-b19a-403d-b701-383ed62ea0ac",
   "metadata": {},
   "outputs": [
    {
     "data": {
      "text/plain": [
       "Pclass        0\n",
       "Sex           0\n",
       "Age         177\n",
       "Survived      0\n",
       "dtype: int64"
      ]
     },
     "execution_count": 14,
     "metadata": {},
     "output_type": "execute_result"
    }
   ],
   "source": [
    "train.isnull().sum()"
   ]
  },
  {
   "cell_type": "code",
   "execution_count": 15,
   "id": "b39ab0fd-273e-417f-adc1-7a0301c1c43c",
   "metadata": {},
   "outputs": [],
   "source": [
    "train = train.dropna(axis=0)"
   ]
  },
  {
   "cell_type": "code",
   "execution_count": 17,
   "id": "9eb5c0ae-4ef9-4d3b-a5da-bca12b031955",
   "metadata": {},
   "outputs": [],
   "source": [
    "# Sex labelencding\n",
    "encoder = LabelEncoder()\n",
    "data = encoder.fit_transform(train['Sex'])\n",
    "train['Sex']=data"
   ]
  },
  {
   "cell_type": "code",
   "execution_count": 20,
   "id": "4cae9b0c-8f5b-4457-abd5-d0e7300f6e39",
   "metadata": {},
   "outputs": [],
   "source": [
    "# Age Scaling\n",
    "scaler = MinMaxScaler()\n",
    "scaler.fit(train[['Age']])\n",
    "data = scaler.transform(train[['Age']])\n",
    "\n",
    "train['Age']= data"
   ]
  },
  {
   "cell_type": "code",
   "execution_count": 23,
   "id": "eec29431-1569-4d84-b5a5-94ee8e2d2739",
   "metadata": {},
   "outputs": [
    {
     "data": {
      "text/html": [
       "<style>#sk-container-id-1 {color: black;}#sk-container-id-1 pre{padding: 0;}#sk-container-id-1 div.sk-toggleable {background-color: white;}#sk-container-id-1 label.sk-toggleable__label {cursor: pointer;display: block;width: 100%;margin-bottom: 0;padding: 0.3em;box-sizing: border-box;text-align: center;}#sk-container-id-1 label.sk-toggleable__label-arrow:before {content: \"▸\";float: left;margin-right: 0.25em;color: #696969;}#sk-container-id-1 label.sk-toggleable__label-arrow:hover:before {color: black;}#sk-container-id-1 div.sk-estimator:hover label.sk-toggleable__label-arrow:before {color: black;}#sk-container-id-1 div.sk-toggleable__content {max-height: 0;max-width: 0;overflow: hidden;text-align: left;background-color: #f0f8ff;}#sk-container-id-1 div.sk-toggleable__content pre {margin: 0.2em;color: black;border-radius: 0.25em;background-color: #f0f8ff;}#sk-container-id-1 input.sk-toggleable__control:checked~div.sk-toggleable__content {max-height: 200px;max-width: 100%;overflow: auto;}#sk-container-id-1 input.sk-toggleable__control:checked~label.sk-toggleable__label-arrow:before {content: \"▾\";}#sk-container-id-1 div.sk-estimator input.sk-toggleable__control:checked~label.sk-toggleable__label {background-color: #d4ebff;}#sk-container-id-1 div.sk-label input.sk-toggleable__control:checked~label.sk-toggleable__label {background-color: #d4ebff;}#sk-container-id-1 input.sk-hidden--visually {border: 0;clip: rect(1px 1px 1px 1px);clip: rect(1px, 1px, 1px, 1px);height: 1px;margin: -1px;overflow: hidden;padding: 0;position: absolute;width: 1px;}#sk-container-id-1 div.sk-estimator {font-family: monospace;background-color: #f0f8ff;border: 1px dotted black;border-radius: 0.25em;box-sizing: border-box;margin-bottom: 0.5em;}#sk-container-id-1 div.sk-estimator:hover {background-color: #d4ebff;}#sk-container-id-1 div.sk-parallel-item::after {content: \"\";width: 100%;border-bottom: 1px solid gray;flex-grow: 1;}#sk-container-id-1 div.sk-label:hover label.sk-toggleable__label {background-color: #d4ebff;}#sk-container-id-1 div.sk-serial::before {content: \"\";position: absolute;border-left: 1px solid gray;box-sizing: border-box;top: 0;bottom: 0;left: 50%;z-index: 0;}#sk-container-id-1 div.sk-serial {display: flex;flex-direction: column;align-items: center;background-color: white;padding-right: 0.2em;padding-left: 0.2em;position: relative;}#sk-container-id-1 div.sk-item {position: relative;z-index: 1;}#sk-container-id-1 div.sk-parallel {display: flex;align-items: stretch;justify-content: center;background-color: white;position: relative;}#sk-container-id-1 div.sk-item::before, #sk-container-id-1 div.sk-parallel-item::before {content: \"\";position: absolute;border-left: 1px solid gray;box-sizing: border-box;top: 0;bottom: 0;left: 50%;z-index: -1;}#sk-container-id-1 div.sk-parallel-item {display: flex;flex-direction: column;z-index: 1;position: relative;background-color: white;}#sk-container-id-1 div.sk-parallel-item:first-child::after {align-self: flex-end;width: 50%;}#sk-container-id-1 div.sk-parallel-item:last-child::after {align-self: flex-start;width: 50%;}#sk-container-id-1 div.sk-parallel-item:only-child::after {width: 0;}#sk-container-id-1 div.sk-dashed-wrapped {border: 1px dashed gray;margin: 0 0.4em 0.5em 0.4em;box-sizing: border-box;padding-bottom: 0.4em;background-color: white;}#sk-container-id-1 div.sk-label label {font-family: monospace;font-weight: bold;display: inline-block;line-height: 1.2em;}#sk-container-id-1 div.sk-label-container {text-align: center;}#sk-container-id-1 div.sk-container {/* jupyter's `normalize.less` sets `[hidden] { display: none; }` but bootstrap.min.css set `[hidden] { display: none !important; }` so we also need the `!important` here to be able to override the default hidden behavior on the sphinx rendered scikit-learn.org. See: https://github.com/scikit-learn/scikit-learn/issues/21755 */display: inline-block !important;position: relative;}#sk-container-id-1 div.sk-text-repr-fallback {display: none;}</style><div id=\"sk-container-id-1\" class=\"sk-top-container\"><div class=\"sk-text-repr-fallback\"><pre>LogisticRegression()</pre><b>In a Jupyter environment, please rerun this cell to show the HTML representation or trust the notebook. <br />On GitHub, the HTML representation is unable to render, please try loading this page with nbviewer.org.</b></div><div class=\"sk-container\" hidden><div class=\"sk-item\"><div class=\"sk-estimator sk-toggleable\"><input class=\"sk-toggleable__control sk-hidden--visually\" id=\"sk-estimator-id-1\" type=\"checkbox\" checked><label for=\"sk-estimator-id-1\" class=\"sk-toggleable__label sk-toggleable__label-arrow\">LogisticRegression</label><div class=\"sk-toggleable__content\"><pre>LogisticRegression()</pre></div></div></div></div></div>"
      ],
      "text/plain": [
       "LogisticRegression()"
      ]
     },
     "execution_count": 23,
     "metadata": {},
     "output_type": "execute_result"
    }
   ],
   "source": [
    "X = train.drop('Survived' ,axis=1)\n",
    "y = train['Survived']\n",
    "lr = LogisticRegression()\n",
    "\n",
    "lr.fit(X , y)"
   ]
  },
  {
   "cell_type": "code",
   "execution_count": 33,
   "id": "b0a764fa-10b6-46b7-9423-ba0135696a98",
   "metadata": {},
   "outputs": [
    {
     "data": {
      "text/plain": [
       "Pclass    0\n",
       "Sex       0\n",
       "Age       0\n",
       "dtype: int64"
      ]
     },
     "execution_count": 33,
     "metadata": {},
     "output_type": "execute_result"
    }
   ],
   "source": [
    "test = test.fillna(np.mean(test['Age']))\n",
    "test.isnull().sum()"
   ]
  },
  {
   "cell_type": "code",
   "execution_count": 39,
   "id": "5dfceb80-6261-48a3-8871-0de208b745ec",
   "metadata": {},
   "outputs": [],
   "source": [
    "# test data preprocessing\n",
    "test = test.fillna(np.mean(test['Age']))\n",
    "\n",
    "# Sex labelencding\n",
    "encoder = LabelEncoder()\n",
    "data = encoder.fit_transform(test['Sex'])\n",
    "test['Sex']=data\n",
    "\n",
    "# Age Scaling\n",
    "scaler = MinMaxScaler()\n",
    "scaler.fit(test[['Age']])\n",
    "data = scaler.transform(test[['Age']])\n",
    "\n",
    "test['Age']= data"
   ]
  },
  {
   "cell_type": "code",
   "execution_count": 40,
   "id": "1dd35202-2d18-4d62-99bc-6163df6e0447",
   "metadata": {},
   "outputs": [],
   "source": [
    "pred = lr.predict(test)"
   ]
  },
  {
   "cell_type": "markdown",
   "id": "4bae3480-a6f9-4d54-a086-9b9cec3f4818",
   "metadata": {},
   "source": [
    "### accuracy_score , recall_score , precision_score , f1_score , confusion_matrix\n",
    "#### sklearn.metrics.accuracy_score\n",
    "* sklearn.metrics.accuracy_score(y_true, y_pred, *, normalize=True, sample_weight=None)\n",
    "#### sklearn.metrics.recall_score\n",
    "* sklearn.metrics.recall_score(y_true, y_pred, *, labels=None, pos_label=1, average='binary', sample_weight=None, zero_division='warn')\n",
    "#### sklearn.metrics.precision_score\n",
    "* sklearn.metrics.precision_score(y_true, y_pred, *, labels=None, pos_label=1, average='binary', sample_weight=None, zero_division='warn')\n",
    "\n",
    "#### sklearn.metrics.f1_score\n",
    "* sklearn.metrics.f1_score(y_true, y_pred, *, labels=None, pos_label=1, average='binary', sample_weight=None, zero_division='warn')\n",
    "\n",
    "#### sklearn.metrics.confusion_matrix\n",
    "* sklearn.metrics.confusion_matrix(y_true, y_pred, *, labels=None, sample_weight=None, normalize=None)\n",
    "\n",
    "#### sklearn.metrics.precision_recall_curve\n",
    "* sklearn.metrics.precision_recall_curve(y_true, probas_pred, *, pos_label=None, sample_weight=None, drop_intermediate=False)"
   ]
  },
  {
   "cell_type": "code",
   "execution_count": 41,
   "id": "07d347e8-84ba-4d05-8da5-538dc76bdb78",
   "metadata": {},
   "outputs": [],
   "source": [
    "from sklearn.metrics import accuracy_score , recall_score , precision_score , f1_score , confusion_matrix\n",
    "\n",
    "def get_eval(y_test , pred):\n",
    "    accuarcy = accuracy_score(y_test , pred)\n",
    "    recall = recall_score(y_test , pred)\n",
    "    precision = precision_score(y_test , pred)\n",
    "    f1score = f1_score(y_test , pred)\n",
    "    matrix = confusion_matrix(y_test , pred)\n",
    "\n",
    "    print(f'혼동 행렬은 : {matrix}')\n",
    "    print(f'정확도 : {accuarcy} , 재현율 : {recall} , 정밀도:{precision} , f1스코어 : {f1score}')"
   ]
  },
  {
   "cell_type": "code",
   "execution_count": 42,
   "id": "82fcf837-e32c-48f4-8a7f-c122b1f466a2",
   "metadata": {},
   "outputs": [
    {
     "name": "stdout",
     "output_type": "stream",
     "text": [
      "혼동 행렬은 : [[252  14]\n",
      " [ 10 142]]\n",
      "정확도 : 0.9425837320574163 , 재현율 : 0.9342105263157895 , 정밀도:0.9102564102564102 , f1스코어 : 0.922077922077922\n"
     ]
    }
   ],
   "source": [
    "get_eval(test_y ,pred )"
   ]
  },
  {
   "cell_type": "code",
   "execution_count": 43,
   "id": "c44a4143-d29d-44cb-abf0-b39ca7a8ca51",
   "metadata": {},
   "outputs": [],
   "source": [
    "pred_proba = lr.predict_proba(test)"
   ]
  },
  {
   "cell_type": "code",
   "execution_count": 44,
   "id": "750e3b13-b81f-49c3-93c3-ec921198e628",
   "metadata": {},
   "outputs": [],
   "source": [
    "pred = lr.predict(test)"
   ]
  },
  {
   "cell_type": "code",
   "execution_count": 46,
   "id": "5f5eeb35-5c2e-40d9-aa01-0539da9e4606",
   "metadata": {},
   "outputs": [
    {
     "data": {
      "text/plain": [
       "array([[0.92140531, 0.07859469],\n",
       "       [0.59987979, 0.40012021],\n",
       "       [0.88759265, 0.11240735],\n",
       "       [0.90468156, 0.09531844],\n",
       "       [0.42576367, 0.57423633]])"
      ]
     },
     "execution_count": 46,
     "metadata": {},
     "output_type": "execute_result"
    }
   ],
   "source": [
    "pred_proba[:5]"
   ]
  },
  {
   "cell_type": "code",
   "execution_count": 47,
   "id": "4b588482-e6b8-46e1-b5d3-a6b0aee36255",
   "metadata": {},
   "outputs": [
    {
     "data": {
      "text/plain": [
       "array([0, 0, 0, 0, 1], dtype=int64)"
      ]
     },
     "execution_count": 47,
     "metadata": {},
     "output_type": "execute_result"
    }
   ],
   "source": [
    "pred[:5]"
   ]
  },
  {
   "cell_type": "markdown",
   "id": "977198ee-0b98-4203-98bc-26c977efc131",
   "metadata": {},
   "source": [
    "#### sklearn.metrics.precision_recall_curve\n",
    "* sklearn.metrics.precision_recall_curve(y_true, probas_pred, *, pos_label=None, sample_weight=None, drop_intermediate=False)"
   ]
  },
  {
   "cell_type": "code",
   "execution_count": 49,
   "id": "52ee66b9-1bc0-49d9-84ee-3c754a429e05",
   "metadata": {},
   "outputs": [
    {
     "data": {
      "text/plain": [
       "array([0.07859469, 0.40012021, 0.11240735, 0.09531844, 0.57423633,\n",
       "       0.13190527, 0.5184511 , 0.258755  , 0.60152323, 0.11092072,\n",
       "       0.08766123, 0.39031199, 0.93153317, 0.10962781, 0.87374957,\n",
       "       0.80417134, 0.21316818, 0.11092072, 0.53950063, 0.41371357,\n",
       "       0.33192653, 0.14888252, 0.91725721, 0.56417407, 0.87060983,\n",
       "       0.05224505, 0.93330781, 0.10682239, 0.42429246, 0.08766123,\n",
       "       0.15079163, 0.26970498, 0.49733588, 0.51653409, 0.50115909,\n",
       "       0.11805713, 0.51653409, 0.5811075 , 0.10028788, 0.08766123,\n",
       "       0.06989277, 0.49923973, 0.06631845, 0.77618711, 0.87983367,\n",
       "       0.10028788, 0.39703466, 0.08766123, 0.82755304, 0.47623016,\n",
       "       0.54329763, 0.25338977, 0.82130757, 0.92198718, 0.23635171,\n",
       "       0.14534875, 0.0775809 , 0.10028788, 0.08766123, 0.90416115,\n",
       "       0.12252737, 0.22768339, 0.1195313 , 0.57423633, 0.61855952,\n",
       "       0.77485055, 0.60152323, 0.38363073, 0.49411816, 0.82755304,\n",
       "       0.56041019, 0.11092072, 0.52547861, 0.51171876, 0.90657411,\n",
       "       0.483562  , 0.08766123, 0.84673348, 0.23774021, 0.56041019,\n",
       "       0.15990996, 0.2616399 , 0.37040133, 0.08766123, 0.23635171,\n",
       "       0.08766123, 0.53950063, 0.60152323, 0.51653409, 0.4069729 ,\n",
       "       0.57423633, 0.08766123, 0.92398906, 0.08766123, 0.53630116,\n",
       "       0.10028788, 0.7535704 , 0.09057047, 0.58794736, 0.08170911,\n",
       "       0.88566294, 0.25338977, 0.08766123, 0.09777502, 0.61494476,\n",
       "       0.09291724, 0.11092072, 0.08766123, 0.08766123, 0.30127931,\n",
       "       0.18619563, 0.51653409, 0.90416115, 0.598143  , 0.81515927,\n",
       "       0.1195313 , 0.08766123, 0.70901772, 0.45900408, 0.78104184,\n",
       "       0.85202219, 0.08766123, 0.90657411, 0.09291724, 0.08766123,\n",
       "       0.60825446, 0.10817347, 0.51653409, 0.18196557, 0.10285796,\n",
       "       0.08384745, 0.34453374, 0.51653409, 0.08766123, 0.06291455,\n",
       "       0.10285796, 0.09653975, 0.258755  , 0.56733637, 0.06808387,\n",
       "       0.65410546, 0.91123707, 0.29557203, 0.24809855, 0.41742777,\n",
       "       0.0860365 , 0.49923973, 0.10817347, 0.49923973, 0.23774021,\n",
       "       0.93153317, 0.08766123, 0.03939662, 0.47623016, 0.13516389,\n",
       "       0.10285796, 0.91993715, 0.56733637, 0.41742777, 0.54648965,\n",
       "       0.51653409, 0.15616248, 0.79514834, 0.08766123, 0.18619563,\n",
       "       0.54648965, 0.37699312, 0.1195313 , 0.91725721, 0.57423633,\n",
       "       0.08766123, 0.09531844, 0.10548619, 0.08766123, 0.06808387,\n",
       "       0.84104924, 0.82130757, 0.33820141, 0.74546963, 0.81087782,\n",
       "       0.23774021, 0.45201874, 0.9399871 , 0.08766123, 0.92398906,\n",
       "       0.19050113, 0.81713658, 0.12252737, 0.51653409, 0.19050113,\n",
       "       0.21793036, 0.49923973, 0.14017892, 0.11524823, 0.36691313,\n",
       "       0.08170911, 0.66387091, 0.60152323, 0.27528829, 0.51653409,\n",
       "       0.51653409, 0.18254434, 0.38363073, 0.86567061, 0.26419363,\n",
       "       0.49923973, 0.4832597 , 0.26970498, 0.91123707, 0.10028788,\n",
       "       0.08384745, 0.08766123, 0.31024674, 0.59836042, 0.46220207,\n",
       "       0.41742777, 0.51653409, 0.31955575, 0.86413084, 0.08766123,\n",
       "       0.77618711, 0.11092072, 0.81289042, 0.11092072, 0.85390181,\n",
       "       0.51653409, 0.10548619, 0.51653409, 0.06719578, 0.20848233,\n",
       "       0.32861155, 0.93503966, 0.11092072, 0.08766123, 0.43810728,\n",
       "       0.11372885, 0.27828832, 0.11372885, 0.82942551, 0.87060983,\n",
       "       0.84673348, 0.69447206, 0.39703466, 0.08766123, 0.08766123,\n",
       "       0.42429246, 0.81289042, 0.18196557, 0.78104184, 0.51653409,\n",
       "       0.88721626, 0.11372885, 0.52226798, 0.10285796, 0.082772  ,\n",
       "       0.08766123, 0.08766123, 0.09291724, 0.82540374, 0.11092072,\n",
       "       0.07461104, 0.11092072, 0.78104184, 0.70901772, 0.23774021,\n",
       "       0.08766123, 0.49923973, 0.08766123, 0.51653409, 0.12252737,\n",
       "       0.39031199, 0.08766123, 0.9259437 , 0.51653409, 0.08766123,\n",
       "       0.82130757, 0.24809855, 0.19050113, 0.23774021, 0.28094272,\n",
       "       0.56733637, 0.18078579, 0.51653409, 0.66044984, 0.70317297,\n",
       "       0.0755892 , 0.08766123, 0.54329763, 0.08766123, 0.08766123,\n",
       "       0.49923973, 0.5184511 , 0.08766123, 0.34453374, 0.0755892 ,\n",
       "       0.09777502, 0.88699061, 0.08766123, 0.50115909, 0.09057047,\n",
       "       0.08384745, 0.23635171, 0.17781061, 0.10285796, 0.51653409,\n",
       "       0.81087782, 0.50115909, 0.18045233, 0.33192653, 0.41371357,\n",
       "       0.1195313 , 0.10817347, 0.08766123, 0.46921003, 0.84673348,\n",
       "       0.60825446, 0.31955575, 0.29832314, 0.09531844, 0.28094272,\n",
       "       0.09777502, 0.10028788, 0.258755  , 0.48004607, 0.89658518,\n",
       "       0.10548619, 0.85202219, 0.39031199, 0.24288188, 0.28666735,\n",
       "       0.67625547, 0.43810728, 0.08766123, 0.59475341, 0.09531844,\n",
       "       0.50115909, 0.22768339, 0.06989277, 0.26419363, 0.08766123,\n",
       "       0.30425207, 0.08384745, 0.08766123, 0.8354441 , 0.08766123,\n",
       "       0.61494476, 0.258755  , 0.46220207, 0.26970498, 0.77125627,\n",
       "       0.87983367, 0.26419363, 0.30425207, 0.15443382, 0.71381696,\n",
       "       0.36385749, 0.83153541, 0.08766123, 0.08766123, 0.5184511 ,\n",
       "       0.13030109, 0.80417134, 0.77125627, 0.09531844, 0.927852  ,\n",
       "       0.51653409, 0.08766123, 0.57423633, 0.87983367, 0.24288188,\n",
       "       0.28666735, 0.91568894, 0.37040133, 0.17373038, 0.85035301,\n",
       "       0.87983367, 0.57423633, 0.28666735, 0.33192653, 0.16372993,\n",
       "       0.08766123, 0.09777502, 0.51653409, 0.59475341, 0.23635171,\n",
       "       0.80417134, 0.10285796, 0.1272429 , 0.11092072, 0.15990996,\n",
       "       0.55027707, 0.86079   , 0.13516389, 0.16193358, 0.09057047,\n",
       "       0.9399871 , 0.10285796, 0.87060983, 0.10817347, 0.0860365 ,\n",
       "       0.91783804, 0.19933951, 0.93330781, 0.59164726, 0.41059494,\n",
       "       0.29246118, 0.27528829, 0.36385749, 0.51653409, 0.69726094,\n",
       "       0.51653409, 0.90169263, 0.53249603, 0.08766123, 0.89658518,\n",
       "       0.0708138 , 0.08766123, 0.08766123])"
      ]
     },
     "execution_count": 49,
     "metadata": {},
     "output_type": "execute_result"
    }
   ],
   "source": [
    "pred_proba[: , 1]"
   ]
  },
  {
   "cell_type": "code",
   "execution_count": 52,
   "id": "6a5c389f-86ce-4f23-8ab6-9d51bd5c3258",
   "metadata": {},
   "outputs": [],
   "source": [
    "from sklearn.metrics import precision_recall_curve\n",
    "\n",
    "precisions , recalls , thresholds = precision_recall_curve(test_y , pred_proba[: , 1])"
   ]
  },
  {
   "cell_type": "code",
   "execution_count": 57,
   "id": "91e86175-c4cc-48b9-8cf9-7526843466bf",
   "metadata": {},
   "outputs": [
    {
     "name": "stdout",
     "output_type": "stream",
     "text": [
      "194 195 194\n"
     ]
    }
   ],
   "source": [
    "print(len(precisions[:194]) , len(recalls), len(thresholds))"
   ]
  },
  {
   "cell_type": "code",
   "execution_count": 58,
   "id": "a507f2e0-ea59-4471-b859-5d48bb98f753",
   "metadata": {},
   "outputs": [
    {
     "data": {
      "image/png": "[encoded data removed]",
      "text/plain": [
       "<Figure size 640x480 with 1 Axes>"
      ]
     },
     "metadata": {},
     "output_type": "display_data"
    }
   ],
   "source": [
    "import matplotlib.pyplot as plt\n",
    "\n",
    "plt.title(\"Precision-Recall Graph\")\n",
    "\n",
    "plt.xlabel(\"Thresholds\"   )\n",
    "plt.ylabel(\"Precision and recall\")\n",
    "\n",
    "plt.plot(thresholds, precisions[:194], \"b\", label = \"precision\" )\n",
    "plt.plot(thresholds, recalls[:194], \"r\", label = \"recall\")\n",
    "\n",
    "plt.legend(loc = \"upper right\")\n",
    "\n",
    "plt.show()"
   ]
  },
  {
   "cell_type": "code",
   "execution_count": null,
   "id": "1e0bb624-3052-4e00-884c-1d63bf15b3ca",
   "metadata": {},
   "outputs": [],
   "source": []
  }
 ],
 "metadata": {
  "kernelspec": {
   "display_name": "Python 3 (ipykernel)",
   "language": "python",
   "name": "python3"
  },
  "language_info": {
   "codemirror_mode": {
    "name": "ipython",
    "version": 3
   },
   "file_extension": ".py",
   "mimetype": "text/x-python",
   "name": "python",
   "nbconvert_exporter": "python",
   "pygments_lexer": "ipython3",
   "version": "3.11.5"
  }
 },
 "nbformat": 4,
 "nbformat_minor": 5
}
