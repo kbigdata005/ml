{
 "cells": [
  {
   "cell_type": "code",
   "execution_count": 29,
   "id": "cfa80457-c4ea-46e3-a862-9a4ba4e3e5f6",
   "metadata": {},
   "outputs": [
    {
     "data": {
      "text/plain": [
       "<matplotlib.collections.PathCollection at 0x24c5e7a33d0>"
      ]
     },
     "execution_count": 29,
     "metadata": {},
     "output_type": "execute_result"
    },
    {
     "data": {
      "image/png": "[encoded data removed]",
      "text/plain": [
       "<Figure size 640x480 with 1 Axes>"
      ]
     },
     "metadata": {},
     "output_type": "display_data"
    }
   ],
   "source": [
    "import numpy as np \n",
    "import matplotlib.pyplot as plt \n",
    "%matplotlib inline \n",
    "\n",
    "np.random.seed(0)\n",
    "\n",
    "X=2*np.random.rand(100,1)\n",
    "y=6+4*X+np.random.randn(100,1)\n",
    "\n",
    "plt.scatter(X,y)"
   ]
  },
  {
   "cell_type": "code",
   "execution_count": 30,
   "id": "f83bdedb-889b-4175-9149-14c15d7a2824",
   "metadata": {},
   "outputs": [],
   "source": [
    "\n",
    "def get_weight_updates (w1, w0, X, y, learning_rate=0.01 ):\n",
    "    N = len(y)\n",
    "    #먼저 w1_update, w0_update를 각각 wl, wo의 shape와 동일한 크기를 가진 0 값으로 초기화\n",
    "    wl_update = np. zeros_like(w1)\n",
    "    w0_update = np. zeros_like(w0)\n",
    "    #예측 배열 계산하고 예측과 실제 값의 차이 계산\n",
    "    y_pred = np.dot (X, w1.T) + w0\n",
    "    diff = y-y_pred\n",
    "\n",
    "    \n",
    "    \n",
    "    #wo_update를 dot 행렬 연산으로 구하기 위해 모두 1값을 가진 행렬 생성 \n",
    "    w0_factors = np.ones((N,1))\n",
    "    #w1과 WO을 업데이트할 w1_update와 w0_update 계산\n",
    "    w1_update = -(2/N) * learning_rate* (np.dot (X.T, diff))\n",
    "    w0_update = -(2/N) * learning_rate* (np.dot (w0_factors.T, diff))\n",
    "   \n",
    "    return w1_update, w0_update , diff"
   ]
  },
  {
   "cell_type": "code",
   "execution_count": 6,
   "id": "eee482fa-52ee-4c78-87dc-883853d7247c",
   "metadata": {},
   "outputs": [
    {
     "data": {
      "text/plain": [
       "(array([[-0.21502681]]), array([[-0.1994937]]))"
      ]
     },
     "execution_count": 6,
     "metadata": {},
     "output_type": "execute_result"
    }
   ],
   "source": [
    "#wO와 w1을 모두 0으로 초기화.\n",
    "w0= np.zeros((1,1))\n",
    "w1 = np.zeros((1,1))\n",
    "N = len(y)\n",
    "get_weight_updates(w1, w0, X, y, learning_rate=0.01)"
   ]
  },
  {
   "cell_type": "code",
   "execution_count": 35,
   "id": "1045d427-8978-4043-a64b-ba3002c93053",
   "metadata": {},
   "outputs": [],
   "source": [
    "#입력 인자 iters로 주어진 횟수만큼 반복적으로 w1과 WO를 업데이트 적용함. \n",
    "def gradient_descent_steps (X, y, iters=10000):\n",
    "    epoch=0\n",
    "    #wO와 w1을 모두 0으로 초기화.\n",
    "    w0= np.zeros((1,1))\n",
    "    w1 = np.zeros((1,1))\n",
    "    N = len(y)\n",
    "    # 인자로 주어진 iters 만큼 반복적으로 get_weight_updates() 호출하여 wl, wo 업데이트 수행.\n",
    "    for ind in range (iters):\n",
    "        w1_update, w0_update ,diff  = get_weight_updates (w1, w0, X, y, learning_rate=0.01)\n",
    "        w1= w1 - w1_update\n",
    "        w0= w0 - w0_update\n",
    "        epoch  += 1\n",
    "        if epoch % 100 == 0:\n",
    "            \n",
    "            mse = np.sum(np.square (diff))/N #오차값\n",
    "            print(f'epoch : {epoch} 일때 mse : {mse} , w1 : {w1} , w0 : {w0}')\n",
    "    return w1, w0"
   ]
  },
  {
   "cell_type": "code",
   "execution_count": 36,
   "id": "a0782d11-95cf-430b-906a-a3d3a9689768",
   "metadata": {},
   "outputs": [
    {
     "name": "stdout",
     "output_type": "stream",
     "text": [
      "epoch : 100 일때 mse : 1.363862615932478 , w1 : [[4.86163102]] , w0 : [[5.0582361]]\n",
      "epoch : 200 일때 mse : 1.1744846705417324 , w1 : [[4.67090177]] , w0 : [[5.42820914]]\n",
      "epoch : 300 일때 mse : 1.0879632803834909 , w1 : [[4.47812056]] , w0 : [[5.64774987]]\n",
      "epoch : 400 일때 mse : 1.042564550249074 , w1 : [[4.3376679]] , w0 : [[5.8060703]]\n",
      "epoch : 500 일때 mse : 1.0187418753394266 , w1 : [[4.23591336]] , w0 : [[5.92074581]]\n",
      "epoch : 600 일때 mse : 1.0062410883678472 , w1 : [[4.16220304]] , w0 : [[6.00381563]]\n",
      "epoch : 700 일때 mse : 0.999681385248734 , w1 : [[4.1088079]] , w0 : [[6.06399071]]\n",
      "epoch : 800 일때 mse : 0.9962392255584092 , w1 : [[4.07012892]] , w0 : [[6.10758103]]\n",
      "epoch : 900 일때 mse : 0.9944329756232296 , w1 : [[4.04211018]] , w0 : [[6.1391575]]\n",
      "epoch : 1000 일때 mse : 0.9934851582289619 , w1 : [[4.02181364]] , w0 : [[6.16203122]]\n",
      "epoch : 1100 일때 mse : 0.9929877974842611 , w1 : [[4.007111]] , w0 : [[6.17860076]]\n",
      "epoch : 1200 일때 mse : 0.9927268108091218 , w1 : [[3.99646053]] , w0 : [[6.19060359]]\n",
      "epoch : 1300 일때 mse : 0.992589859822688 , w1 : [[3.98874542]] , w0 : [[6.19929834]]\n",
      "epoch : 1400 일때 mse : 0.9925179957220581 , w1 : [[3.98315666]] , w0 : [[6.20559675]]\n",
      "epoch : 1500 일때 mse : 0.9924802855230023 , w1 : [[3.97910821]] , w0 : [[6.21015926]]\n",
      "epoch : 1600 일때 mse : 0.9924604973519914 , w1 : [[3.97617554]] , w0 : [[6.21346431]]\n",
      "epoch : 1700 일때 mse : 0.9924501136435573 , w1 : [[3.97405114]] , w0 : [[6.21585845]]\n",
      "epoch : 1800 일때 mse : 0.9924446648630323 , w1 : [[3.97251225]] , w0 : [[6.21759275]]\n",
      "epoch : 1900 일때 mse : 0.992441805652433 , w1 : [[3.97139748]] , w0 : [[6.21884907]]\n",
      "epoch : 2000 일때 mse : 0.9924403053010771 , w1 : [[3.97058996]] , w0 : [[6.21975913]]\n",
      "epoch : 2100 일때 mse : 0.9924395180018861 , w1 : [[3.97000499]] , w0 : [[6.22041837]]\n",
      "epoch : 2200 일때 mse : 0.9924391048719788 , w1 : [[3.96958125]] , w0 : [[6.22089592]]\n",
      "epoch : 2300 일때 mse : 0.9924388880848641 , w1 : [[3.96927429]] , w0 : [[6.22124185]]\n",
      "epoch : 2400 일때 mse : 0.9924387743272972 , w1 : [[3.96905194]] , w0 : [[6.22149244]]\n",
      "epoch : 2500 일때 mse : 0.9924387146337861 , w1 : [[3.96889087]] , w0 : [[6.22167397]]\n",
      "epoch : 2600 일때 mse : 0.9924386833100206 , w1 : [[3.96877419]] , w0 : [[6.22180546]]\n",
      "epoch : 2700 일때 mse : 0.9924386668730879 , w1 : [[3.96868966]] , w0 : [[6.22190072]]\n",
      "epoch : 2800 일때 mse : 0.992438658247919 , w1 : [[3.96862844]] , w0 : [[6.22196972]]\n",
      "epoch : 2900 일때 mse : 0.9924386537219198 , w1 : [[3.96858408]] , w0 : [[6.2220197]]\n",
      "epoch : 3000 일때 mse : 0.9924386513469327 , w1 : [[3.96855196]] , w0 : [[6.22205591]]\n",
      "epoch : 3100 일때 mse : 0.9924386501006742 , w1 : [[3.96852868]] , w0 : [[6.22208214]]\n",
      "epoch : 3200 일때 mse : 0.9924386494467086 , w1 : [[3.96851182]] , w0 : [[6.22210114]]\n",
      "epoch : 3300 일때 mse : 0.9924386491035447 , w1 : [[3.96849961]] , w0 : [[6.2221149]]\n",
      "epoch : 3400 일때 mse : 0.9924386489234718 , w1 : [[3.96849076]] , w0 : [[6.22212487]]\n",
      "epoch : 3500 일때 mse : 0.9924386488289797 , w1 : [[3.96848435]] , w0 : [[6.22213209]]\n",
      "epoch : 3600 일때 mse : 0.9924386487793952 , w1 : [[3.96847971]] , w0 : [[6.22213733]]\n",
      "epoch : 3700 일때 mse : 0.9924386487533764 , w1 : [[3.96847635]] , w0 : [[6.22214112]]\n",
      "epoch : 3800 일때 mse : 0.9924386487397235 , w1 : [[3.96847391]] , w0 : [[6.22214386]]\n",
      "epoch : 3900 일때 mse : 0.992438648732559 , w1 : [[3.96847215]] , w0 : [[6.22214585]]\n",
      "epoch : 4000 일때 mse : 0.9924386487287993 , w1 : [[3.96847087]] , w0 : [[6.22214729]]\n",
      "epoch : 4100 일때 mse : 0.9924386487268265 , w1 : [[3.96846994]] , w0 : [[6.22214833]]\n",
      "epoch : 4200 일때 mse : 0.9924386487257914 , w1 : [[3.96846927]] , w0 : [[6.22214909]]\n",
      "epoch : 4300 일때 mse : 0.9924386487252481 , w1 : [[3.96846879]] , w0 : [[6.22214964]]\n",
      "epoch : 4400 일때 mse : 0.9924386487249635 , w1 : [[3.96846844]] , w0 : [[6.22215003]]\n",
      "epoch : 4500 일때 mse : 0.9924386487248137 , w1 : [[3.96846818]] , w0 : [[6.22215032]]\n",
      "epoch : 4600 일때 mse : 0.9924386487247348 , w1 : [[3.968468]] , w0 : [[6.22215053]]\n",
      "epoch : 4700 일때 mse : 0.9924386487246938 , w1 : [[3.96846786]] , w0 : [[6.22215068]]\n",
      "epoch : 4800 일때 mse : 0.9924386487246722 , w1 : [[3.96846777]] , w0 : [[6.22215079]]\n",
      "epoch : 4900 일때 mse : 0.9924386487246611 , w1 : [[3.9684677]] , w0 : [[6.22215087]]\n",
      "epoch : 5000 일때 mse : 0.9924386487246549 , w1 : [[3.96846764]] , w0 : [[6.22215093]]\n",
      "epoch : 5100 일때 mse : 0.9924386487246518 , w1 : [[3.96846761]] , w0 : [[6.22215097]]\n",
      "epoch : 5200 일때 mse : 0.9924386487246504 , w1 : [[3.96846758]] , w0 : [[6.222151]]\n",
      "epoch : 5300 일때 mse : 0.9924386487246492 , w1 : [[3.96846756]] , w0 : [[6.22215102]]\n",
      "epoch : 5400 일때 mse : 0.9924386487246487 , w1 : [[3.96846755]] , w0 : [[6.22215104]]\n",
      "epoch : 5500 일때 mse : 0.9924386487246488 , w1 : [[3.96846754]] , w0 : [[6.22215105]]\n",
      "epoch : 5600 일때 mse : 0.9924386487246483 , w1 : [[3.96846753]] , w0 : [[6.22215106]]\n",
      "epoch : 5700 일때 mse : 0.9924386487246482 , w1 : [[3.96846752]] , w0 : [[6.22215106]]\n",
      "epoch : 5800 일때 mse : 0.9924386487246484 , w1 : [[3.96846752]] , w0 : [[6.22215107]]\n",
      "epoch : 5900 일때 mse : 0.9924386487246484 , w1 : [[3.96846752]] , w0 : [[6.22215107]]\n",
      "epoch : 6000 일때 mse : 0.9924386487246487 , w1 : [[3.96846752]] , w0 : [[6.22215107]]\n",
      "epoch : 6100 일때 mse : 0.9924386487246486 , w1 : [[3.96846751]] , w0 : [[6.22215107]]\n",
      "epoch : 6200 일때 mse : 0.9924386487246486 , w1 : [[3.96846751]] , w0 : [[6.22215107]]\n",
      "epoch : 6300 일때 mse : 0.9924386487246484 , w1 : [[3.96846751]] , w0 : [[6.22215108]]\n",
      "epoch : 6400 일때 mse : 0.9924386487246484 , w1 : [[3.96846751]] , w0 : [[6.22215108]]\n",
      "epoch : 6500 일때 mse : 0.9924386487246487 , w1 : [[3.96846751]] , w0 : [[6.22215108]]\n",
      "epoch : 6600 일때 mse : 0.9924386487246486 , w1 : [[3.96846751]] , w0 : [[6.22215108]]\n",
      "epoch : 6700 일때 mse : 0.9924386487246483 , w1 : [[3.96846751]] , w0 : [[6.22215108]]\n",
      "epoch : 6800 일때 mse : 0.9924386487246484 , w1 : [[3.96846751]] , w0 : [[6.22215108]]\n",
      "epoch : 6900 일때 mse : 0.9924386487246484 , w1 : [[3.96846751]] , w0 : [[6.22215108]]\n",
      "epoch : 7000 일때 mse : 0.9924386487246484 , w1 : [[3.96846751]] , w0 : [[6.22215108]]\n",
      "epoch : 7100 일때 mse : 0.9924386487246483 , w1 : [[3.96846751]] , w0 : [[6.22215108]]\n",
      "epoch : 7200 일때 mse : 0.9924386487246483 , w1 : [[3.96846751]] , w0 : [[6.22215108]]\n",
      "epoch : 7300 일때 mse : 0.9924386487246486 , w1 : [[3.96846751]] , w0 : [[6.22215108]]\n",
      "epoch : 7400 일때 mse : 0.9924386487246484 , w1 : [[3.96846751]] , w0 : [[6.22215108]]\n",
      "epoch : 7500 일때 mse : 0.9924386487246484 , w1 : [[3.96846751]] , w0 : [[6.22215108]]\n",
      "epoch : 7600 일때 mse : 0.9924386487246484 , w1 : [[3.96846751]] , w0 : [[6.22215108]]\n",
      "epoch : 7700 일때 mse : 0.9924386487246486 , w1 : [[3.96846751]] , w0 : [[6.22215108]]\n",
      "epoch : 7800 일때 mse : 0.9924386487246484 , w1 : [[3.96846751]] , w0 : [[6.22215108]]\n",
      "epoch : 7900 일때 mse : 0.9924386487246484 , w1 : [[3.96846751]] , w0 : [[6.22215108]]\n",
      "epoch : 8000 일때 mse : 0.9924386487246486 , w1 : [[3.96846751]] , w0 : [[6.22215108]]\n",
      "epoch : 8100 일때 mse : 0.9924386487246484 , w1 : [[3.96846751]] , w0 : [[6.22215108]]\n",
      "epoch : 8200 일때 mse : 0.9924386487246484 , w1 : [[3.96846751]] , w0 : [[6.22215108]]\n",
      "epoch : 8300 일때 mse : 0.9924386487246486 , w1 : [[3.96846751]] , w0 : [[6.22215108]]\n",
      "epoch : 8400 일때 mse : 0.9924386487246482 , w1 : [[3.96846751]] , w0 : [[6.22215108]]\n",
      "epoch : 8500 일때 mse : 0.9924386487246486 , w1 : [[3.96846751]] , w0 : [[6.22215108]]\n",
      "epoch : 8600 일때 mse : 0.9924386487246486 , w1 : [[3.96846751]] , w0 : [[6.22215108]]\n",
      "epoch : 8700 일때 mse : 0.9924386487246483 , w1 : [[3.96846751]] , w0 : [[6.22215108]]\n",
      "epoch : 8800 일때 mse : 0.9924386487246486 , w1 : [[3.96846751]] , w0 : [[6.22215108]]\n",
      "epoch : 8900 일때 mse : 0.9924386487246484 , w1 : [[3.96846751]] , w0 : [[6.22215108]]\n",
      "epoch : 9000 일때 mse : 0.9924386487246486 , w1 : [[3.96846751]] , w0 : [[6.22215108]]\n",
      "epoch : 9100 일때 mse : 0.9924386487246484 , w1 : [[3.96846751]] , w0 : [[6.22215108]]\n",
      "epoch : 9200 일때 mse : 0.9924386487246483 , w1 : [[3.96846751]] , w0 : [[6.22215108]]\n",
      "epoch : 9300 일때 mse : 0.9924386487246486 , w1 : [[3.96846751]] , w0 : [[6.22215108]]\n",
      "epoch : 9400 일때 mse : 0.9924386487246484 , w1 : [[3.96846751]] , w0 : [[6.22215108]]\n",
      "epoch : 9500 일때 mse : 0.9924386487246484 , w1 : [[3.96846751]] , w0 : [[6.22215108]]\n",
      "epoch : 9600 일때 mse : 0.9924386487246484 , w1 : [[3.96846751]] , w0 : [[6.22215108]]\n",
      "epoch : 9700 일때 mse : 0.9924386487246484 , w1 : [[3.96846751]] , w0 : [[6.22215108]]\n",
      "epoch : 9800 일때 mse : 0.9924386487246484 , w1 : [[3.96846751]] , w0 : [[6.22215108]]\n",
      "epoch : 9900 일때 mse : 0.9924386487246484 , w1 : [[3.96846751]] , w0 : [[6.22215108]]\n",
      "epoch : 10000 일때 mse : 0.9924386487246484 , w1 : [[3.96846751]] , w0 : [[6.22215108]]\n"
     ]
    },
    {
     "data": {
      "text/plain": [
       "(array([[3.96846751]]), array([[6.22215108]]))"
      ]
     },
     "execution_count": 36,
     "metadata": {},
     "output_type": "execute_result"
    }
   ],
   "source": [
    "gradient_descent_steps(X, y, iters=10000)"
   ]
  },
  {
   "cell_type": "code",
   "execution_count": null,
   "id": "5530167b-5909-4579-87be-643a665b509e",
   "metadata": {},
   "outputs": [],
   "source": []
  }
 ],
 "metadata": {
  "kernelspec": {
   "display_name": "Python 3 (ipykernel)",
   "language": "python",
   "name": "python3"
  },
  "language_info": {
   "codemirror_mode": {
    "name": "ipython",
    "version": 3
   },
   "file_extension": ".py",
   "mimetype": "text/x-python",
   "name": "python",
   "nbconvert_exporter": "python",
   "pygments_lexer": "ipython3",
   "version": "3.11.5"
  }
 },
 "nbformat": 4,
 "nbformat_minor": 5
}
