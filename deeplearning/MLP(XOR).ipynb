{
 "cells": [
  {
   "cell_type": "code",
   "execution_count": 1,
   "id": "fa6b4133-6883-4c32-92b0-22329836bceb",
   "metadata": {},
   "outputs": [
    {
     "name": "stdout",
     "output_type": "stream",
     "text": [
      "입력 값 : (0, 0)출력 값 : 0\n",
      "입력 값 : (1, 0)출력 값 : 1\n",
      "입력 값 : (0, 1)출력 값 : 1\n",
      "입력 값 : (1, 1)출력 값 : 0\n"
     ]
    }
   ],
   "source": [
    "import numpy as np\n",
    "w11 = np.array([-2, -2])\n",
    "w12 = np.array([2, 2])\n",
    "w2 = np.array([1, 1])\n",
    "b1 = 3\n",
    "b2 = -1\n",
    "b3 = -1\n",
    "def MLP(x, w, b) : \n",
    "    y = np.sum(w * x) + b\n",
    "    if y <= 0 :\n",
    "        return 0\n",
    "    else : \n",
    "        return 1\n",
    "def NAND(x1, x2) : \n",
    "    return MLP(np.array([x1, x2]), w11, b1)\n",
    "\n",
    "def OR(x1, x2) : \n",
    "    return MLP(np.array([x1, x2]), w12, b2)\n",
    "\n",
    "def AND(x1, x2) : \n",
    "    return MLP(np.array([x1, x2]), w2, b3)\n",
    "\n",
    "def XOR(x1, x2) : \n",
    "    return AND(NAND(x1, x2), OR(x1, x2))\n",
    "for x in [(0, 0), (1, 0), (0, 1), (1, 1)] : \n",
    "    y = XOR(x[0], x[1])\n",
    "    print(\"입력 값 : \" + str(x) + \"출력 값 : \" + str(y))"
   ]
  },
  {
   "cell_type": "code",
   "execution_count": null,
   "id": "bf8fcfdf-414b-4133-8f80-09a5c31eba5c",
   "metadata": {},
   "outputs": [],
   "source": []
  }
 ],
 "metadata": {
  "kernelspec": {
   "display_name": "Python 3 (ipykernel)",
   "language": "python",
   "name": "python3"
  },
  "language_info": {
   "codemirror_mode": {
    "name": "ipython",
    "version": 3
   },
   "file_extension": ".py",
   "mimetype": "text/x-python",
   "name": "python",
   "nbconvert_exporter": "python",
   "pygments_lexer": "ipython3",
   "version": "3.11.5"
  }
 },
 "nbformat": 4,
 "nbformat_minor": 5
}
