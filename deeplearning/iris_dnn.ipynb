{
 "cells": [
  {
   "cell_type": "code",
   "execution_count": 1,
   "id": "82054f85-e75a-473c-8920-44d72cd0854c",
   "metadata": {},
   "outputs": [],
   "source": [
    "from sklearn.datasets import load_iris\n",
    "from sklearn.model_selection import train_test_split\n",
    "\n",
    "iris = load_iris()\n",
    "\n",
    "X_train, X_test , y_train, y_test = train_test_split(iris.data , iris.target, test_size=0.3 , random_state=42)"
   ]
  },
  {
   "cell_type": "code",
   "execution_count": 2,
   "id": "b2f2458e-49c4-46e8-8109-1f723c78100b",
   "metadata": {},
   "outputs": [],
   "source": [
    "from tensorflow.keras.models import Sequential\n",
    "from tensorflow.keras.layers import Dense\n",
    "from tensorflow.keras.utils import to_categorical\n",
    "\n",
    "y_train = to_categorical(y_train , num_classes=3)\n",
    "y_test = to_categorical(y_test , num_classes=3)"
   ]
  },
  {
   "cell_type": "code",
   "execution_count": 3,
   "id": "93898584-118d-4e81-9652-173025e53f2a",
   "metadata": {},
   "outputs": [],
   "source": [
    "model = Sequential()\n",
    "model.add(Dense(128, activation='relu', input_dim=4))\n",
    "model.add(Dense(64, activation='relu'))\n",
    "model.add(Dense(3, activation='softmax'))"
   ]
  },
  {
   "cell_type": "code",
   "execution_count": 4,
   "id": "edc4b2b8-35cf-4f0a-93c0-14aa064d82bf",
   "metadata": {},
   "outputs": [],
   "source": [
    "model.compile(loss='categorical_crossentropy', optimizer='adam' , metrics=['accuracy'])"
   ]
  },
  {
   "cell_type": "code",
   "execution_count": 5,
   "id": "65a8c58f-4dac-4342-8537-0f2c6ea307c7",
   "metadata": {},
   "outputs": [
    {
     "name": "stdout",
     "output_type": "stream",
     "text": [
      "Epoch 1/100\n",
      "4/4 [==============================] - 2s 12ms/step - loss: 1.1903 - accuracy: 0.3429\n",
      "Epoch 2/100\n",
      "4/4 [==============================] - 0s 16ms/step - loss: 0.9379 - accuracy: 0.6190\n",
      "Epoch 3/100\n",
      "4/4 [==============================] - 0s 15ms/step - loss: 0.8394 - accuracy: 0.6476\n",
      "Epoch 4/100\n",
      "4/4 [==============================] - 0s 19ms/step - loss: 0.7559 - accuracy: 0.6571\n",
      "Epoch 5/100\n",
      "4/4 [==============================] - 0s 20ms/step - loss: 0.7020 - accuracy: 0.9048\n",
      "Epoch 6/100\n",
      "4/4 [==============================] - 0s 18ms/step - loss: 0.6461 - accuracy: 0.8857\n",
      "Epoch 7/100\n",
      "4/4 [==============================] - 0s 11ms/step - loss: 0.5960 - accuracy: 0.7429\n",
      "Epoch 8/100\n",
      "4/4 [==============================] - 0s 19ms/step - loss: 0.5592 - accuracy: 0.6952\n",
      "Epoch 9/100\n",
      "4/4 [==============================] - 0s 16ms/step - loss: 0.5239 - accuracy: 0.8190\n",
      "Epoch 10/100\n",
      "4/4 [==============================] - 0s 29ms/step - loss: 0.5195 - accuracy: 0.9048\n",
      "Epoch 11/100\n",
      "4/4 [==============================] - 0s 26ms/step - loss: 0.4814 - accuracy: 0.8667\n",
      "Epoch 12/100\n",
      "4/4 [==============================] - 0s 34ms/step - loss: 0.4700 - accuracy: 0.7048\n",
      "Epoch 13/100\n",
      "4/4 [==============================] - 0s 18ms/step - loss: 0.4397 - accuracy: 0.9143\n",
      "Epoch 14/100\n",
      "4/4 [==============================] - 0s 25ms/step - loss: 0.4253 - accuracy: 0.9429\n",
      "Epoch 15/100\n",
      "4/4 [==============================] - 0s 18ms/step - loss: 0.4016 - accuracy: 0.9429\n",
      "Epoch 16/100\n",
      "4/4 [==============================] - 0s 17ms/step - loss: 0.3974 - accuracy: 0.8571\n",
      "Epoch 17/100\n",
      "4/4 [==============================] - 0s 32ms/step - loss: 0.3737 - accuracy: 0.9143\n",
      "Epoch 18/100\n",
      "4/4 [==============================] - 0s 40ms/step - loss: 0.3618 - accuracy: 0.9714\n",
      "Epoch 19/100\n",
      "4/4 [==============================] - 0s 13ms/step - loss: 0.3457 - accuracy: 0.9333\n",
      "Epoch 20/100\n",
      "4/4 [==============================] - 0s 22ms/step - loss: 0.3408 - accuracy: 0.9143\n",
      "Epoch 21/100\n",
      "4/4 [==============================] - 0s 11ms/step - loss: 0.3215 - accuracy: 0.9429\n",
      "Epoch 22/100\n",
      "4/4 [==============================] - 0s 17ms/step - loss: 0.3222 - accuracy: 0.9333\n",
      "Epoch 23/100\n",
      "4/4 [==============================] - 0s 21ms/step - loss: 0.2978 - accuracy: 0.9429\n",
      "Epoch 24/100\n",
      "4/4 [==============================] - 0s 31ms/step - loss: 0.2990 - accuracy: 0.9333\n",
      "Epoch 25/100\n",
      "4/4 [==============================] - 0s 32ms/step - loss: 0.2744 - accuracy: 0.9619\n",
      "Epoch 26/100\n",
      "4/4 [==============================] - 0s 16ms/step - loss: 0.2654 - accuracy: 0.9810\n",
      "Epoch 27/100\n",
      "4/4 [==============================] - 0s 24ms/step - loss: 0.2553 - accuracy: 0.9714\n",
      "Epoch 28/100\n",
      "4/4 [==============================] - 0s 23ms/step - loss: 0.2432 - accuracy: 0.9619\n",
      "Epoch 29/100\n",
      "4/4 [==============================] - 0s 18ms/step - loss: 0.2340 - accuracy: 0.9619\n",
      "Epoch 30/100\n",
      "4/4 [==============================] - 0s 19ms/step - loss: 0.2254 - accuracy: 0.9619\n",
      "Epoch 31/100\n",
      "4/4 [==============================] - 0s 19ms/step - loss: 0.2220 - accuracy: 0.9714\n",
      "Epoch 32/100\n",
      "4/4 [==============================] - 0s 23ms/step - loss: 0.2100 - accuracy: 0.9619\n",
      "Epoch 33/100\n",
      "4/4 [==============================] - 0s 26ms/step - loss: 0.2006 - accuracy: 0.9619\n",
      "Epoch 34/100\n",
      "4/4 [==============================] - 0s 16ms/step - loss: 0.1929 - accuracy: 0.9714\n",
      "Epoch 35/100\n",
      "4/4 [==============================] - 0s 13ms/step - loss: 0.1883 - accuracy: 0.9619\n",
      "Epoch 36/100\n",
      "4/4 [==============================] - 0s 33ms/step - loss: 0.1807 - accuracy: 0.9619\n",
      "Epoch 37/100\n",
      "4/4 [==============================] - 0s 25ms/step - loss: 0.1814 - accuracy: 0.9619\n",
      "Epoch 38/100\n",
      "4/4 [==============================] - 0s 15ms/step - loss: 0.1780 - accuracy: 0.9429\n",
      "Epoch 39/100\n",
      "4/4 [==============================] - 0s 20ms/step - loss: 0.1565 - accuracy: 0.9714\n",
      "Epoch 40/100\n",
      "4/4 [==============================] - 0s 15ms/step - loss: 0.1942 - accuracy: 0.9333\n",
      "Epoch 41/100\n",
      "4/4 [==============================] - 0s 12ms/step - loss: 0.1559 - accuracy: 0.9810\n",
      "Epoch 42/100\n",
      "4/4 [==============================] - 0s 19ms/step - loss: 0.1858 - accuracy: 0.9333\n",
      "Epoch 43/100\n",
      "4/4 [==============================] - 0s 15ms/step - loss: 0.1498 - accuracy: 0.9619\n",
      "Epoch 44/100\n",
      "4/4 [==============================] - 0s 16ms/step - loss: 0.1664 - accuracy: 0.9429\n",
      "Epoch 45/100\n",
      "4/4 [==============================] - 0s 28ms/step - loss: 0.1376 - accuracy: 0.9619\n",
      "Epoch 46/100\n",
      "4/4 [==============================] - 0s 26ms/step - loss: 0.1579 - accuracy: 0.9429\n",
      "Epoch 47/100\n",
      "4/4 [==============================] - 0s 29ms/step - loss: 0.1431 - accuracy: 0.9619\n",
      "Epoch 48/100\n",
      "4/4 [==============================] - 0s 13ms/step - loss: 0.1381 - accuracy: 0.9714\n",
      "Epoch 49/100\n",
      "4/4 [==============================] - 0s 28ms/step - loss: 0.1321 - accuracy: 0.9619\n",
      "Epoch 50/100\n",
      "4/4 [==============================] - 0s 23ms/step - loss: 0.1306 - accuracy: 0.9714\n",
      "Epoch 51/100\n",
      "4/4 [==============================] - 0s 31ms/step - loss: 0.1368 - accuracy: 0.9524\n",
      "Epoch 52/100\n",
      "4/4 [==============================] - 0s 14ms/step - loss: 0.1285 - accuracy: 0.9619\n",
      "Epoch 53/100\n",
      "4/4 [==============================] - 0s 27ms/step - loss: 0.1263 - accuracy: 0.9619\n",
      "Epoch 54/100\n",
      "4/4 [==============================] - 0s 52ms/step - loss: 0.1178 - accuracy: 0.9810\n",
      "Epoch 55/100\n",
      "4/4 [==============================] - 0s 6ms/step - loss: 0.1213 - accuracy: 0.9619\n",
      "Epoch 56/100\n",
      "4/4 [==============================] - 0s 14ms/step - loss: 0.1134 - accuracy: 0.9714\n",
      "Epoch 57/100\n",
      "4/4 [==============================] - 0s 13ms/step - loss: 0.1209 - accuracy: 0.9619\n",
      "Epoch 58/100\n",
      "4/4 [==============================] - 0s 27ms/step - loss: 0.1135 - accuracy: 0.9714\n",
      "Epoch 59/100\n",
      "4/4 [==============================] - 0s 18ms/step - loss: 0.1103 - accuracy: 0.9714\n",
      "Epoch 60/100\n",
      "4/4 [==============================] - 0s 17ms/step - loss: 0.1077 - accuracy: 0.9714\n",
      "Epoch 61/100\n",
      "4/4 [==============================] - 0s 14ms/step - loss: 0.1096 - accuracy: 0.9714\n",
      "Epoch 62/100\n",
      "4/4 [==============================] - 0s 5ms/step - loss: 0.1122 - accuracy: 0.9619\n",
      "Epoch 63/100\n",
      "4/4 [==============================] - 0s 26ms/step - loss: 0.1150 - accuracy: 0.9619\n",
      "Epoch 64/100\n",
      "4/4 [==============================] - 0s 10ms/step - loss: 0.1120 - accuracy: 0.9714\n",
      "Epoch 65/100\n",
      "4/4 [==============================] - 0s 26ms/step - loss: 0.1060 - accuracy: 0.9714\n",
      "Epoch 66/100\n",
      "4/4 [==============================] - 0s 16ms/step - loss: 0.1056 - accuracy: 0.9810\n",
      "Epoch 67/100\n",
      "4/4 [==============================] - 0s 24ms/step - loss: 0.1031 - accuracy: 0.9810\n",
      "Epoch 68/100\n",
      "4/4 [==============================] - 0s 17ms/step - loss: 0.1057 - accuracy: 0.9714\n",
      "Epoch 69/100\n",
      "4/4 [==============================] - 0s 13ms/step - loss: 0.0987 - accuracy: 0.9810\n",
      "Epoch 70/100\n",
      "4/4 [==============================] - 0s 28ms/step - loss: 0.1017 - accuracy: 0.9714\n",
      "Epoch 71/100\n",
      "4/4 [==============================] - 0s 19ms/step - loss: 0.0960 - accuracy: 0.9714\n",
      "Epoch 72/100\n",
      "4/4 [==============================] - 0s 12ms/step - loss: 0.0950 - accuracy: 0.9714\n",
      "Epoch 73/100\n",
      "4/4 [==============================] - 0s 20ms/step - loss: 0.1005 - accuracy: 0.9714\n",
      "Epoch 74/100\n",
      "4/4 [==============================] - 0s 20ms/step - loss: 0.0941 - accuracy: 0.9714\n",
      "Epoch 75/100\n",
      "4/4 [==============================] - 0s 18ms/step - loss: 0.0950 - accuracy: 0.9714\n",
      "Epoch 76/100\n",
      "4/4 [==============================] - 0s 18ms/step - loss: 0.0915 - accuracy: 0.9714\n",
      "Epoch 77/100\n",
      "4/4 [==============================] - 0s 21ms/step - loss: 0.0923 - accuracy: 0.9714\n",
      "Epoch 78/100\n",
      "4/4 [==============================] - 0s 20ms/step - loss: 0.0902 - accuracy: 0.9714\n",
      "Epoch 79/100\n",
      "4/4 [==============================] - 0s 13ms/step - loss: 0.0903 - accuracy: 0.9714\n",
      "Epoch 80/100\n",
      "4/4 [==============================] - 0s 13ms/step - loss: 0.0911 - accuracy: 0.9714\n",
      "Epoch 81/100\n",
      "4/4 [==============================] - 0s 17ms/step - loss: 0.0888 - accuracy: 0.9714\n",
      "Epoch 82/100\n",
      "4/4 [==============================] - 0s 31ms/step - loss: 0.0951 - accuracy: 0.9524\n",
      "Epoch 83/100\n",
      "4/4 [==============================] - 0s 21ms/step - loss: 0.0874 - accuracy: 0.9810\n",
      "Epoch 84/100\n",
      "4/4 [==============================] - 0s 25ms/step - loss: 0.0884 - accuracy: 0.9714\n",
      "Epoch 85/100\n",
      "4/4 [==============================] - 0s 10ms/step - loss: 0.0900 - accuracy: 0.9810\n",
      "Epoch 86/100\n",
      "4/4 [==============================] - 0s 9ms/step - loss: 0.0881 - accuracy: 0.9714\n",
      "Epoch 87/100\n",
      "4/4 [==============================] - 0s 14ms/step - loss: 0.0859 - accuracy: 0.9714\n",
      "Epoch 88/100\n",
      "4/4 [==============================] - 0s 8ms/step - loss: 0.0855 - accuracy: 0.9810\n",
      "Epoch 89/100\n",
      "4/4 [==============================] - 0s 28ms/step - loss: 0.0848 - accuracy: 0.9619\n",
      "Epoch 90/100\n",
      "4/4 [==============================] - 0s 17ms/step - loss: 0.0865 - accuracy: 0.9714\n",
      "Epoch 91/100\n",
      "4/4 [==============================] - 0s 16ms/step - loss: 0.0847 - accuracy: 0.9619\n",
      "Epoch 92/100\n",
      "4/4 [==============================] - 0s 13ms/step - loss: 0.0897 - accuracy: 0.9714\n",
      "Epoch 93/100\n",
      "4/4 [==============================] - 0s 9ms/step - loss: 0.0809 - accuracy: 0.9810\n",
      "Epoch 94/100\n",
      "4/4 [==============================] - 0s 19ms/step - loss: 0.0963 - accuracy: 0.9524\n",
      "Epoch 95/100\n",
      "4/4 [==============================] - 0s 23ms/step - loss: 0.0867 - accuracy: 0.9619\n",
      "Epoch 96/100\n",
      "4/4 [==============================] - 0s 8ms/step - loss: 0.1016 - accuracy: 0.9714\n",
      "Epoch 97/100\n",
      "4/4 [==============================] - 0s 13ms/step - loss: 0.0871 - accuracy: 0.9714\n",
      "Epoch 98/100\n",
      "4/4 [==============================] - 0s 10ms/step - loss: 0.0856 - accuracy: 0.9619\n",
      "Epoch 99/100\n",
      "4/4 [==============================] - 0s 28ms/step - loss: 0.0832 - accuracy: 0.9714\n",
      "Epoch 100/100\n",
      "4/4 [==============================] - 0s 18ms/step - loss: 0.0834 - accuracy: 0.9714\n"
     ]
    },
    {
     "data": {
      "text/plain": [
       "<keras.src.callbacks.History at 0x1a5dd809c50>"
      ]
     },
     "execution_count": 5,
     "metadata": {},
     "output_type": "execute_result"
    }
   ],
   "source": [
    "model.fit(x=X_train , y=y_train , epochs=100)"
   ]
  },
  {
   "cell_type": "code",
   "execution_count": 6,
   "id": "9f6bbb35-dcc5-46a7-a8d6-f35f94b3edaa",
   "metadata": {},
   "outputs": [
    {
     "name": "stdout",
     "output_type": "stream",
     "text": [
      "2/2 [==============================] - 0s 9ms/step\n"
     ]
    },
    {
     "data": {
      "text/plain": [
       "array([[3.6546472e-04, 9.5488411e-01, 4.4750396e-02],\n",
       "       [9.9934250e-01, 6.5745722e-04, 3.8724633e-13],\n",
       "       [1.2860827e-09, 5.2872783e-04, 9.9947125e-01],\n",
       "       [4.0304585e-04, 9.1070873e-01, 8.8888302e-02],\n",
       "       [1.7970659e-04, 9.6944630e-01, 3.0374050e-02],\n",
       "       [9.9861348e-01, 1.3864824e-03, 4.5637704e-12],\n",
       "       [5.2032936e-03, 9.9344301e-01, 1.3538011e-03],\n",
       "       [5.6759877e-06, 1.0522488e-01, 8.9476937e-01],\n",
       "       [7.7933466e-05, 4.7911242e-01, 5.2080959e-01],\n",
       "       [1.5275854e-03, 9.9525344e-01, 3.2189752e-03],\n",
       "       [2.7269101e-05, 2.5729585e-01, 7.4267685e-01],\n",
       "       [9.9808097e-01, 1.9190568e-03, 2.1493866e-11],\n",
       "       [9.9949026e-01, 5.0975819e-04, 3.2121642e-13],\n",
       "       [9.9816054e-01, 1.8395249e-03, 1.5536137e-11],\n",
       "       [9.9940670e-01, 5.9329125e-04, 8.7703103e-13],\n",
       "       [4.0134898e-04, 9.6535736e-01, 3.4241259e-02],\n",
       "       [5.1808616e-08, 2.1284544e-03, 9.9787152e-01],\n",
       "       [1.3624969e-03, 9.9167353e-01, 6.9640353e-03],\n",
       "       [5.1043188e-04, 9.0137845e-01, 9.8111123e-02],\n",
       "       [6.6029962e-08, 2.3089016e-03, 9.9769104e-01],\n",
       "       [9.9749529e-01, 2.5047164e-03, 4.5309836e-11],\n",
       "       [5.0685529e-05, 2.9258066e-01, 7.0736867e-01],\n",
       "       [9.9780279e-01, 2.1972333e-03, 2.4020430e-11],\n",
       "       [8.7761130e-08, 2.8790925e-03, 9.9712080e-01],\n",
       "       [4.4456506e-06, 3.0935392e-01, 6.9064164e-01],\n",
       "       [1.0440043e-06, 2.3778064e-02, 9.7622097e-01],\n",
       "       [9.3975295e-08, 4.7711967e-03, 9.9522877e-01],\n",
       "       [4.4186443e-08, 2.3936441e-03, 9.9760628e-01],\n",
       "       [9.9719417e-01, 2.8058554e-03, 6.3164696e-11],\n",
       "       [9.9698681e-01, 3.0131740e-03, 5.8745848e-11],\n",
       "       [9.9952352e-01, 4.7654024e-04, 9.1225378e-13],\n",
       "       [9.9982661e-01, 1.7337363e-04, 1.6974445e-14],\n",
       "       [5.9113518e-04, 9.9780625e-01, 1.6025732e-03],\n",
       "       [9.9846005e-01, 1.5399152e-03, 1.2374053e-11],\n",
       "       [9.9845779e-01, 1.5421963e-03, 2.7425394e-11],\n",
       "       [1.6656869e-06, 2.7032774e-02, 9.7296554e-01],\n",
       "       [5.4278848e-04, 9.9190795e-01, 7.5493124e-03],\n",
       "       [9.9917406e-01, 8.2589546e-04, 1.5789283e-12],\n",
       "       [9.9935406e-01, 6.4596068e-04, 1.1871987e-12],\n",
       "       [9.9973065e-01, 2.6938130e-04, 7.1302339e-14],\n",
       "       [7.3708139e-07, 8.4606195e-03, 9.9153858e-01],\n",
       "       [7.4039731e-04, 9.7890705e-01, 2.0352498e-02],\n",
       "       [2.9685110e-04, 9.8688900e-01, 1.2814170e-02],\n",
       "       [9.9965310e-01, 3.4685587e-04, 1.7445304e-13],\n",
       "       [9.9948275e-01, 5.1720469e-04, 3.5792070e-13]], dtype=float32)"
      ]
     },
     "execution_count": 6,
     "metadata": {},
     "output_type": "execute_result"
    }
   ],
   "source": [
    "model.predict(X_test)"
   ]
  },
  {
   "cell_type": "code",
   "execution_count": 7,
   "id": "1295e2de-7e44-4ad4-9da0-c1e210141052",
   "metadata": {},
   "outputs": [
    {
     "data": {
      "text/plain": [
       "array(['setosa', 'versicolor', 'virginica'], dtype='<U10')"
      ]
     },
     "execution_count": 7,
     "metadata": {},
     "output_type": "execute_result"
    }
   ],
   "source": [
    "iris.target_names"
   ]
  },
  {
   "cell_type": "code",
   "execution_count": 10,
   "id": "a8d9a03a-c6c7-41cb-baad-b7bf2cc400a3",
   "metadata": {},
   "outputs": [
    {
     "data": {
      "text/plain": [
       "array([1., 0., 0.], dtype=float32)"
      ]
     },
     "execution_count": 10,
     "metadata": {},
     "output_type": "execute_result"
    }
   ],
   "source": [
    "y_test[1]"
   ]
  },
  {
   "cell_type": "code",
   "execution_count": 11,
   "id": "5869c100-0446-4122-8669-3cc190c55c3a",
   "metadata": {},
   "outputs": [
    {
     "name": "stdout",
     "output_type": "stream",
     "text": [
      "2/2 [==============================] - 0s 19ms/step - loss: 0.0519 - accuracy: 0.9778\n"
     ]
    },
    {
     "data": {
      "text/plain": [
       "[0.05186625197529793, 0.9777777791023254]"
      ]
     },
     "execution_count": 11,
     "metadata": {},
     "output_type": "execute_result"
    }
   ],
   "source": [
    "model.evaluate(X_test , y_test)"
   ]
  },
  {
   "cell_type": "code",
   "execution_count": null,
   "id": "6150efd5-6681-4719-83a3-a25af117893c",
   "metadata": {},
   "outputs": [],
   "source": []
  }
 ],
 "metadata": {
  "kernelspec": {
   "display_name": "Python 3 (ipykernel)",
   "language": "python",
   "name": "python3"
  },
  "language_info": {
   "codemirror_mode": {
    "name": "ipython",
    "version": 3
   },
   "file_extension": ".py",
   "mimetype": "text/x-python",
   "name": "python",
   "nbconvert_exporter": "python",
   "pygments_lexer": "ipython3",
   "version": "3.11.5"
  }
 },
 "nbformat": 4,
 "nbformat_minor": 5
}
