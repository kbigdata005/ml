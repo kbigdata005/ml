{
 "cells": [
  {
   "cell_type": "markdown",
   "id": "3374ffd6-e567-49b5-a84e-aca2e0e481e6",
   "metadata": {},
   "source": [
    "tf.keras.preprocessing.text.text_to_word_sequence(\n",
    "    input_text,\n",
    "    filters='!\"#$%&()*+,-./:;<=>?@[\\\\]^_`{|}~\\t\\n',\n",
    "    lower=True,\n",
    "    split=' '\n",
    ")"
   ]
  },
  {
   "cell_type": "code",
   "execution_count": 9,
   "id": "a8959b98-004e-40a6-915f-d31746f56a41",
   "metadata": {},
   "outputs": [
    {
     "name": "stdout",
     "output_type": "stream",
     "text": [
      "\n",
      " 원문 : \n",
      " 해보지 않으면 해낼 수  없다\n",
      "\n",
      " 토큰화 : \n",
      " ['해보지', '않으면', '해낼', '수', '없다']\n"
     ]
    }
   ],
   "source": [
    "import numpy\n",
    "import tensorflow as tf\n",
    "from numpy import array\n",
    "from tensorflow.keras.preprocessing.text import Tokenizer\n",
    "from tensorflow.keras.preprocessing.sequence import pad_sequences\n",
    "from tensorflow.keras.models import Sequential \n",
    "from tensorflow.keras.layers import Dense, Flatten, Embedding\n",
    "\n",
    "from tensorflow.keras.preprocessing.text import text_to_word_sequence\n",
    "\n",
    "text = '해보지 않으면 해낼 수  없다'\n",
    "\n",
    "result = text_to_word_sequence(text, filters='!\"#$%&()*+,-./:;<=>?@[\\]^_`{|}~\\t\\n', split=' ')\n",
    "print ('\\n 원문 : \\n', text)\n",
    "print ('\\n 토큰화 : \\n', result)"
   ]
  },
  {
   "cell_type": "code",
   "execution_count": 10,
   "id": "1175176b-758b-4ea8-b3c0-f8f3348bec08",
   "metadata": {},
   "outputs": [],
   "source": [
    "docs = ['먼저 텍스트의 각 단어를 나누어 텍스트의 단위를 토큰화 합니다.',\n",
    "        '텍스트의 단어로 토큰화 해야 딥러닝에서 인식됩니다.',\n",
    "        '토큰화 한 결과는 딥러닝에서 사용 할 수 있습니다.'\n",
    "        ]"
   ]
  },
  {
   "cell_type": "code",
   "execution_count": 11,
   "id": "540585b2-3c86-40b6-b642-1ea8798fb559",
   "metadata": {},
   "outputs": [
    {
     "name": "stdout",
     "output_type": "stream",
     "text": [
      "\n",
      "단어 카운트:\n",
      " OrderedDict([('먼저', 1), ('텍스트의', 3), ('각', 1), ('단어를', 1), ('나누어', 1), ('단위를', 1), ('토큰화', 3), ('합니다', 1), ('단어로', 1), ('해야', 1), ('딥러닝에서', 2), ('인식됩니다', 1), ('한', 1), ('결과는', 1), ('사용', 1), ('할', 1), ('수', 1), ('있습니다', 1)])\n",
      "\n",
      "문장 카운트 : 3\n",
      "\n",
      "각 단어가 몇 개의 문장에 포함되어 있는가:\n",
      " defaultdict(<class 'int'>, {'각': 1, '합니다': 1, '텍스트의': 2, '단어를': 1, '먼저': 1, '나누어': 1, '단위를': 1, '토큰화': 3, '해야': 1, '딥러닝에서': 2, '단어로': 1, '인식됩니다': 1, '수': 1, '있습니다': 1, '할': 1, '결과는': 1, '사용': 1, '한': 1})\n",
      "\n",
      "각 단어에 매겨진 인덱스 값: \n",
      " {'텍스트의': 1, '토큰화': 2, '딥러닝에서': 3, '먼저': 4, '각': 5, '단어를': 6, '나누어': 7, '단위를': 8, '합니다': 9, '단어로': 10, '해야': 11, '인식됩니다': 12, '한': 13, '결과는': 14, '사용': 15, '할': 16, '수': 17, '있습니다': 18}\n"
     ]
    }
   ],
   "source": [
    "# 토큰화 함수를 이용해 전처리 하는 과정입니다.\n",
    "token = Tokenizer() # 토큰화 함수 지정\n",
    "token.fit_on_texts(docs) # 토큰화 함수에 문장 적용\n",
    "# 단어의 빈도수를 계산한 결과를 각 옵션에 맞추어 출력합니다.\n",
    "print(\"\\n단어 카운트:\\n\", token.word_counts)\n",
    "# Tokenizer()의 word_counts 함수는 순서를 기억하는 OrderedDict클래스를 사용합니다.\n",
    "# 출력되는 순서는 랜덤입니다.\n",
    "print(\"\\n문장 카운트 :\", token.document_count)\n",
    "print(\"\\n각 단어가 몇 개의 문장에 포함되어 있는가:\\n\", token.word_docs)\n",
    "print(\"\\n각 단어에 매겨진 인덱스 값: \\n\", token.word_index)"
   ]
  },
  {
   "cell_type": "code",
   "execution_count": 12,
   "id": "9dd9f2ad-df67-4268-9cd5-4d3e7418cd8f",
   "metadata": {},
   "outputs": [
    {
     "name": "stdout",
     "output_type": "stream",
     "text": [
      "문장의 토큰화 :  {'오랫동안': 1, '꿈꾸는': 2, '자는': 3, '그': 4, '꿈을': 5, '닮아간다': 6}\n",
      "문장의 숫자화 :  [[1, 2, 3, 4, 5, 6]]\n",
      "문장의 원-핫 인코딩 : \n",
      " [[[0. 1. 0. 0. 0. 0. 0.]\n",
      "  [0. 0. 1. 0. 0. 0. 0.]\n",
      "  [0. 0. 0. 1. 0. 0. 0.]\n",
      "  [0. 0. 0. 0. 1. 0. 0.]\n",
      "  [0. 0. 0. 0. 0. 1. 0.]\n",
      "  [0. 0. 0. 0. 0. 0. 1.]]]\n"
     ]
    }
   ],
   "source": [
    "text = '오랫동안 꿈꾸는 자는 그 꿈을 닮아간다'\n",
    "\n",
    "token = Tokenizer()\n",
    "token.fit_on_texts([text])\n",
    "print('문장의 토큰화 : ', token.word_index)\n",
    "\n",
    "x = token.texts_to_sequences([text])\n",
    "print('문장의 숫자화 : ', x)\n",
    "\n",
    "from tensorflow.keras.utils import to_categorical\n",
    "\n",
    "word_size = len(token.word_index) + 1\n",
    "x = to_categorical(x, num_classes=word_size)\n",
    "print('문장의 원-핫 인코딩 : \\n', x)"
   ]
  },
  {
   "cell_type": "code",
   "execution_count": 13,
   "id": "b6e24b5d-686a-4595-a572-f44add46926c",
   "metadata": {},
   "outputs": [
    {
     "name": "stdout",
     "output_type": "stream",
     "text": [
      "{'너무': 1, '재밋네요': 2, '최고예요': 3, '참': 4, '잘': 5, '만든': 6, '영화에요': 7, '추천하고': 8, '싶은': 9, '영화입니다': 10, '한': 11, '번': 12, '더': 13, '보고싶네요': 14, '글쎄요': 15, '별로에요': 16, '생각보다': 17, '지루하네요': 18, '연기가': 19, '어색해요': 20, '재미없어요': 21}\n",
      "[[1, 2], [3], [4, 5, 6, 7], [8, 9, 10], [11, 12, 13, 14], [15], [16], [17, 18], [19, 20], [21]]\n"
     ]
    }
   ],
   "source": [
    "docs = ['너무 재밋네요', '최고예요', '참 잘 만든 영화에요', '추천하고 싶은 영화입니다.', '한 번 더 보고싶네요',\n",
    "         '글쎄요', '별로에요', '생각보다 지루하네요', '연기가 어색해요', '재미없어요']\n",
    "\n",
    "class_ = array([1,1,1,1,1,0,0,0,0,0])\n",
    "\n",
    "token = Tokenizer()\n",
    "token.fit_on_texts(docs)\n",
    "print(token.word_index)\n",
    "\n",
    "x = token.texts_to_sequences(docs)\n",
    "print(x)"
   ]
  },
  {
   "cell_type": "code",
   "execution_count": 14,
   "id": "0a068d70-17c3-48e4-bd27-d4ad5c87facb",
   "metadata": {},
   "outputs": [
    {
     "name": "stdout",
     "output_type": "stream",
     "text": [
      "\n",
      "패딩 결과 : \n",
      " [[ 0  0  1  2]\n",
      " [ 0  0  0  3]\n",
      " [ 4  5  6  7]\n",
      " [ 0  8  9 10]\n",
      " [11 12 13 14]\n",
      " [ 0  0  0 15]\n",
      " [ 0  0  0 16]\n",
      " [ 0  0 17 18]\n",
      " [ 0  0 19 20]\n",
      " [ 0  0  0 21]]\n"
     ]
    }
   ],
   "source": [
    "padded_x = pad_sequences(x, 4)\n",
    "print('\\n패딩 결과 : \\n', padded_x)"
   ]
  },
  {
   "cell_type": "code",
   "execution_count": 16,
   "id": "da95c9c8-faa4-4a77-95e5-8deff777a2dc",
   "metadata": {},
   "outputs": [],
   "source": [
    "word_size = len(token.word_index)+1"
   ]
  },
  {
   "cell_type": "code",
   "execution_count": 18,
   "id": "08b6e07b-d22a-4858-a6c8-0eaa8de4bfab",
   "metadata": {},
   "outputs": [
    {
     "name": "stdout",
     "output_type": "stream",
     "text": [
      "Epoch 1/20\n",
      "1/1 [==============================] - 1s 1s/step - loss: 0.6923 - accuracy: 0.6000\n",
      "Epoch 2/20\n",
      "1/1 [==============================] - 0s 14ms/step - loss: 0.6904 - accuracy: 0.6000\n",
      "Epoch 3/20\n",
      "1/1 [==============================] - 0s 70ms/step - loss: 0.6884 - accuracy: 0.6000\n",
      "Epoch 4/20\n",
      "1/1 [==============================] - 0s 43ms/step - loss: 0.6865 - accuracy: 0.6000\n",
      "Epoch 5/20\n",
      "1/1 [==============================] - 0s 29ms/step - loss: 0.6846 - accuracy: 0.7000\n",
      "Epoch 6/20\n",
      "1/1 [==============================] - 0s 47ms/step - loss: 0.6826 - accuracy: 0.7000\n",
      "Epoch 7/20\n",
      "1/1 [==============================] - 0s 55ms/step - loss: 0.6807 - accuracy: 0.7000\n",
      "Epoch 8/20\n",
      "1/1 [==============================] - 0s 36ms/step - loss: 0.6787 - accuracy: 0.7000\n",
      "Epoch 9/20\n",
      "1/1 [==============================] - 0s 68ms/step - loss: 0.6768 - accuracy: 0.7000\n",
      "Epoch 10/20\n",
      "1/1 [==============================] - 0s 42ms/step - loss: 0.6749 - accuracy: 0.7000\n",
      "Epoch 11/20\n",
      "1/1 [==============================] - 0s 56ms/step - loss: 0.6729 - accuracy: 0.8000\n",
      "Epoch 12/20\n",
      "1/1 [==============================] - 0s 49ms/step - loss: 0.6710 - accuracy: 0.8000\n",
      "Epoch 13/20\n",
      "1/1 [==============================] - 0s 35ms/step - loss: 0.6690 - accuracy: 0.9000\n",
      "Epoch 14/20\n",
      "1/1 [==============================] - 0s 48ms/step - loss: 0.6671 - accuracy: 0.9000\n",
      "Epoch 15/20\n",
      "1/1 [==============================] - 0s 67ms/step - loss: 0.6651 - accuracy: 0.9000\n",
      "Epoch 16/20\n",
      "1/1 [==============================] - 0s 19ms/step - loss: 0.6631 - accuracy: 0.9000\n",
      "Epoch 17/20\n",
      "1/1 [==============================] - 0s 38ms/step - loss: 0.6611 - accuracy: 0.9000\n",
      "Epoch 18/20\n",
      "1/1 [==============================] - 0s 32ms/step - loss: 0.6591 - accuracy: 0.9000\n",
      "Epoch 19/20\n",
      "1/1 [==============================] - 0s 69ms/step - loss: 0.6571 - accuracy: 0.9000\n",
      "Epoch 20/20\n",
      "1/1 [==============================] - 0s 92ms/step - loss: 0.6551 - accuracy: 0.9000\n",
      "1/1 [==============================] - 0s 318ms/step - loss: 0.6531 - accuracy: 0.9000\n",
      "\n",
      " Accuracy : 0.9000\n"
     ]
    }
   ],
   "source": [
    "model = Sequential()\n",
    "model.add(Embedding(word_size, 8, input_length=4))\n",
    "model.add(Flatten())\n",
    "model.add(Dense(1, activation = 'sigmoid'))\n",
    "model.compile(optimizer='adam', loss = 'binary_crossentropy', metrics=['accuracy'])\n",
    "model.fit(padded_x, class_, epochs=20)\n",
    "print('\\n Accuracy : %.4f' % (model.evaluate(padded_x, class_)[1]))"
   ]
  },
  {
   "cell_type": "code",
   "execution_count": 29,
   "id": "88e63264-14c5-4736-b069-08753b984ae5",
   "metadata": {},
   "outputs": [
    {
     "name": "stdout",
     "output_type": "stream",
     "text": [
      "[[1, 20]]\n"
     ]
    }
   ],
   "source": [
    "word = \"너무  어색해요\"\n",
    "X_test = token.texts_to_sequences([word])\n",
    "print(X_test)"
   ]
  },
  {
   "cell_type": "code",
   "execution_count": 30,
   "id": "44e4cfe5-f881-4f70-8bbc-e2163567448b",
   "metadata": {},
   "outputs": [
    {
     "name": "stdout",
     "output_type": "stream",
     "text": [
      "\n",
      "패딩 결과 : \n",
      " [[ 0  0  1 20]]\n"
     ]
    }
   ],
   "source": [
    "padded_x_test = pad_sequences(X_test, 4)\n",
    "print('\\n패딩 결과 : \\n', padded_x_test)"
   ]
  },
  {
   "cell_type": "code",
   "execution_count": 31,
   "id": "527c8579-d43b-4297-be16-7396d9a5eb3e",
   "metadata": {},
   "outputs": [
    {
     "name": "stdout",
     "output_type": "stream",
     "text": [
      "1/1 [==============================] - 0s 47ms/step\n"
     ]
    },
    {
     "data": {
      "text/plain": [
       "array([[0.49540314]], dtype=float32)"
      ]
     },
     "execution_count": 31,
     "metadata": {},
     "output_type": "execute_result"
    }
   ],
   "source": [
    "model.predict(padded_x_test)"
   ]
  },
  {
   "cell_type": "code",
   "execution_count": 35,
   "id": "22f56c5a-63b4-4bdd-83dc-78edc6d2f5d3",
   "metadata": {},
   "outputs": [
    {
     "name": "stdout",
     "output_type": "stream",
     "text": [
      "Epoch 1/20\n",
      "1/1 [==============================] - 2s 2s/step - loss: 0.6937 - accuracy: 0.6000\n",
      "Epoch 2/20\n",
      "1/1 [==============================] - 0s 21ms/step - loss: 0.6913 - accuracy: 0.6000\n",
      "Epoch 3/20\n",
      "1/1 [==============================] - 0s 27ms/step - loss: 0.6890 - accuracy: 0.6000\n",
      "Epoch 4/20\n",
      "1/1 [==============================] - 0s 47ms/step - loss: 0.6867 - accuracy: 0.6000\n",
      "Epoch 5/20\n",
      "1/1 [==============================] - 0s 24ms/step - loss: 0.6844 - accuracy: 0.6000\n",
      "Epoch 6/20\n",
      "1/1 [==============================] - 0s 43ms/step - loss: 0.6822 - accuracy: 0.6000\n",
      "Epoch 7/20\n",
      "1/1 [==============================] - 0s 42ms/step - loss: 0.6801 - accuracy: 0.6000\n",
      "Epoch 8/20\n",
      "1/1 [==============================] - 0s 48ms/step - loss: 0.6781 - accuracy: 0.6000\n",
      "Epoch 9/20\n",
      "1/1 [==============================] - 0s 48ms/step - loss: 0.6760 - accuracy: 0.6000\n",
      "Epoch 10/20\n",
      "1/1 [==============================] - 0s 43ms/step - loss: 0.6738 - accuracy: 0.7000\n",
      "Epoch 11/20\n",
      "1/1 [==============================] - 0s 49ms/step - loss: 0.6716 - accuracy: 0.8000\n",
      "Epoch 12/20\n",
      "1/1 [==============================] - 0s 52ms/step - loss: 0.6694 - accuracy: 0.8000\n",
      "Epoch 13/20\n",
      "1/1 [==============================] - 0s 41ms/step - loss: 0.6670 - accuracy: 0.8000\n",
      "Epoch 14/20\n",
      "1/1 [==============================] - 0s 37ms/step - loss: 0.6647 - accuracy: 0.8000\n",
      "Epoch 15/20\n",
      "1/1 [==============================] - 0s 41ms/step - loss: 0.6622 - accuracy: 0.8000\n",
      "Epoch 16/20\n",
      "1/1 [==============================] - 0s 24ms/step - loss: 0.6598 - accuracy: 0.8000\n",
      "Epoch 17/20\n",
      "1/1 [==============================] - 0s 31ms/step - loss: 0.6573 - accuracy: 0.8000\n",
      "Epoch 18/20\n",
      "1/1 [==============================] - 0s 35ms/step - loss: 0.6547 - accuracy: 0.8000\n",
      "Epoch 19/20\n",
      "1/1 [==============================] - 0s 52ms/step - loss: 0.6520 - accuracy: 0.8000\n",
      "Epoch 20/20\n",
      "1/1 [==============================] - 0s 45ms/step - loss: 0.6492 - accuracy: 0.8000\n",
      "1/1 [==============================] - 0s 246ms/step - loss: 0.6462 - accuracy: 0.8000\n",
      "\n",
      " Accuracy : 0.8000\n"
     ]
    }
   ],
   "source": [
    "model = Sequential()\n",
    "model.add(Embedding(word_size, 8, input_length=4))\n",
    "model.add(Flatten())\n",
    "model.add(Dense(32, activation = 'relu'))\n",
    "model.add(Dense(1, activation = 'sigmoid'))\n",
    "model.compile(optimizer='adam', loss = 'binary_crossentropy', metrics=['accuracy'])\n",
    "model.fit(padded_x, class_, epochs=20)\n",
    "print('\\n Accuracy : %.4f' % (model.evaluate(padded_x, class_)[1]))"
   ]
  },
  {
   "cell_type": "code",
   "execution_count": 36,
   "id": "0f685868-cb8c-43ef-a321-65a9da99a063",
   "metadata": {},
   "outputs": [
    {
     "name": "stdout",
     "output_type": "stream",
     "text": [
      "1/1 [==============================] - 0s 99ms/step\n"
     ]
    },
    {
     "data": {
      "text/plain": [
       "array([[0.46286064]], dtype=float32)"
      ]
     },
     "execution_count": 36,
     "metadata": {},
     "output_type": "execute_result"
    }
   ],
   "source": [
    "model.predict(padded_x_test)"
   ]
  },
  {
   "cell_type": "code",
   "execution_count": null,
   "id": "07b09837-c5f8-48a0-baaa-62638e1dfb82",
   "metadata": {},
   "outputs": [],
   "source": []
  }
 ],
 "metadata": {
  "kernelspec": {
   "display_name": "Python 3 (ipykernel)",
   "language": "python",
   "name": "python3"
  },
  "language_info": {
   "codemirror_mode": {
    "name": "ipython",
    "version": 3
   },
   "file_extension": ".py",
   "mimetype": "text/x-python",
   "name": "python",
   "nbconvert_exporter": "python",
   "pygments_lexer": "ipython3",
   "version": "3.11.5"
  }
 },
 "nbformat": 4,
 "nbformat_minor": 5
}
