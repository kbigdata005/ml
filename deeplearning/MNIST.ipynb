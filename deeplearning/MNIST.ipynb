{
 "cells": [
  {
   "cell_type": "code",
   "execution_count": 1,
   "id": "40fded4d-72ac-4264-a484-22f6d791b9cb",
   "metadata": {},
   "outputs": [],
   "source": [
    "from tensorflow.keras.models import Sequential\n",
    "from tensorflow.keras.layers import Dense\n",
    "from tensorflow.keras.datasets.mnist import load_data\n",
    "import tensorflow as tf\n",
    "(x_train, y_train), (x_test, y_test) = load_data()"
   ]
  },
  {
   "cell_type": "code",
   "execution_count": 2,
   "id": "ed9b8a90-b1b2-4172-a06b-054df490d393",
   "metadata": {},
   "outputs": [
    {
     "data": {
      "text/plain": [
       "(60000, 28, 28)"
      ]
     },
     "execution_count": 2,
     "metadata": {},
     "output_type": "execute_result"
    }
   ],
   "source": [
    "x_train.shape"
   ]
  },
  {
   "cell_type": "code",
   "execution_count": 3,
   "id": "bb497b51-650f-48c2-8c86-f02d84017d1b",
   "metadata": {},
   "outputs": [
    {
     "data": {
      "text/plain": [
       "array([5, 0, 4, ..., 5, 6, 8], dtype=uint8)"
      ]
     },
     "execution_count": 3,
     "metadata": {},
     "output_type": "execute_result"
    }
   ],
   "source": [
    "y_train"
   ]
  },
  {
   "cell_type": "code",
   "execution_count": 4,
   "id": "7e6b85c8-1c91-4922-9af0-b4edf9e3d3cf",
   "metadata": {},
   "outputs": [
    {
     "data": {
      "text/plain": [
       "array([[  0,   0,   0,   0,   0,   0,   0,   0,   0,   0,   0,   0,   0,\n",
       "          0,   0,   0,   0,   0,   0,   0,   0,   0,   0,   0,   0,   0,\n",
       "          0,   0],\n",
       "       [  0,   0,   0,   0,   0,   0,   0,   0,   0,   0,   0,   0,   0,\n",
       "          0,   0,   0,   0,   0,   0,   0,   0,   0,   0,   0,   0,   0,\n",
       "          0,   0],\n",
       "       [  0,   0,   0,   0,   0,   0,   0,   0,   0,   0,   0,   0,   0,\n",
       "          0,   0,   0,   0,   0,   0,   0,   0,   0,   0,   0,   0,   0,\n",
       "          0,   0],\n",
       "       [  0,   0,   0,   0,   0,   0,   0,   0,   0,   0,   0,   0,   0,\n",
       "          0,   0,   0,   0,   0,   0,   0,   0,   0,   0,   0,   0,   0,\n",
       "          0,   0],\n",
       "       [  0,   0,   0,   0,   0,   0,   0,   0,   0,   0,   0,   0,   0,\n",
       "          0,   0,  51, 159, 253, 159,  50,   0,   0,   0,   0,   0,   0,\n",
       "          0,   0],\n",
       "       [  0,   0,   0,   0,   0,   0,   0,   0,   0,   0,   0,   0,   0,\n",
       "          0,  48, 238, 252, 252, 252, 237,   0,   0,   0,   0,   0,   0,\n",
       "          0,   0],\n",
       "       [  0,   0,   0,   0,   0,   0,   0,   0,   0,   0,   0,   0,   0,\n",
       "         54, 227, 253, 252, 239, 233, 252,  57,   6,   0,   0,   0,   0,\n",
       "          0,   0],\n",
       "       [  0,   0,   0,   0,   0,   0,   0,   0,   0,   0,   0,  10,  60,\n",
       "        224, 252, 253, 252, 202,  84, 252, 253, 122,   0,   0,   0,   0,\n",
       "          0,   0],\n",
       "       [  0,   0,   0,   0,   0,   0,   0,   0,   0,   0,   0, 163, 252,\n",
       "        252, 252, 253, 252, 252,  96, 189, 253, 167,   0,   0,   0,   0,\n",
       "          0,   0],\n",
       "       [  0,   0,   0,   0,   0,   0,   0,   0,   0,   0,  51, 238, 253,\n",
       "        253, 190, 114, 253, 228,  47,  79, 255, 168,   0,   0,   0,   0,\n",
       "          0,   0],\n",
       "       [  0,   0,   0,   0,   0,   0,   0,   0,   0,  48, 238, 252, 252,\n",
       "        179,  12,  75, 121,  21,   0,   0, 253, 243,  50,   0,   0,   0,\n",
       "          0,   0],\n",
       "       [  0,   0,   0,   0,   0,   0,   0,   0,  38, 165, 253, 233, 208,\n",
       "         84,   0,   0,   0,   0,   0,   0, 253, 252, 165,   0,   0,   0,\n",
       "          0,   0],\n",
       "       [  0,   0,   0,   0,   0,   0,   0,   7, 178, 252, 240,  71,  19,\n",
       "         28,   0,   0,   0,   0,   0,   0, 253, 252, 195,   0,   0,   0,\n",
       "          0,   0],\n",
       "       [  0,   0,   0,   0,   0,   0,   0,  57, 252, 252,  63,   0,   0,\n",
       "          0,   0,   0,   0,   0,   0,   0, 253, 252, 195,   0,   0,   0,\n",
       "          0,   0],\n",
       "       [  0,   0,   0,   0,   0,   0,   0, 198, 253, 190,   0,   0,   0,\n",
       "          0,   0,   0,   0,   0,   0,   0, 255, 253, 196,   0,   0,   0,\n",
       "          0,   0],\n",
       "       [  0,   0,   0,   0,   0,   0,  76, 246, 252, 112,   0,   0,   0,\n",
       "          0,   0,   0,   0,   0,   0,   0, 253, 252, 148,   0,   0,   0,\n",
       "          0,   0],\n",
       "       [  0,   0,   0,   0,   0,   0,  85, 252, 230,  25,   0,   0,   0,\n",
       "          0,   0,   0,   0,   0,   7, 135, 253, 186,  12,   0,   0,   0,\n",
       "          0,   0],\n",
       "       [  0,   0,   0,   0,   0,   0,  85, 252, 223,   0,   0,   0,   0,\n",
       "          0,   0,   0,   0,   7, 131, 252, 225,  71,   0,   0,   0,   0,\n",
       "          0,   0],\n",
       "       [  0,   0,   0,   0,   0,   0,  85, 252, 145,   0,   0,   0,   0,\n",
       "          0,   0,   0,  48, 165, 252, 173,   0,   0,   0,   0,   0,   0,\n",
       "          0,   0],\n",
       "       [  0,   0,   0,   0,   0,   0,  86, 253, 225,   0,   0,   0,   0,\n",
       "          0,   0, 114, 238, 253, 162,   0,   0,   0,   0,   0,   0,   0,\n",
       "          0,   0],\n",
       "       [  0,   0,   0,   0,   0,   0,  85, 252, 249, 146,  48,  29,  85,\n",
       "        178, 225, 253, 223, 167,  56,   0,   0,   0,   0,   0,   0,   0,\n",
       "          0,   0],\n",
       "       [  0,   0,   0,   0,   0,   0,  85, 252, 252, 252, 229, 215, 252,\n",
       "        252, 252, 196, 130,   0,   0,   0,   0,   0,   0,   0,   0,   0,\n",
       "          0,   0],\n",
       "       [  0,   0,   0,   0,   0,   0,  28, 199, 252, 252, 253, 252, 252,\n",
       "        233, 145,   0,   0,   0,   0,   0,   0,   0,   0,   0,   0,   0,\n",
       "          0,   0],\n",
       "       [  0,   0,   0,   0,   0,   0,   0,  25, 128, 252, 253, 252, 141,\n",
       "         37,   0,   0,   0,   0,   0,   0,   0,   0,   0,   0,   0,   0,\n",
       "          0,   0],\n",
       "       [  0,   0,   0,   0,   0,   0,   0,   0,   0,   0,   0,   0,   0,\n",
       "          0,   0,   0,   0,   0,   0,   0,   0,   0,   0,   0,   0,   0,\n",
       "          0,   0],\n",
       "       [  0,   0,   0,   0,   0,   0,   0,   0,   0,   0,   0,   0,   0,\n",
       "          0,   0,   0,   0,   0,   0,   0,   0,   0,   0,   0,   0,   0,\n",
       "          0,   0],\n",
       "       [  0,   0,   0,   0,   0,   0,   0,   0,   0,   0,   0,   0,   0,\n",
       "          0,   0,   0,   0,   0,   0,   0,   0,   0,   0,   0,   0,   0,\n",
       "          0,   0],\n",
       "       [  0,   0,   0,   0,   0,   0,   0,   0,   0,   0,   0,   0,   0,\n",
       "          0,   0,   0,   0,   0,   0,   0,   0,   0,   0,   0,   0,   0,\n",
       "          0,   0]], dtype=uint8)"
      ]
     },
     "execution_count": 4,
     "metadata": {},
     "output_type": "execute_result"
    }
   ],
   "source": [
    "x_train[1]"
   ]
  },
  {
   "cell_type": "code",
   "execution_count": 5,
   "id": "a3319804-30f6-46a2-a15f-55a9f905ab77",
   "metadata": {},
   "outputs": [
    {
     "data": {
      "text/plain": [
       "<matplotlib.image.AxesImage at 0x1e32d4e7450>"
      ]
     },
     "execution_count": 5,
     "metadata": {},
     "output_type": "execute_result"
    },
    {
     "data": {
      "image/png": "[encoded data removed]",
      "text/plain": [
       "<Figure size 640x480 with 1 Axes>"
      ]
     },
     "metadata": {},
     "output_type": "display_data"
    }
   ],
   "source": [
    "import matplotlib.pyplot as plt\n",
    "\n",
    "plt.imshow(x_train[0])"
   ]
  },
  {
   "cell_type": "code",
   "execution_count": 6,
   "id": "eb5c4972-a37f-4ec0-9c86-1bdfabe1bb14",
   "metadata": {},
   "outputs": [],
   "source": [
    "x_train = x_train.reshape(60000, 784)\n",
    "x_test = x_test.reshape(10000, 784)"
   ]
  },
  {
   "cell_type": "code",
   "execution_count": 7,
   "id": "a19c734c-a709-4ded-846d-f59fa3ab2720",
   "metadata": {},
   "outputs": [
    {
     "data": {
      "text/plain": [
       "(60000, 784)"
      ]
     },
     "execution_count": 7,
     "metadata": {},
     "output_type": "execute_result"
    }
   ],
   "source": [
    "x_train.shape"
   ]
  },
  {
   "cell_type": "code",
   "execution_count": 8,
   "id": "5dde113c-0f03-4e1e-b432-c7cf1c6ac1bb",
   "metadata": {},
   "outputs": [],
   "source": [
    "from tensorflow.keras.utils import to_categorical\n",
    "y_train = to_categorical(y_train, num_classes=10)"
   ]
  },
  {
   "cell_type": "code",
   "execution_count": 9,
   "id": "727f2619-8456-499b-9810-94e8d61ac398",
   "metadata": {},
   "outputs": [],
   "source": [
    "\n",
    "model = Sequential()\n",
    "model.add(Dense(512 , input_shape=(784,), activation='relu'))\n",
    "model.add(Dense(10, activation='softmax'))"
   ]
  },
  {
   "cell_type": "code",
   "execution_count": 10,
   "id": "0eae13d1-c344-478e-b53a-1f0b624187b7",
   "metadata": {},
   "outputs": [],
   "source": [
    "categorical_crossentropy = tf.keras.losses.CategoricalCrossentropy()\n",
    "model.compile(loss=categorical_crossentropy ,  optimizer='adam' , metrics=['accuracy'])"
   ]
  },
  {
   "cell_type": "code",
   "execution_count": 11,
   "id": "04896716-6a61-476a-bf78-9b562277000b",
   "metadata": {},
   "outputs": [
    {
     "name": "stdout",
     "output_type": "stream",
     "text": [
      "Model: \"sequential\"\n",
      "_________________________________________________________________\n",
      " Layer (type)                Output Shape              Param #   \n",
      "=================================================================\n",
      " dense (Dense)               (None, 512)               401920    \n",
      "                                                                 \n",
      " dense_1 (Dense)             (None, 10)                5130      \n",
      "                                                                 \n",
      "=================================================================\n",
      "Total params: 407050 (1.55 MB)\n",
      "Trainable params: 407050 (1.55 MB)\n",
      "Non-trainable params: 0 (0.00 Byte)\n",
      "_________________________________________________________________\n"
     ]
    }
   ],
   "source": [
    "model.summary()"
   ]
  },
  {
   "cell_type": "code",
   "execution_count": 12,
   "id": "ac6e6ef0-3cc0-4941-a2b5-519e1770f9b5",
   "metadata": {},
   "outputs": [
    {
     "name": "stdout",
     "output_type": "stream",
     "text": [
      "Epoch 1/50\n",
      "600/600 [==============================] - 13s 20ms/step - loss: 4.2187 - accuracy: 0.9118\n",
      "Epoch 2/50\n",
      "600/600 [==============================] - 13s 21ms/step - loss: 0.5806 - accuracy: 0.9552\n",
      "Epoch 3/50\n",
      "600/600 [==============================] - 12s 20ms/step - loss: 0.2920 - accuracy: 0.9664\n",
      "Epoch 4/50\n",
      "600/600 [==============================] - 12s 20ms/step - loss: 0.2392 - accuracy: 0.9698\n",
      "Epoch 5/50\n",
      "600/600 [==============================] - 12s 20ms/step - loss: 0.1861 - accuracy: 0.9742\n",
      "Epoch 6/50\n",
      "600/600 [==============================] - 16s 26ms/step - loss: 0.2183 - accuracy: 0.9719\n",
      "Epoch 7/50\n",
      "600/600 [==============================] - 19s 31ms/step - loss: 0.2030 - accuracy: 0.9726\n",
      "Epoch 8/50\n",
      "600/600 [==============================] - 16s 27ms/step - loss: 0.1881 - accuracy: 0.9739\n",
      "Epoch 9/50\n",
      "600/600 [==============================] - 12s 20ms/step - loss: 0.1857 - accuracy: 0.9747\n",
      "Epoch 10/50\n",
      "600/600 [==============================] - 12s 19ms/step - loss: 0.1742 - accuracy: 0.9760\n",
      "Epoch 11/50\n",
      "600/600 [==============================] - 12s 20ms/step - loss: 0.1622 - accuracy: 0.9774\n",
      "Epoch 12/50\n",
      "600/600 [==============================] - 12s 20ms/step - loss: 0.1779 - accuracy: 0.9774\n",
      "Epoch 13/50\n",
      "600/600 [==============================] - 12s 20ms/step - loss: 0.1682 - accuracy: 0.9782\n",
      "Epoch 14/50\n",
      "600/600 [==============================] - 12s 20ms/step - loss: 0.1739 - accuracy: 0.9783\n",
      "Epoch 15/50\n",
      "600/600 [==============================] - 14s 24ms/step - loss: 0.1359 - accuracy: 0.9811\n",
      "Epoch 16/50\n",
      "600/600 [==============================] - 14s 23ms/step - loss: 0.1372 - accuracy: 0.9822\n",
      "Epoch 17/50\n",
      "600/600 [==============================] - 11s 18ms/step - loss: 0.1637 - accuracy: 0.9814\n",
      "Epoch 18/50\n",
      "600/600 [==============================] - 11s 19ms/step - loss: 0.1448 - accuracy: 0.9836\n",
      "Epoch 19/50\n",
      "600/600 [==============================] - 14s 24ms/step - loss: 0.1611 - accuracy: 0.9827\n",
      "Epoch 20/50\n",
      "600/600 [==============================] - 13s 22ms/step - loss: 0.1159 - accuracy: 0.9855\n",
      "Epoch 21/50\n",
      "600/600 [==============================] - 13s 21ms/step - loss: 0.1388 - accuracy: 0.9847\n",
      "Epoch 22/50\n",
      "600/600 [==============================] - 12s 20ms/step - loss: 0.1282 - accuracy: 0.9856\n",
      "Epoch 23/50\n",
      "600/600 [==============================] - 21s 35ms/step - loss: 0.1266 - accuracy: 0.9863\n",
      "Epoch 24/50\n",
      "600/600 [==============================] - 18s 29ms/step - loss: 0.1077 - accuracy: 0.9877\n",
      "Epoch 25/50\n",
      "600/600 [==============================] - 20s 33ms/step - loss: 0.1215 - accuracy: 0.9868\n",
      "Epoch 26/50\n",
      "600/600 [==============================] - 19s 32ms/step - loss: 0.1195 - accuracy: 0.9877\n",
      "Epoch 27/50\n",
      "600/600 [==============================] - 14s 24ms/step - loss: 0.1227 - accuracy: 0.9880\n",
      "Epoch 28/50\n",
      "600/600 [==============================] - 14s 23ms/step - loss: 0.0950 - accuracy: 0.9896\n",
      "Epoch 29/50\n",
      "600/600 [==============================] - 16s 27ms/step - loss: 0.0961 - accuracy: 0.9895\n",
      "Epoch 30/50\n",
      "600/600 [==============================] - 13s 21ms/step - loss: 0.0977 - accuracy: 0.9899\n",
      "Epoch 31/50\n",
      "600/600 [==============================] - 12s 19ms/step - loss: 0.1141 - accuracy: 0.9895\n",
      "Epoch 32/50\n",
      "600/600 [==============================] - 11s 18ms/step - loss: 0.0837 - accuracy: 0.9912\n",
      "Epoch 33/50\n",
      "600/600 [==============================] - 12s 19ms/step - loss: 0.1720 - accuracy: 0.9872\n",
      "Epoch 34/50\n",
      "600/600 [==============================] - 11s 19ms/step - loss: 0.1195 - accuracy: 0.9901\n",
      "Epoch 35/50\n",
      "600/600 [==============================] - 11s 19ms/step - loss: 0.1124 - accuracy: 0.9904\n",
      "Epoch 36/50\n",
      "600/600 [==============================] - 12s 19ms/step - loss: 0.1012 - accuracy: 0.9914\n",
      "Epoch 37/50\n",
      "600/600 [==============================] - 11s 19ms/step - loss: 0.0606 - accuracy: 0.9937\n",
      "Epoch 38/50\n",
      "600/600 [==============================] - 11s 19ms/step - loss: 0.1076 - accuracy: 0.9910\n",
      "Epoch 39/50\n",
      "600/600 [==============================] - 11s 19ms/step - loss: 0.1223 - accuracy: 0.9906\n",
      "Epoch 40/50\n",
      "600/600 [==============================] - 11s 19ms/step - loss: 0.0820 - accuracy: 0.9927\n",
      "Epoch 41/50\n",
      "600/600 [==============================] - 11s 19ms/step - loss: 0.0916 - accuracy: 0.9921\n",
      "Epoch 42/50\n",
      "600/600 [==============================] - 11s 18ms/step - loss: 0.1009 - accuracy: 0.9924\n",
      "Epoch 43/50\n",
      "600/600 [==============================] - 11s 18ms/step - loss: 0.1163 - accuracy: 0.9918\n",
      "Epoch 44/50\n",
      "600/600 [==============================] - 11s 19ms/step - loss: 0.0971 - accuracy: 0.9929\n",
      "Epoch 45/50\n",
      "600/600 [==============================] - 11s 18ms/step - loss: 0.0963 - accuracy: 0.9932\n",
      "Epoch 46/50\n",
      "600/600 [==============================] - 11s 19ms/step - loss: 0.0929 - accuracy: 0.9930\n",
      "Epoch 47/50\n",
      "600/600 [==============================] - 11s 19ms/step - loss: 0.0654 - accuracy: 0.9941\n",
      "Epoch 48/50\n",
      "600/600 [==============================] - 11s 19ms/step - loss: 0.1244 - accuracy: 0.9927\n",
      "Epoch 49/50\n",
      "600/600 [==============================] - 12s 19ms/step - loss: 0.1082 - accuracy: 0.9931\n",
      "Epoch 50/50\n",
      "600/600 [==============================] - 11s 19ms/step - loss: 0.0644 - accuracy: 0.9948\n"
     ]
    },
    {
     "data": {
      "text/plain": [
       "<keras.src.callbacks.History at 0x1e32d56b450>"
      ]
     },
     "execution_count": 12,
     "metadata": {},
     "output_type": "execute_result"
    }
   ],
   "source": [
    "model.fit(\n",
    "    x=x_train,\n",
    "    y=y_train,\n",
    "    batch_size=100,\n",
    "    epochs=50,\n",
    "    verbose='auto',\n",
    "    callbacks=None,\n",
    "    \n",
    ")"
   ]
  },
  {
   "cell_type": "code",
   "execution_count": 13,
   "id": "5a3b00ff-0a78-42d3-937b-7bb0fa364d68",
   "metadata": {},
   "outputs": [],
   "source": [
    "y_test_1 = to_categorical(y_test, num_classes=10)"
   ]
  },
  {
   "cell_type": "code",
   "execution_count": 14,
   "id": "430fdba9-ed10-4130-bdd5-4cb4e51c8c5c",
   "metadata": {},
   "outputs": [
    {
     "data": {
      "text/plain": [
       "array([0., 0., 0., 0., 0., 0., 0., 1., 0., 0.], dtype=float32)"
      ]
     },
     "execution_count": 14,
     "metadata": {},
     "output_type": "execute_result"
    }
   ],
   "source": [
    "y_test_1[0]"
   ]
  },
  {
   "cell_type": "code",
   "execution_count": 17,
   "id": "d12eec03-f8fc-4990-a179-df883ca112a7",
   "metadata": {},
   "outputs": [
    {
     "name": "stdout",
     "output_type": "stream",
     "text": [
      "313/313 [==============================] - 2s 6ms/step\n"
     ]
    },
    {
     "data": {
      "text/plain": [
       "array([[0., 0., 0., ..., 1., 0., 0.],\n",
       "       [0., 0., 1., ..., 0., 0., 0.],\n",
       "       [0., 1., 0., ..., 0., 0., 0.],\n",
       "       ...,\n",
       "       [0., 0., 0., ..., 0., 0., 0.],\n",
       "       [0., 0., 0., ..., 0., 0., 0.],\n",
       "       [0., 0., 0., ..., 0., 0., 0.]], dtype=float32)"
      ]
     },
     "execution_count": 17,
     "metadata": {},
     "output_type": "execute_result"
    }
   ],
   "source": [
    "model.predict(x_test)"
   ]
  },
  {
   "cell_type": "code",
   "execution_count": null,
   "id": "38ae9df0-9dd4-4d34-ba5b-fdf2f4172f88",
   "metadata": {},
   "outputs": [],
   "source": []
  }
 ],
 "metadata": {
  "kernelspec": {
   "display_name": "Python 3 (ipykernel)",
   "language": "python",
   "name": "python3"
  },
  "language_info": {
   "codemirror_mode": {
    "name": "ipython",
    "version": 3
   },
   "file_extension": ".py",
   "mimetype": "text/x-python",
   "name": "python",
   "nbconvert_exporter": "python",
   "pygments_lexer": "ipython3",
   "version": "3.11.5"
  }
 },
 "nbformat": 4,
 "nbformat_minor": 5
}
